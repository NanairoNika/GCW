{
  "nbformat": 4,
  "nbformat_minor": 0,
  "metadata": {
    "colab": {
      "name": "GCW_FV.ipynb",
      "provenance": [],
      "collapsed_sections": []
    },
    "kernelspec": {
      "name": "python3",
      "display_name": "Python 3"
    },
    "widgets": {
      "application/vnd.jupyter.widget-state+json": {
        "fa942c8465a64d8a8e30c19e6e7b4e7b": {
          "model_module": "@jupyter-widgets/controls",
          "model_name": "HBoxModel",
          "state": {
            "_view_name": "HBoxView",
            "_dom_classes": [],
            "_model_name": "HBoxModel",
            "_view_module": "@jupyter-widgets/controls",
            "_model_module_version": "1.5.0",
            "_view_count": null,
            "_view_module_version": "1.5.0",
            "box_style": "",
            "layout": "IPY_MODEL_b00d7062d75d45d39f4351ad204565f5",
            "_model_module": "@jupyter-widgets/controls",
            "children": [
              "IPY_MODEL_854b74d21e4648b2b5482797dd6f2d69",
              "IPY_MODEL_63f311a4674c48dab588e7f1e65bd2c5"
            ]
          }
        },
        "b00d7062d75d45d39f4351ad204565f5": {
          "model_module": "@jupyter-widgets/base",
          "model_name": "LayoutModel",
          "state": {
            "_view_name": "LayoutView",
            "grid_template_rows": null,
            "right": null,
            "justify_content": null,
            "_view_module": "@jupyter-widgets/base",
            "overflow": null,
            "_model_module_version": "1.2.0",
            "_view_count": null,
            "flex_flow": null,
            "width": null,
            "min_width": null,
            "border": null,
            "align_items": null,
            "bottom": null,
            "_model_module": "@jupyter-widgets/base",
            "top": null,
            "grid_column": null,
            "overflow_y": null,
            "overflow_x": null,
            "grid_auto_flow": null,
            "grid_area": null,
            "grid_template_columns": null,
            "flex": null,
            "_model_name": "LayoutModel",
            "justify_items": null,
            "grid_row": null,
            "max_height": null,
            "align_content": null,
            "visibility": null,
            "align_self": null,
            "height": null,
            "min_height": null,
            "padding": null,
            "grid_auto_rows": null,
            "grid_gap": null,
            "max_width": null,
            "order": null,
            "_view_module_version": "1.2.0",
            "grid_template_areas": null,
            "object_position": null,
            "object_fit": null,
            "grid_auto_columns": null,
            "margin": null,
            "display": null,
            "left": null
          }
        },
        "854b74d21e4648b2b5482797dd6f2d69": {
          "model_module": "@jupyter-widgets/controls",
          "model_name": "FloatProgressModel",
          "state": {
            "_view_name": "ProgressView",
            "style": "IPY_MODEL_db24683f137c40d2b5477ddcd96b23da",
            "_dom_classes": [],
            "description": "100%",
            "_model_name": "FloatProgressModel",
            "bar_style": "success",
            "max": 114911,
            "_view_module": "@jupyter-widgets/controls",
            "_model_module_version": "1.5.0",
            "value": 114911,
            "_view_count": null,
            "_view_module_version": "1.5.0",
            "orientation": "horizontal",
            "min": 0,
            "description_tooltip": null,
            "_model_module": "@jupyter-widgets/controls",
            "layout": "IPY_MODEL_a525cd5a7fd44bde991507082a84330e"
          }
        },
        "63f311a4674c48dab588e7f1e65bd2c5": {
          "model_module": "@jupyter-widgets/controls",
          "model_name": "HTMLModel",
          "state": {
            "_view_name": "HTMLView",
            "style": "IPY_MODEL_7b81d85f954440058688a126c15fcec4",
            "_dom_classes": [],
            "description": "",
            "_model_name": "HTMLModel",
            "placeholder": "​",
            "_view_module": "@jupyter-widgets/controls",
            "_model_module_version": "1.5.0",
            "value": " 114911/114911 [10:50&lt;00:00, 176.69it/s]",
            "_view_count": null,
            "_view_module_version": "1.5.0",
            "description_tooltip": null,
            "_model_module": "@jupyter-widgets/controls",
            "layout": "IPY_MODEL_b1ce2a2a745b47a08181c8366181bbf4"
          }
        },
        "db24683f137c40d2b5477ddcd96b23da": {
          "model_module": "@jupyter-widgets/controls",
          "model_name": "ProgressStyleModel",
          "state": {
            "_view_name": "StyleView",
            "_model_name": "ProgressStyleModel",
            "description_width": "initial",
            "_view_module": "@jupyter-widgets/base",
            "_model_module_version": "1.5.0",
            "_view_count": null,
            "_view_module_version": "1.2.0",
            "bar_color": null,
            "_model_module": "@jupyter-widgets/controls"
          }
        },
        "a525cd5a7fd44bde991507082a84330e": {
          "model_module": "@jupyter-widgets/base",
          "model_name": "LayoutModel",
          "state": {
            "_view_name": "LayoutView",
            "grid_template_rows": null,
            "right": null,
            "justify_content": null,
            "_view_module": "@jupyter-widgets/base",
            "overflow": null,
            "_model_module_version": "1.2.0",
            "_view_count": null,
            "flex_flow": null,
            "width": null,
            "min_width": null,
            "border": null,
            "align_items": null,
            "bottom": null,
            "_model_module": "@jupyter-widgets/base",
            "top": null,
            "grid_column": null,
            "overflow_y": null,
            "overflow_x": null,
            "grid_auto_flow": null,
            "grid_area": null,
            "grid_template_columns": null,
            "flex": null,
            "_model_name": "LayoutModel",
            "justify_items": null,
            "grid_row": null,
            "max_height": null,
            "align_content": null,
            "visibility": null,
            "align_self": null,
            "height": null,
            "min_height": null,
            "padding": null,
            "grid_auto_rows": null,
            "grid_gap": null,
            "max_width": null,
            "order": null,
            "_view_module_version": "1.2.0",
            "grid_template_areas": null,
            "object_position": null,
            "object_fit": null,
            "grid_auto_columns": null,
            "margin": null,
            "display": null,
            "left": null
          }
        },
        "7b81d85f954440058688a126c15fcec4": {
          "model_module": "@jupyter-widgets/controls",
          "model_name": "DescriptionStyleModel",
          "state": {
            "_view_name": "StyleView",
            "_model_name": "DescriptionStyleModel",
            "description_width": "",
            "_view_module": "@jupyter-widgets/base",
            "_model_module_version": "1.5.0",
            "_view_count": null,
            "_view_module_version": "1.2.0",
            "_model_module": "@jupyter-widgets/controls"
          }
        },
        "b1ce2a2a745b47a08181c8366181bbf4": {
          "model_module": "@jupyter-widgets/base",
          "model_name": "LayoutModel",
          "state": {
            "_view_name": "LayoutView",
            "grid_template_rows": null,
            "right": null,
            "justify_content": null,
            "_view_module": "@jupyter-widgets/base",
            "overflow": null,
            "_model_module_version": "1.2.0",
            "_view_count": null,
            "flex_flow": null,
            "width": null,
            "min_width": null,
            "border": null,
            "align_items": null,
            "bottom": null,
            "_model_module": "@jupyter-widgets/base",
            "top": null,
            "grid_column": null,
            "overflow_y": null,
            "overflow_x": null,
            "grid_auto_flow": null,
            "grid_area": null,
            "grid_template_columns": null,
            "flex": null,
            "_model_name": "LayoutModel",
            "justify_items": null,
            "grid_row": null,
            "max_height": null,
            "align_content": null,
            "visibility": null,
            "align_self": null,
            "height": null,
            "min_height": null,
            "padding": null,
            "grid_auto_rows": null,
            "grid_gap": null,
            "max_width": null,
            "order": null,
            "_view_module_version": "1.2.0",
            "grid_template_areas": null,
            "object_position": null,
            "object_fit": null,
            "grid_auto_columns": null,
            "margin": null,
            "display": null,
            "left": null
          }
        },
        "0005f768a1864702a7bbb91d6f497b62": {
          "model_module": "@jupyter-widgets/controls",
          "model_name": "HBoxModel",
          "state": {
            "_view_name": "HBoxView",
            "_dom_classes": [],
            "_model_name": "HBoxModel",
            "_view_module": "@jupyter-widgets/controls",
            "_model_module_version": "1.5.0",
            "_view_count": null,
            "_view_module_version": "1.5.0",
            "box_style": "",
            "layout": "IPY_MODEL_53a5711f76d047cab34c1c0770e0a83b",
            "_model_module": "@jupyter-widgets/controls",
            "children": [
              "IPY_MODEL_55214ffe09f641b4bfa7e71604239243",
              "IPY_MODEL_ddda2557de4645348d1c0e68546556cf"
            ]
          }
        },
        "53a5711f76d047cab34c1c0770e0a83b": {
          "model_module": "@jupyter-widgets/base",
          "model_name": "LayoutModel",
          "state": {
            "_view_name": "LayoutView",
            "grid_template_rows": null,
            "right": null,
            "justify_content": null,
            "_view_module": "@jupyter-widgets/base",
            "overflow": null,
            "_model_module_version": "1.2.0",
            "_view_count": null,
            "flex_flow": null,
            "width": null,
            "min_width": null,
            "border": null,
            "align_items": null,
            "bottom": null,
            "_model_module": "@jupyter-widgets/base",
            "top": null,
            "grid_column": null,
            "overflow_y": null,
            "overflow_x": null,
            "grid_auto_flow": null,
            "grid_area": null,
            "grid_template_columns": null,
            "flex": null,
            "_model_name": "LayoutModel",
            "justify_items": null,
            "grid_row": null,
            "max_height": null,
            "align_content": null,
            "visibility": null,
            "align_self": null,
            "height": null,
            "min_height": null,
            "padding": null,
            "grid_auto_rows": null,
            "grid_gap": null,
            "max_width": null,
            "order": null,
            "_view_module_version": "1.2.0",
            "grid_template_areas": null,
            "object_position": null,
            "object_fit": null,
            "grid_auto_columns": null,
            "margin": null,
            "display": null,
            "left": null
          }
        },
        "55214ffe09f641b4bfa7e71604239243": {
          "model_module": "@jupyter-widgets/controls",
          "model_name": "FloatProgressModel",
          "state": {
            "_view_name": "ProgressView",
            "style": "IPY_MODEL_1f5ddb18c3ae4855a0c34f6363646a0e",
            "_dom_classes": [],
            "description": "100%",
            "_model_name": "FloatProgressModel",
            "bar_style": "success",
            "max": 111923,
            "_view_module": "@jupyter-widgets/controls",
            "_model_module_version": "1.5.0",
            "value": 111923,
            "_view_count": null,
            "_view_module_version": "1.5.0",
            "orientation": "horizontal",
            "min": 0,
            "description_tooltip": null,
            "_model_module": "@jupyter-widgets/controls",
            "layout": "IPY_MODEL_2660560b533c44fab724f7efc339745a"
          }
        },
        "ddda2557de4645348d1c0e68546556cf": {
          "model_module": "@jupyter-widgets/controls",
          "model_name": "HTMLModel",
          "state": {
            "_view_name": "HTMLView",
            "style": "IPY_MODEL_304b1cb5327144f697eaef8f6c0bb14c",
            "_dom_classes": [],
            "description": "",
            "_model_name": "HTMLModel",
            "placeholder": "​",
            "_view_module": "@jupyter-widgets/controls",
            "_model_module_version": "1.5.0",
            "value": " 111923/111923 [05:18&lt;00:00, 351.20it/s]",
            "_view_count": null,
            "_view_module_version": "1.5.0",
            "description_tooltip": null,
            "_model_module": "@jupyter-widgets/controls",
            "layout": "IPY_MODEL_8cbde0e18d3a4e418267a26b31518405"
          }
        },
        "1f5ddb18c3ae4855a0c34f6363646a0e": {
          "model_module": "@jupyter-widgets/controls",
          "model_name": "ProgressStyleModel",
          "state": {
            "_view_name": "StyleView",
            "_model_name": "ProgressStyleModel",
            "description_width": "initial",
            "_view_module": "@jupyter-widgets/base",
            "_model_module_version": "1.5.0",
            "_view_count": null,
            "_view_module_version": "1.2.0",
            "bar_color": null,
            "_model_module": "@jupyter-widgets/controls"
          }
        },
        "2660560b533c44fab724f7efc339745a": {
          "model_module": "@jupyter-widgets/base",
          "model_name": "LayoutModel",
          "state": {
            "_view_name": "LayoutView",
            "grid_template_rows": null,
            "right": null,
            "justify_content": null,
            "_view_module": "@jupyter-widgets/base",
            "overflow": null,
            "_model_module_version": "1.2.0",
            "_view_count": null,
            "flex_flow": null,
            "width": null,
            "min_width": null,
            "border": null,
            "align_items": null,
            "bottom": null,
            "_model_module": "@jupyter-widgets/base",
            "top": null,
            "grid_column": null,
            "overflow_y": null,
            "overflow_x": null,
            "grid_auto_flow": null,
            "grid_area": null,
            "grid_template_columns": null,
            "flex": null,
            "_model_name": "LayoutModel",
            "justify_items": null,
            "grid_row": null,
            "max_height": null,
            "align_content": null,
            "visibility": null,
            "align_self": null,
            "height": null,
            "min_height": null,
            "padding": null,
            "grid_auto_rows": null,
            "grid_gap": null,
            "max_width": null,
            "order": null,
            "_view_module_version": "1.2.0",
            "grid_template_areas": null,
            "object_position": null,
            "object_fit": null,
            "grid_auto_columns": null,
            "margin": null,
            "display": null,
            "left": null
          }
        },
        "304b1cb5327144f697eaef8f6c0bb14c": {
          "model_module": "@jupyter-widgets/controls",
          "model_name": "DescriptionStyleModel",
          "state": {
            "_view_name": "StyleView",
            "_model_name": "DescriptionStyleModel",
            "description_width": "",
            "_view_module": "@jupyter-widgets/base",
            "_model_module_version": "1.5.0",
            "_view_count": null,
            "_view_module_version": "1.2.0",
            "_model_module": "@jupyter-widgets/controls"
          }
        },
        "8cbde0e18d3a4e418267a26b31518405": {
          "model_module": "@jupyter-widgets/base",
          "model_name": "LayoutModel",
          "state": {
            "_view_name": "LayoutView",
            "grid_template_rows": null,
            "right": null,
            "justify_content": null,
            "_view_module": "@jupyter-widgets/base",
            "overflow": null,
            "_model_module_version": "1.2.0",
            "_view_count": null,
            "flex_flow": null,
            "width": null,
            "min_width": null,
            "border": null,
            "align_items": null,
            "bottom": null,
            "_model_module": "@jupyter-widgets/base",
            "top": null,
            "grid_column": null,
            "overflow_y": null,
            "overflow_x": null,
            "grid_auto_flow": null,
            "grid_area": null,
            "grid_template_columns": null,
            "flex": null,
            "_model_name": "LayoutModel",
            "justify_items": null,
            "grid_row": null,
            "max_height": null,
            "align_content": null,
            "visibility": null,
            "align_self": null,
            "height": null,
            "min_height": null,
            "padding": null,
            "grid_auto_rows": null,
            "grid_gap": null,
            "max_width": null,
            "order": null,
            "_view_module_version": "1.2.0",
            "grid_template_areas": null,
            "object_position": null,
            "object_fit": null,
            "grid_auto_columns": null,
            "margin": null,
            "display": null,
            "left": null
          }
        },
        "a8bab8b2df114061b270bb5912bb536f": {
          "model_module": "@jupyter-widgets/controls",
          "model_name": "HBoxModel",
          "state": {
            "_view_name": "HBoxView",
            "_dom_classes": [],
            "_model_name": "HBoxModel",
            "_view_module": "@jupyter-widgets/controls",
            "_model_module_version": "1.5.0",
            "_view_count": null,
            "_view_module_version": "1.5.0",
            "box_style": "",
            "layout": "IPY_MODEL_bb9dde8947b84239bb5d775947dee4db",
            "_model_module": "@jupyter-widgets/controls",
            "children": [
              "IPY_MODEL_9fbcd836ef484489ad1fbecc9f96aded",
              "IPY_MODEL_4ac9286178184bc68d9d6c5059f58bce"
            ]
          }
        },
        "bb9dde8947b84239bb5d775947dee4db": {
          "model_module": "@jupyter-widgets/base",
          "model_name": "LayoutModel",
          "state": {
            "_view_name": "LayoutView",
            "grid_template_rows": null,
            "right": null,
            "justify_content": null,
            "_view_module": "@jupyter-widgets/base",
            "overflow": null,
            "_model_module_version": "1.2.0",
            "_view_count": null,
            "flex_flow": null,
            "width": null,
            "min_width": null,
            "border": null,
            "align_items": null,
            "bottom": null,
            "_model_module": "@jupyter-widgets/base",
            "top": null,
            "grid_column": null,
            "overflow_y": null,
            "overflow_x": null,
            "grid_auto_flow": null,
            "grid_area": null,
            "grid_template_columns": null,
            "flex": null,
            "_model_name": "LayoutModel",
            "justify_items": null,
            "grid_row": null,
            "max_height": null,
            "align_content": null,
            "visibility": null,
            "align_self": null,
            "height": null,
            "min_height": null,
            "padding": null,
            "grid_auto_rows": null,
            "grid_gap": null,
            "max_width": null,
            "order": null,
            "_view_module_version": "1.2.0",
            "grid_template_areas": null,
            "object_position": null,
            "object_fit": null,
            "grid_auto_columns": null,
            "margin": null,
            "display": null,
            "left": null
          }
        },
        "9fbcd836ef484489ad1fbecc9f96aded": {
          "model_module": "@jupyter-widgets/controls",
          "model_name": "FloatProgressModel",
          "state": {
            "_view_name": "ProgressView",
            "style": "IPY_MODEL_a482f64e9cf14f6a9ca3908f08f0db8a",
            "_dom_classes": [],
            "description": "100%",
            "_model_name": "FloatProgressModel",
            "bar_style": "success",
            "max": 19791,
            "_view_module": "@jupyter-widgets/controls",
            "_model_module_version": "1.5.0",
            "value": 19791,
            "_view_count": null,
            "_view_module_version": "1.5.0",
            "orientation": "horizontal",
            "min": 0,
            "description_tooltip": null,
            "_model_module": "@jupyter-widgets/controls",
            "layout": "IPY_MODEL_867d25699f5d4b2085eca1183ae2921b"
          }
        },
        "4ac9286178184bc68d9d6c5059f58bce": {
          "model_module": "@jupyter-widgets/controls",
          "model_name": "HTMLModel",
          "state": {
            "_view_name": "HTMLView",
            "style": "IPY_MODEL_49db31bd5b8d4fc7996080d5f7a5ec66",
            "_dom_classes": [],
            "description": "",
            "_model_name": "HTMLModel",
            "placeholder": "​",
            "_view_module": "@jupyter-widgets/controls",
            "_model_module_version": "1.5.0",
            "value": " 19791/19791 [01:02&lt;00:00, 315.55it/s]",
            "_view_count": null,
            "_view_module_version": "1.5.0",
            "description_tooltip": null,
            "_model_module": "@jupyter-widgets/controls",
            "layout": "IPY_MODEL_c5fb34978836411188de709c84ce0696"
          }
        },
        "a482f64e9cf14f6a9ca3908f08f0db8a": {
          "model_module": "@jupyter-widgets/controls",
          "model_name": "ProgressStyleModel",
          "state": {
            "_view_name": "StyleView",
            "_model_name": "ProgressStyleModel",
            "description_width": "initial",
            "_view_module": "@jupyter-widgets/base",
            "_model_module_version": "1.5.0",
            "_view_count": null,
            "_view_module_version": "1.2.0",
            "bar_color": null,
            "_model_module": "@jupyter-widgets/controls"
          }
        },
        "867d25699f5d4b2085eca1183ae2921b": {
          "model_module": "@jupyter-widgets/base",
          "model_name": "LayoutModel",
          "state": {
            "_view_name": "LayoutView",
            "grid_template_rows": null,
            "right": null,
            "justify_content": null,
            "_view_module": "@jupyter-widgets/base",
            "overflow": null,
            "_model_module_version": "1.2.0",
            "_view_count": null,
            "flex_flow": null,
            "width": null,
            "min_width": null,
            "border": null,
            "align_items": null,
            "bottom": null,
            "_model_module": "@jupyter-widgets/base",
            "top": null,
            "grid_column": null,
            "overflow_y": null,
            "overflow_x": null,
            "grid_auto_flow": null,
            "grid_area": null,
            "grid_template_columns": null,
            "flex": null,
            "_model_name": "LayoutModel",
            "justify_items": null,
            "grid_row": null,
            "max_height": null,
            "align_content": null,
            "visibility": null,
            "align_self": null,
            "height": null,
            "min_height": null,
            "padding": null,
            "grid_auto_rows": null,
            "grid_gap": null,
            "max_width": null,
            "order": null,
            "_view_module_version": "1.2.0",
            "grid_template_areas": null,
            "object_position": null,
            "object_fit": null,
            "grid_auto_columns": null,
            "margin": null,
            "display": null,
            "left": null
          }
        },
        "49db31bd5b8d4fc7996080d5f7a5ec66": {
          "model_module": "@jupyter-widgets/controls",
          "model_name": "DescriptionStyleModel",
          "state": {
            "_view_name": "StyleView",
            "_model_name": "DescriptionStyleModel",
            "description_width": "",
            "_view_module": "@jupyter-widgets/base",
            "_model_module_version": "1.5.0",
            "_view_count": null,
            "_view_module_version": "1.2.0",
            "_model_module": "@jupyter-widgets/controls"
          }
        },
        "c5fb34978836411188de709c84ce0696": {
          "model_module": "@jupyter-widgets/base",
          "model_name": "LayoutModel",
          "state": {
            "_view_name": "LayoutView",
            "grid_template_rows": null,
            "right": null,
            "justify_content": null,
            "_view_module": "@jupyter-widgets/base",
            "overflow": null,
            "_model_module_version": "1.2.0",
            "_view_count": null,
            "flex_flow": null,
            "width": null,
            "min_width": null,
            "border": null,
            "align_items": null,
            "bottom": null,
            "_model_module": "@jupyter-widgets/base",
            "top": null,
            "grid_column": null,
            "overflow_y": null,
            "overflow_x": null,
            "grid_auto_flow": null,
            "grid_area": null,
            "grid_template_columns": null,
            "flex": null,
            "_model_name": "LayoutModel",
            "justify_items": null,
            "grid_row": null,
            "max_height": null,
            "align_content": null,
            "visibility": null,
            "align_self": null,
            "height": null,
            "min_height": null,
            "padding": null,
            "grid_auto_rows": null,
            "grid_gap": null,
            "max_width": null,
            "order": null,
            "_view_module_version": "1.2.0",
            "grid_template_areas": null,
            "object_position": null,
            "object_fit": null,
            "grid_auto_columns": null,
            "margin": null,
            "display": null,
            "left": null
          }
        },
        "dd966d4b6f584132a3fb0eb802b5a15d": {
          "model_module": "@jupyter-widgets/controls",
          "model_name": "HBoxModel",
          "state": {
            "_view_name": "HBoxView",
            "_dom_classes": [],
            "_model_name": "HBoxModel",
            "_view_module": "@jupyter-widgets/controls",
            "_model_module_version": "1.5.0",
            "_view_count": null,
            "_view_module_version": "1.5.0",
            "box_style": "",
            "layout": "IPY_MODEL_5ca060d4b19b40718aa7bf8609ea8357",
            "_model_module": "@jupyter-widgets/controls",
            "children": [
              "IPY_MODEL_065651d20a404fafbb761c25ebceeeb3",
              "IPY_MODEL_fccb5b985e6348729aad938a0fb894fb"
            ]
          }
        },
        "5ca060d4b19b40718aa7bf8609ea8357": {
          "model_module": "@jupyter-widgets/base",
          "model_name": "LayoutModel",
          "state": {
            "_view_name": "LayoutView",
            "grid_template_rows": null,
            "right": null,
            "justify_content": null,
            "_view_module": "@jupyter-widgets/base",
            "overflow": null,
            "_model_module_version": "1.2.0",
            "_view_count": null,
            "flex_flow": null,
            "width": null,
            "min_width": null,
            "border": null,
            "align_items": null,
            "bottom": null,
            "_model_module": "@jupyter-widgets/base",
            "top": null,
            "grid_column": null,
            "overflow_y": null,
            "overflow_x": null,
            "grid_auto_flow": null,
            "grid_area": null,
            "grid_template_columns": null,
            "flex": null,
            "_model_name": "LayoutModel",
            "justify_items": null,
            "grid_row": null,
            "max_height": null,
            "align_content": null,
            "visibility": null,
            "align_self": null,
            "height": null,
            "min_height": null,
            "padding": null,
            "grid_auto_rows": null,
            "grid_gap": null,
            "max_width": null,
            "order": null,
            "_view_module_version": "1.2.0",
            "grid_template_areas": null,
            "object_position": null,
            "object_fit": null,
            "grid_auto_columns": null,
            "margin": null,
            "display": null,
            "left": null
          }
        },
        "065651d20a404fafbb761c25ebceeeb3": {
          "model_module": "@jupyter-widgets/controls",
          "model_name": "FloatProgressModel",
          "state": {
            "_view_name": "ProgressView",
            "style": "IPY_MODEL_fba7d91920ab4885b8899aa1fa74f20c",
            "_dom_classes": [],
            "description": "100%",
            "_model_name": "FloatProgressModel",
            "bar_style": "success",
            "max": 310,
            "_view_module": "@jupyter-widgets/controls",
            "_model_module_version": "1.5.0",
            "value": 310,
            "_view_count": null,
            "_view_module_version": "1.5.0",
            "orientation": "horizontal",
            "min": 0,
            "description_tooltip": null,
            "_model_module": "@jupyter-widgets/controls",
            "layout": "IPY_MODEL_762565b8cbdf4c6fa867665c8778555b"
          }
        },
        "fccb5b985e6348729aad938a0fb894fb": {
          "model_module": "@jupyter-widgets/controls",
          "model_name": "HTMLModel",
          "state": {
            "_view_name": "HTMLView",
            "style": "IPY_MODEL_f74a094265314b6695c6659aa5a8d973",
            "_dom_classes": [],
            "description": "",
            "_model_name": "HTMLModel",
            "placeholder": "​",
            "_view_module": "@jupyter-widgets/controls",
            "_model_module_version": "1.5.0",
            "value": " 310/310 [03:43&lt;00:00,  1.39it/s]",
            "_view_count": null,
            "_view_module_version": "1.5.0",
            "description_tooltip": null,
            "_model_module": "@jupyter-widgets/controls",
            "layout": "IPY_MODEL_ea956231a69745c596deb892daf54cbf"
          }
        },
        "fba7d91920ab4885b8899aa1fa74f20c": {
          "model_module": "@jupyter-widgets/controls",
          "model_name": "ProgressStyleModel",
          "state": {
            "_view_name": "StyleView",
            "_model_name": "ProgressStyleModel",
            "description_width": "initial",
            "_view_module": "@jupyter-widgets/base",
            "_model_module_version": "1.5.0",
            "_view_count": null,
            "_view_module_version": "1.2.0",
            "bar_color": null,
            "_model_module": "@jupyter-widgets/controls"
          }
        },
        "762565b8cbdf4c6fa867665c8778555b": {
          "model_module": "@jupyter-widgets/base",
          "model_name": "LayoutModel",
          "state": {
            "_view_name": "LayoutView",
            "grid_template_rows": null,
            "right": null,
            "justify_content": null,
            "_view_module": "@jupyter-widgets/base",
            "overflow": null,
            "_model_module_version": "1.2.0",
            "_view_count": null,
            "flex_flow": null,
            "width": null,
            "min_width": null,
            "border": null,
            "align_items": null,
            "bottom": null,
            "_model_module": "@jupyter-widgets/base",
            "top": null,
            "grid_column": null,
            "overflow_y": null,
            "overflow_x": null,
            "grid_auto_flow": null,
            "grid_area": null,
            "grid_template_columns": null,
            "flex": null,
            "_model_name": "LayoutModel",
            "justify_items": null,
            "grid_row": null,
            "max_height": null,
            "align_content": null,
            "visibility": null,
            "align_self": null,
            "height": null,
            "min_height": null,
            "padding": null,
            "grid_auto_rows": null,
            "grid_gap": null,
            "max_width": null,
            "order": null,
            "_view_module_version": "1.2.0",
            "grid_template_areas": null,
            "object_position": null,
            "object_fit": null,
            "grid_auto_columns": null,
            "margin": null,
            "display": null,
            "left": null
          }
        },
        "f74a094265314b6695c6659aa5a8d973": {
          "model_module": "@jupyter-widgets/controls",
          "model_name": "DescriptionStyleModel",
          "state": {
            "_view_name": "StyleView",
            "_model_name": "DescriptionStyleModel",
            "description_width": "",
            "_view_module": "@jupyter-widgets/base",
            "_model_module_version": "1.5.0",
            "_view_count": null,
            "_view_module_version": "1.2.0",
            "_model_module": "@jupyter-widgets/controls"
          }
        },
        "ea956231a69745c596deb892daf54cbf": {
          "model_module": "@jupyter-widgets/base",
          "model_name": "LayoutModel",
          "state": {
            "_view_name": "LayoutView",
            "grid_template_rows": null,
            "right": null,
            "justify_content": null,
            "_view_module": "@jupyter-widgets/base",
            "overflow": null,
            "_model_module_version": "1.2.0",
            "_view_count": null,
            "flex_flow": null,
            "width": null,
            "min_width": null,
            "border": null,
            "align_items": null,
            "bottom": null,
            "_model_module": "@jupyter-widgets/base",
            "top": null,
            "grid_column": null,
            "overflow_y": null,
            "overflow_x": null,
            "grid_auto_flow": null,
            "grid_area": null,
            "grid_template_columns": null,
            "flex": null,
            "_model_name": "LayoutModel",
            "justify_items": null,
            "grid_row": null,
            "max_height": null,
            "align_content": null,
            "visibility": null,
            "align_self": null,
            "height": null,
            "min_height": null,
            "padding": null,
            "grid_auto_rows": null,
            "grid_gap": null,
            "max_width": null,
            "order": null,
            "_view_module_version": "1.2.0",
            "grid_template_areas": null,
            "object_position": null,
            "object_fit": null,
            "grid_auto_columns": null,
            "margin": null,
            "display": null,
            "left": null
          }
        },
        "47a36bff774545c689be8a9bc0da4208": {
          "model_module": "@jupyter-widgets/controls",
          "model_name": "HBoxModel",
          "state": {
            "_view_name": "HBoxView",
            "_dom_classes": [],
            "_model_name": "HBoxModel",
            "_view_module": "@jupyter-widgets/controls",
            "_model_module_version": "1.5.0",
            "_view_count": null,
            "_view_module_version": "1.5.0",
            "box_style": "",
            "layout": "IPY_MODEL_c4b6ea99cbd5454890395738162695d2",
            "_model_module": "@jupyter-widgets/controls",
            "children": [
              "IPY_MODEL_7066079a25e7496dac1de1e55f4aaf55",
              "IPY_MODEL_ec8e236f7290485e93f43b6128f06523"
            ]
          }
        },
        "c4b6ea99cbd5454890395738162695d2": {
          "model_module": "@jupyter-widgets/base",
          "model_name": "LayoutModel",
          "state": {
            "_view_name": "LayoutView",
            "grid_template_rows": null,
            "right": null,
            "justify_content": null,
            "_view_module": "@jupyter-widgets/base",
            "overflow": null,
            "_model_module_version": "1.2.0",
            "_view_count": null,
            "flex_flow": null,
            "width": null,
            "min_width": null,
            "border": null,
            "align_items": null,
            "bottom": null,
            "_model_module": "@jupyter-widgets/base",
            "top": null,
            "grid_column": null,
            "overflow_y": null,
            "overflow_x": null,
            "grid_auto_flow": null,
            "grid_area": null,
            "grid_template_columns": null,
            "flex": null,
            "_model_name": "LayoutModel",
            "justify_items": null,
            "grid_row": null,
            "max_height": null,
            "align_content": null,
            "visibility": null,
            "align_self": null,
            "height": null,
            "min_height": null,
            "padding": null,
            "grid_auto_rows": null,
            "grid_gap": null,
            "max_width": null,
            "order": null,
            "_view_module_version": "1.2.0",
            "grid_template_areas": null,
            "object_position": null,
            "object_fit": null,
            "grid_auto_columns": null,
            "margin": null,
            "display": null,
            "left": null
          }
        },
        "7066079a25e7496dac1de1e55f4aaf55": {
          "model_module": "@jupyter-widgets/controls",
          "model_name": "FloatProgressModel",
          "state": {
            "_view_name": "ProgressView",
            "style": "IPY_MODEL_96d2e5a95ba842b19a78455fea727d24",
            "_dom_classes": [],
            "description": "100%",
            "_model_name": "FloatProgressModel",
            "bar_style": "success",
            "max": 2046,
            "_view_module": "@jupyter-widgets/controls",
            "_model_module_version": "1.5.0",
            "value": 2046,
            "_view_count": null,
            "_view_module_version": "1.5.0",
            "orientation": "horizontal",
            "min": 0,
            "description_tooltip": null,
            "_model_module": "@jupyter-widgets/controls",
            "layout": "IPY_MODEL_152f7137c4c54667b593e4beefea4467"
          }
        },
        "ec8e236f7290485e93f43b6128f06523": {
          "model_module": "@jupyter-widgets/controls",
          "model_name": "HTMLModel",
          "state": {
            "_view_name": "HTMLView",
            "style": "IPY_MODEL_5ddd126c03034fdca6b5ecc6ac06dad9",
            "_dom_classes": [],
            "description": "",
            "_model_name": "HTMLModel",
            "placeholder": "​",
            "_view_module": "@jupyter-widgets/controls",
            "_model_module_version": "1.5.0",
            "value": " 2046/2046 [03:42&lt;00:00,  9.20it/s]",
            "_view_count": null,
            "_view_module_version": "1.5.0",
            "description_tooltip": null,
            "_model_module": "@jupyter-widgets/controls",
            "layout": "IPY_MODEL_3f7ba7c5f12d4fe3a2e77b9535f395e0"
          }
        },
        "96d2e5a95ba842b19a78455fea727d24": {
          "model_module": "@jupyter-widgets/controls",
          "model_name": "ProgressStyleModel",
          "state": {
            "_view_name": "StyleView",
            "_model_name": "ProgressStyleModel",
            "description_width": "initial",
            "_view_module": "@jupyter-widgets/base",
            "_model_module_version": "1.5.0",
            "_view_count": null,
            "_view_module_version": "1.2.0",
            "bar_color": null,
            "_model_module": "@jupyter-widgets/controls"
          }
        },
        "152f7137c4c54667b593e4beefea4467": {
          "model_module": "@jupyter-widgets/base",
          "model_name": "LayoutModel",
          "state": {
            "_view_name": "LayoutView",
            "grid_template_rows": null,
            "right": null,
            "justify_content": null,
            "_view_module": "@jupyter-widgets/base",
            "overflow": null,
            "_model_module_version": "1.2.0",
            "_view_count": null,
            "flex_flow": null,
            "width": null,
            "min_width": null,
            "border": null,
            "align_items": null,
            "bottom": null,
            "_model_module": "@jupyter-widgets/base",
            "top": null,
            "grid_column": null,
            "overflow_y": null,
            "overflow_x": null,
            "grid_auto_flow": null,
            "grid_area": null,
            "grid_template_columns": null,
            "flex": null,
            "_model_name": "LayoutModel",
            "justify_items": null,
            "grid_row": null,
            "max_height": null,
            "align_content": null,
            "visibility": null,
            "align_self": null,
            "height": null,
            "min_height": null,
            "padding": null,
            "grid_auto_rows": null,
            "grid_gap": null,
            "max_width": null,
            "order": null,
            "_view_module_version": "1.2.0",
            "grid_template_areas": null,
            "object_position": null,
            "object_fit": null,
            "grid_auto_columns": null,
            "margin": null,
            "display": null,
            "left": null
          }
        },
        "5ddd126c03034fdca6b5ecc6ac06dad9": {
          "model_module": "@jupyter-widgets/controls",
          "model_name": "DescriptionStyleModel",
          "state": {
            "_view_name": "StyleView",
            "_model_name": "DescriptionStyleModel",
            "description_width": "",
            "_view_module": "@jupyter-widgets/base",
            "_model_module_version": "1.5.0",
            "_view_count": null,
            "_view_module_version": "1.2.0",
            "_model_module": "@jupyter-widgets/controls"
          }
        },
        "3f7ba7c5f12d4fe3a2e77b9535f395e0": {
          "model_module": "@jupyter-widgets/base",
          "model_name": "LayoutModel",
          "state": {
            "_view_name": "LayoutView",
            "grid_template_rows": null,
            "right": null,
            "justify_content": null,
            "_view_module": "@jupyter-widgets/base",
            "overflow": null,
            "_model_module_version": "1.2.0",
            "_view_count": null,
            "flex_flow": null,
            "width": null,
            "min_width": null,
            "border": null,
            "align_items": null,
            "bottom": null,
            "_model_module": "@jupyter-widgets/base",
            "top": null,
            "grid_column": null,
            "overflow_y": null,
            "overflow_x": null,
            "grid_auto_flow": null,
            "grid_area": null,
            "grid_template_columns": null,
            "flex": null,
            "_model_name": "LayoutModel",
            "justify_items": null,
            "grid_row": null,
            "max_height": null,
            "align_content": null,
            "visibility": null,
            "align_self": null,
            "height": null,
            "min_height": null,
            "padding": null,
            "grid_auto_rows": null,
            "grid_gap": null,
            "max_width": null,
            "order": null,
            "_view_module_version": "1.2.0",
            "grid_template_areas": null,
            "object_position": null,
            "object_fit": null,
            "grid_auto_columns": null,
            "margin": null,
            "display": null,
            "left": null
          }
        },
        "445302ca925443a689ed19925ea463c6": {
          "model_module": "@jupyter-widgets/controls",
          "model_name": "HBoxModel",
          "state": {
            "_view_name": "HBoxView",
            "_dom_classes": [],
            "_model_name": "HBoxModel",
            "_view_module": "@jupyter-widgets/controls",
            "_model_module_version": "1.5.0",
            "_view_count": null,
            "_view_module_version": "1.5.0",
            "box_style": "",
            "layout": "IPY_MODEL_fdafa800dfe041d6bb62f45eec74e0a2",
            "_model_module": "@jupyter-widgets/controls",
            "children": [
              "IPY_MODEL_b4596d0c27874578a61b5c2de48d3295",
              "IPY_MODEL_e0e4542b8c3c4c6c8936ca7c7a6889ce"
            ]
          }
        },
        "fdafa800dfe041d6bb62f45eec74e0a2": {
          "model_module": "@jupyter-widgets/base",
          "model_name": "LayoutModel",
          "state": {
            "_view_name": "LayoutView",
            "grid_template_rows": null,
            "right": null,
            "justify_content": null,
            "_view_module": "@jupyter-widgets/base",
            "overflow": null,
            "_model_module_version": "1.2.0",
            "_view_count": null,
            "flex_flow": null,
            "width": null,
            "min_width": null,
            "border": null,
            "align_items": null,
            "bottom": null,
            "_model_module": "@jupyter-widgets/base",
            "top": null,
            "grid_column": null,
            "overflow_y": null,
            "overflow_x": null,
            "grid_auto_flow": null,
            "grid_area": null,
            "grid_template_columns": null,
            "flex": null,
            "_model_name": "LayoutModel",
            "justify_items": null,
            "grid_row": null,
            "max_height": null,
            "align_content": null,
            "visibility": null,
            "align_self": null,
            "height": null,
            "min_height": null,
            "padding": null,
            "grid_auto_rows": null,
            "grid_gap": null,
            "max_width": null,
            "order": null,
            "_view_module_version": "1.2.0",
            "grid_template_areas": null,
            "object_position": null,
            "object_fit": null,
            "grid_auto_columns": null,
            "margin": null,
            "display": null,
            "left": null
          }
        },
        "b4596d0c27874578a61b5c2de48d3295": {
          "model_module": "@jupyter-widgets/controls",
          "model_name": "FloatProgressModel",
          "state": {
            "_view_name": "ProgressView",
            "style": "IPY_MODEL_96b47c64da8e47a4ad4f3ecf8982a90c",
            "_dom_classes": [],
            "description": "100%",
            "_model_name": "FloatProgressModel",
            "bar_style": "success",
            "max": 374,
            "_view_module": "@jupyter-widgets/controls",
            "_model_module_version": "1.5.0",
            "value": 374,
            "_view_count": null,
            "_view_module_version": "1.5.0",
            "orientation": "horizontal",
            "min": 0,
            "description_tooltip": null,
            "_model_module": "@jupyter-widgets/controls",
            "layout": "IPY_MODEL_6c54696d21324aeeafed440d33260632"
          }
        },
        "e0e4542b8c3c4c6c8936ca7c7a6889ce": {
          "model_module": "@jupyter-widgets/controls",
          "model_name": "HTMLModel",
          "state": {
            "_view_name": "HTMLView",
            "style": "IPY_MODEL_eca25cb970b14dfbaf24499f9c6494a7",
            "_dom_classes": [],
            "description": "",
            "_model_name": "HTMLModel",
            "placeholder": "​",
            "_view_module": "@jupyter-widgets/controls",
            "_model_module_version": "1.5.0",
            "value": " 374/374 [00:01&lt;00:00, 250.67it/s]",
            "_view_count": null,
            "_view_module_version": "1.5.0",
            "description_tooltip": null,
            "_model_module": "@jupyter-widgets/controls",
            "layout": "IPY_MODEL_2863b8e5772241359d1fabea0ba8d071"
          }
        },
        "96b47c64da8e47a4ad4f3ecf8982a90c": {
          "model_module": "@jupyter-widgets/controls",
          "model_name": "ProgressStyleModel",
          "state": {
            "_view_name": "StyleView",
            "_model_name": "ProgressStyleModel",
            "description_width": "initial",
            "_view_module": "@jupyter-widgets/base",
            "_model_module_version": "1.5.0",
            "_view_count": null,
            "_view_module_version": "1.2.0",
            "bar_color": null,
            "_model_module": "@jupyter-widgets/controls"
          }
        },
        "6c54696d21324aeeafed440d33260632": {
          "model_module": "@jupyter-widgets/base",
          "model_name": "LayoutModel",
          "state": {
            "_view_name": "LayoutView",
            "grid_template_rows": null,
            "right": null,
            "justify_content": null,
            "_view_module": "@jupyter-widgets/base",
            "overflow": null,
            "_model_module_version": "1.2.0",
            "_view_count": null,
            "flex_flow": null,
            "width": null,
            "min_width": null,
            "border": null,
            "align_items": null,
            "bottom": null,
            "_model_module": "@jupyter-widgets/base",
            "top": null,
            "grid_column": null,
            "overflow_y": null,
            "overflow_x": null,
            "grid_auto_flow": null,
            "grid_area": null,
            "grid_template_columns": null,
            "flex": null,
            "_model_name": "LayoutModel",
            "justify_items": null,
            "grid_row": null,
            "max_height": null,
            "align_content": null,
            "visibility": null,
            "align_self": null,
            "height": null,
            "min_height": null,
            "padding": null,
            "grid_auto_rows": null,
            "grid_gap": null,
            "max_width": null,
            "order": null,
            "_view_module_version": "1.2.0",
            "grid_template_areas": null,
            "object_position": null,
            "object_fit": null,
            "grid_auto_columns": null,
            "margin": null,
            "display": null,
            "left": null
          }
        },
        "eca25cb970b14dfbaf24499f9c6494a7": {
          "model_module": "@jupyter-widgets/controls",
          "model_name": "DescriptionStyleModel",
          "state": {
            "_view_name": "StyleView",
            "_model_name": "DescriptionStyleModel",
            "description_width": "",
            "_view_module": "@jupyter-widgets/base",
            "_model_module_version": "1.5.0",
            "_view_count": null,
            "_view_module_version": "1.2.0",
            "_model_module": "@jupyter-widgets/controls"
          }
        },
        "2863b8e5772241359d1fabea0ba8d071": {
          "model_module": "@jupyter-widgets/base",
          "model_name": "LayoutModel",
          "state": {
            "_view_name": "LayoutView",
            "grid_template_rows": null,
            "right": null,
            "justify_content": null,
            "_view_module": "@jupyter-widgets/base",
            "overflow": null,
            "_model_module_version": "1.2.0",
            "_view_count": null,
            "flex_flow": null,
            "width": null,
            "min_width": null,
            "border": null,
            "align_items": null,
            "bottom": null,
            "_model_module": "@jupyter-widgets/base",
            "top": null,
            "grid_column": null,
            "overflow_y": null,
            "overflow_x": null,
            "grid_auto_flow": null,
            "grid_area": null,
            "grid_template_columns": null,
            "flex": null,
            "_model_name": "LayoutModel",
            "justify_items": null,
            "grid_row": null,
            "max_height": null,
            "align_content": null,
            "visibility": null,
            "align_self": null,
            "height": null,
            "min_height": null,
            "padding": null,
            "grid_auto_rows": null,
            "grid_gap": null,
            "max_width": null,
            "order": null,
            "_view_module_version": "1.2.0",
            "grid_template_areas": null,
            "object_position": null,
            "object_fit": null,
            "grid_auto_columns": null,
            "margin": null,
            "display": null,
            "left": null
          }
        }
      }
    }
  },
  "cells": [
    {
      "cell_type": "markdown",
      "metadata": {
        "id": "getrFxTL4gWz",
        "colab_type": "text"
      },
      "source": [
        "Downloading and installing libraries, set the workset"
      ]
    },
    {
      "cell_type": "code",
      "metadata": {
        "id": "hQqcWxEZW6OQ",
        "colab_type": "code",
        "outputId": "8d9fe869-7d39-405d-dc0f-1df8a60c94b3",
        "colab": {
          "base_uri": "https://localhost:8080/",
          "height": 141
        }
      },
      "source": [
        "!pip install pymorphy2\n",
        "\n",
        "import json \n",
        "from collections import Counter, defaultdict\n",
        "import numpy as np\n",
        "import pandas as pd\n",
        "from tqdm.notebook import tqdm\n",
        "\n",
        "\n",
        "import nltk\n",
        "import pymorphy2\n",
        "from nltk.tokenize import word_tokenize\n",
        "from utilities import verb_extractor, features_extractor\n",
        "\n",
        "from google.colab import drive\n",
        "\n",
        "nltk.download('punkt')\n",
        "morph = pymorphy2.MorphAnalyzer()"
      ],
      "execution_count": 0,
      "outputs": [
        {
          "output_type": "stream",
          "text": [
            "Requirement already satisfied: pymorphy2 in /usr/local/lib/python3.6/dist-packages (0.8)\n",
            "Requirement already satisfied: docopt>=0.6 in /usr/local/lib/python3.6/dist-packages (from pymorphy2) (0.6.2)\n",
            "Requirement already satisfied: pymorphy2-dicts<3.0,>=2.4 in /usr/local/lib/python3.6/dist-packages (from pymorphy2) (2.4.393442.3710985)\n",
            "Requirement already satisfied: dawg-python>=0.7 in /usr/local/lib/python3.6/dist-packages (from pymorphy2) (0.7.2)\n",
            "[nltk_data] Downloading package punkt to /root/nltk_data...\n",
            "[nltk_data]   Package punkt is already up-to-date!\n"
          ],
          "name": "stdout"
        }
      ]
    },
    {
      "cell_type": "markdown",
      "metadata": {
        "id": "cPrWvftc4oTR",
        "colab_type": "text"
      },
      "source": [
        "Open datasets"
      ]
    },
    {
      "cell_type": "code",
      "metadata": {
        "id": "eX4zqRKxfd3V",
        "colab_type": "code",
        "colab": {}
      },
      "source": [
        "pos = pd.read_csv(\"positive.csv\", sep = \";\", header = None)\n",
        "neg = pd.read_csv(\"negative.csv\", sep = \";\", header = None)"
      ],
      "execution_count": 0,
      "outputs": []
    },
    {
      "cell_type": "code",
      "metadata": {
        "id": "5L-fS1y7slX0",
        "colab_type": "code",
        "colab": {}
      },
      "source": [
        "def sent_tok (sent):\n",
        "    toksent = []\n",
        "    sent = word_tokenize(sent)\n",
        "    for word in sent:\n",
        "        p = morph.parse(word)[0]\n",
        "        toksent.append(p.normal_form)\n",
        "    return toksent\n",
        "ptok = pos[3].apply(sent_tok)\n",
        "d = {'tok': ptok.tolist(), 'untok': pos[3].tolist()}\n",
        "posdf = pd.DataFrame(data = d)\n",
        "ntok = neg[3].apply(sent_tok)\n",
        "p = {'tok': ntok.tolist(), 'untok': neg[3].tolist()}\n",
        "negdf = pd.DataFrame(data = p)"
      ],
      "execution_count": 0,
      "outputs": []
    },
    {
      "cell_type": "markdown",
      "metadata": {
        "id": "RPg_9Ajk4xqY",
        "colab_type": "text"
      },
      "source": [
        "Rework json to pandas dataframe for visualising"
      ]
    },
    {
      "cell_type": "code",
      "metadata": {
        "id": "JbGJCIx98RC1",
        "colab_type": "code",
        "colab": {}
      },
      "source": [
        "f = open('frames.json',)\n",
        "data = json.load(f)\n",
        "\n",
        "elements = ['0','1']\n",
        "variants = []\n",
        "effect = []\n",
        "polarity = []\n",
        "state = []\n",
        "value = []\n",
        "rolea0 = []\n",
        "rolea1 = []\n",
        "rolea2 = []\n",
        "title = []\n",
        "\n",
        "for el in elements:\n",
        "    for i in range(200):\n",
        "        name = el + '_' + str(i)\n",
        "        if name in data:\n",
        "          if 'effect' in data[name]['frames']:\n",
        "              effect.append(data[name]['frames']['effect'])\n",
        "          else:\n",
        "              effect.append(None)\n",
        "\n",
        "          if 'polarity' in data[name]['frames']:\n",
        "              polarity.append(data[name]['frames']['polarity'])\n",
        "          else:\n",
        "              polarity.append(None)\n",
        "\n",
        "          if 'state' in data[name]['frames']:\n",
        "              state.append(data[name]['frames']['state'])\n",
        "          else:\n",
        "              state.append(None)\n",
        "\n",
        "          if 'value' in data[name]['frames']:\n",
        "              value.append(data[name]['frames']['value'])\n",
        "          else:\n",
        "              value.append(None)\n",
        "\n",
        "          if 'a0' in data[name]['roles']:\n",
        "              rolea0.append(data[name]['roles']['a0'])\n",
        "          else:\n",
        "              rolea0.append(None)\n",
        "\n",
        "          if 'a1' in data[name]['roles']:\n",
        "              rolea1.append(data[name]['roles']['a1'])\n",
        "          else:\n",
        "              rolea1.append(None)\n",
        "\n",
        "          if 'a2' in data[name]['roles']:\n",
        "              rolea2.append(data[name]['roles']['a2'])\n",
        "          else:\n",
        "              rolea2.append(None)\n",
        "\n",
        "          title.append(data[name]['title'])\n",
        "\n",
        "          variants.append(data[name]['variants'])\n",
        "\n",
        "extrdata = {'variants' : variants,\n",
        "            'title' : title,\n",
        "            'role_a0' : rolea0,\n",
        "            'role_a1' : rolea1,\n",
        "            'role_a2' : rolea2,\n",
        "            'value' : value,\n",
        "            'state' : state,\n",
        "            'polarity' : polarity,\n",
        "            'effect' : effect}\n",
        "framework = pd.DataFrame(data = extrdata)"
      ],
      "execution_count": 0,
      "outputs": []
    },
    {
      "cell_type": "markdown",
      "metadata": {
        "id": "GqAHwGXp7yun",
        "colab_type": "text"
      },
      "source": [
        "Extracting positive and negative verbs and their forms"
      ]
    },
    {
      "cell_type": "code",
      "metadata": {
        "id": "gSg7nlyx-jxY",
        "colab_type": "code",
        "outputId": "731325be-c16d-4ea7-e8d8-2447f6027035",
        "colab": {
          "base_uri": "https://localhost:8080/",
          "height": 116,
          "referenced_widgets": [
            "fa942c8465a64d8a8e30c19e6e7b4e7b",
            "b00d7062d75d45d39f4351ad204565f5",
            "854b74d21e4648b2b5482797dd6f2d69",
            "63f311a4674c48dab588e7f1e65bd2c5",
            "db24683f137c40d2b5477ddcd96b23da",
            "a525cd5a7fd44bde991507082a84330e",
            "7b81d85f954440058688a126c15fcec4",
            "b1ce2a2a745b47a08181c8366181bbf4",
            "0005f768a1864702a7bbb91d6f497b62",
            "53a5711f76d047cab34c1c0770e0a83b",
            "55214ffe09f641b4bfa7e71604239243",
            "ddda2557de4645348d1c0e68546556cf",
            "1f5ddb18c3ae4855a0c34f6363646a0e",
            "2660560b533c44fab724f7efc339745a",
            "304b1cb5327144f697eaef8f6c0bb14c",
            "8cbde0e18d3a4e418267a26b31518405"
          ]
        }
      },
      "source": [
        "posv = verb_extractor(pos)\n",
        "negv = verb_extractor(neg)"
      ],
      "execution_count": 0,
      "outputs": [
        {
          "output_type": "display_data",
          "data": {
            "application/vnd.jupyter.widget-view+json": {
              "model_id": "fa942c8465a64d8a8e30c19e6e7b4e7b",
              "version_minor": 0,
              "version_major": 2
            },
            "text/plain": [
              "HBox(children=(FloatProgress(value=0.0, max=114911.0), HTML(value='')))"
            ]
          },
          "metadata": {
            "tags": []
          }
        },
        {
          "output_type": "stream",
          "text": [
            "\n"
          ],
          "name": "stdout"
        },
        {
          "output_type": "display_data",
          "data": {
            "application/vnd.jupyter.widget-view+json": {
              "model_id": "0005f768a1864702a7bbb91d6f497b62",
              "version_minor": 0,
              "version_major": 2
            },
            "text/plain": [
              "HBox(children=(FloatProgress(value=0.0, max=111923.0), HTML(value='')))"
            ]
          },
          "metadata": {
            "tags": []
          }
        },
        {
          "output_type": "stream",
          "text": [
            "\n"
          ],
          "name": "stdout"
        }
      ]
    },
    {
      "cell_type": "code",
      "metadata": {
        "id": "Hf0QM1kFjNjC",
        "colab_type": "code",
        "colab": {}
      },
      "source": [
        "upv = list(posv.keys()) #List of unique positive verbs\n",
        "unv = list(negv.keys()) #List of unique negative verbs\n",
        "a = list(set(upv) | set(unv))"
      ],
      "execution_count": 0,
      "outputs": []
    },
    {
      "cell_type": "markdown",
      "metadata": {
        "id": "EqR6Q1y7g8AX",
        "colab_type": "text"
      },
      "source": [
        "Make a dataset with collected udeful data"
      ]
    },
    {
      "cell_type": "code",
      "metadata": {
        "id": "qsfIoGPxgVcY",
        "colab_type": "code",
        "colab": {}
      },
      "source": [
        "tweetverbsdf = pd.DataFrame(columns = ['pos_entries', 'neg_entries', 'sing', 'plur', 'none_num', 'fem', 'masc', 'neut', 'none_gen', 'past', 'pres', 'futr', 'none_tense', '1per', '2per', '3per', 'none_per'], index = a)"
      ],
      "execution_count": 0,
      "outputs": []
    },
    {
      "cell_type": "code",
      "metadata": {
        "id": "b5odKL_CjBfi",
        "colab_type": "code",
        "colab": {}
      },
      "source": [
        "for verb in tweetverbsdf.index.values:\n",
        "    if verb in upv:\n",
        "        tweetverbsdf.loc[verb, 'pos_entries'] = len(posv[verb])\n",
        "    else:\n",
        "        tweetverbsdf.loc[verb, 'pos_entries'] = 0\n",
        "    if verb in unv:\n",
        "        tweetverbsdf.loc[verb, 'neg_entries'] = len(negv[verb])\n",
        "    else:\n",
        "        tweetverbsdf.loc[verb, 'neg_entries'] = 0"
      ],
      "execution_count": 0,
      "outputs": []
    },
    {
      "cell_type": "code",
      "metadata": {
        "id": "clGUASw5ltB1",
        "colab_type": "code",
        "outputId": "b722fc42-a38f-4d83-f371-942f7ecbbdb6",
        "colab": {
          "base_uri": "https://localhost:8080/",
          "height": 67,
          "referenced_widgets": [
            "a8bab8b2df114061b270bb5912bb536f",
            "bb9dde8947b84239bb5d775947dee4db",
            "9fbcd836ef484489ad1fbecc9f96aded",
            "4ac9286178184bc68d9d6c5059f58bce",
            "a482f64e9cf14f6a9ca3908f08f0db8a",
            "867d25699f5d4b2085eca1183ae2921b",
            "49db31bd5b8d4fc7996080d5f7a5ec66",
            "c5fb34978836411188de709c84ce0696"
          ]
        }
      },
      "source": [
        "genddict, numbdict, tensedict, perdict = features_extractor(tweetverbsdf.index.values, posv, negv)\n",
        "for verb in tweetverbsdf.index.values:\n",
        "    numbers = numbdict[verb]\n",
        "    length = len(numbers)\n",
        "    if length == 0:\n",
        "        tweetverbsdf.loc[verb,'none_num'] = 100\n",
        "        tweetverbsdf.loc[verb,'sing'] = 0\n",
        "        tweetverbsdf.loc[verb,'plur'] = 0\n",
        "    else:\n",
        "        c = Counter(numbers)\n",
        "        tweetverbsdf.loc[verb, 'none_num']= c[None]/length*100\n",
        "        tweetverbsdf.loc[verb, 'sing'] = c['sing']/length*100\n",
        "        tweetverbsdf.loc[verb, 'plur'] = c['plur']/length*100\n",
        "\n",
        "    genders = genddict[verb]\n",
        "    length = len(genders)\n",
        "    if length == 0:\n",
        "        tweetverbsdf.loc[verb,'none_gen'] = 100\n",
        "        tweetverbsdf.loc[verb,'masc'] = 0\n",
        "        tweetverbsdf.loc[verb,'fem'] = 0\n",
        "        tweetverbsdf.loc[verb,'neut'] = 0\n",
        "    else:\n",
        "        c = Counter(genders)\n",
        "        tweetverbsdf.loc[verb,'none_gen'] = c[None]/length*100\n",
        "        tweetverbsdf.loc[verb,'masc'] = c['masc']/length*100\n",
        "        tweetverbsdf.loc[verb,'fem'] = c['femn']/length*100\n",
        "        tweetverbsdf.loc[verb,'neut'] = c['neut']/length*100\n",
        "\n",
        "    tense = tensedict[verb]\n",
        "    length = len(tense)\n",
        "    if length == 0:\n",
        "        tweetverbsdf.loc[verb,'none_tense'] = 100\n",
        "        tweetverbsdf.loc[verb,'futr'] = 0\n",
        "        tweetverbsdf.loc[verb,'pres'] = 0\n",
        "        tweetverbsdf.loc[verb,'past'] = 0\n",
        "    else:\n",
        "        c = Counter(tense)\n",
        "        tweetverbsdf.loc[verb,'none_tense'] = c[None]/length*100\n",
        "        tweetverbsdf.loc[verb,'futr'] = c['futr']/length*100\n",
        "        tweetverbsdf.loc[verb,'pres'] = c['pres']/length*100\n",
        "        tweetverbsdf.loc[verb,'past'] = c['past']/length*100\n",
        "\n",
        "    person = perdict[verb]\n",
        "    length = len(person)\n",
        "    if length == 0:\n",
        "        tweetverbsdf.loc[verb,'none_per'] = 100\n",
        "        tweetverbsdf.loc[verb,'1per'] = 0\n",
        "        tweetverbsdf.loc[verb,'2per'] = 0\n",
        "        tweetverbsdf.loc[verb,'3per'] = 0\n",
        "    else:\n",
        "        c = Counter(person)\n",
        "        tweetverbsdf.loc[verb,'none_per'] = c[None]/length*100\n",
        "        tweetverbsdf.loc[verb,'1per'] = c['1per']/length*100\n",
        "        tweetverbsdf.loc[verb,'2per'] = c['2per']/length*100\n",
        "        tweetverbsdf.loc[verb,'3per'] = c['3per']/length*100"
      ],
      "execution_count": 0,
      "outputs": [
        {
          "output_type": "display_data",
          "data": {
            "application/vnd.jupyter.widget-view+json": {
              "model_id": "a8bab8b2df114061b270bb5912bb536f",
              "version_minor": 0,
              "version_major": 2
            },
            "text/plain": [
              "HBox(children=(FloatProgress(value=0.0, max=19791.0), HTML(value='')))"
            ]
          },
          "metadata": {
            "tags": []
          }
        },
        {
          "output_type": "stream",
          "text": [
            "\n"
          ],
          "name": "stdout"
        }
      ]
    },
    {
      "cell_type": "code",
      "metadata": {
        "id": "d3KjD3jG5wtr",
        "colab_type": "code",
        "colab": {}
      },
      "source": [
        "tweetverbsdf['summa'] = tweetverbsdf['pos_entries'] + tweetverbsdf['neg_entries']\n",
        "tweetverbsdf['pos_entries'] = tweetverbsdf['pos_entries'] / tweetverbsdf['summa'] * 100\n",
        "tweetverbsdf['neg_entries'] = tweetverbsdf['neg_entries'] / tweetverbsdf['summa'] * 100"
      ],
      "execution_count": 0,
      "outputs": []
    },
    {
      "cell_type": "markdown",
      "metadata": {
        "id": "dhHIS07LDCuK",
        "colab_type": "text"
      },
      "source": [
        "Extracting verbs from frames"
      ]
    },
    {
      "cell_type": "code",
      "metadata": {
        "id": "YU20ieK3Ahqr",
        "colab_type": "code",
        "colab": {}
      },
      "source": [
        "frverbs = framework['variants'].tolist()\n",
        "merge = lambda ll: [el for lst in ll for el in lst]\n",
        "mergedfrverbs = list(set(merge(frverbs)))"
      ],
      "execution_count": 0,
      "outputs": []
    },
    {
      "cell_type": "markdown",
      "metadata": {
        "id": "PUUlmjt21wfk",
        "colab_type": "text"
      },
      "source": [
        "Find intersection between frame verbs and tweet verbs"
      ]
    },
    {
      "cell_type": "code",
      "metadata": {
        "id": "6Trf88S2Bt5l",
        "colab_type": "code",
        "colab": {}
      },
      "source": [
        "intersection_verbs = list(set(tweetverbsdf.index.values) & set(mergedfrverbs))\n",
        "temp_df = tweetverbsdf.T\n",
        "train_data = pd.DataFrame(columns = ['pos_entries', 'neg_entries', 'sing', 'plur', 'none_num', 'fem', 'masc', 'neut', 'none_gen', 'past', 'pres', 'futr', 'none_tense', '1per', '2per', '3per', 'none_per', 'summa'])\n",
        "for verb in intersection_verbs:\n",
        "    train_data.loc[verb] = temp_df[verb].tolist()\n",
        "tweetverbsdf = tweetverbsdf.drop(intersection_verbs, axis = 0)"
      ],
      "execution_count": 0,
      "outputs": []
    },
    {
      "cell_type": "code",
      "metadata": {
        "id": "49r92TYA8mim",
        "colab_type": "code",
        "outputId": "443de9dc-7c6b-4bfe-8968-322ea14c07c6",
        "colab": {
          "base_uri": "https://localhost:8080/",
          "height": 67,
          "referenced_widgets": [
            "dd966d4b6f584132a3fb0eb802b5a15d",
            "5ca060d4b19b40718aa7bf8609ea8357",
            "065651d20a404fafbb761c25ebceeeb3",
            "fccb5b985e6348729aad938a0fb894fb",
            "fba7d91920ab4885b8899aa1fa74f20c",
            "762565b8cbdf4c6fa867665c8778555b",
            "f74a094265314b6695c6659aa5a8d973",
            "ea956231a69745c596deb892daf54cbf"
          ]
        }
      },
      "source": [
        "counter = []\n",
        "effects = defaultdict(list)\n",
        "for i in tqdm(range(len(frverbs))):\n",
        "    for verb in frverbs[i]:\n",
        "        if verb in intersection_verbs and verb not in counter:\n",
        "            effects[verb].append(framework[i:i+1]['effect'].tolist())\n",
        "        counter.append(verb)"
      ],
      "execution_count": 0,
      "outputs": [
        {
          "output_type": "display_data",
          "data": {
            "application/vnd.jupyter.widget-view+json": {
              "model_id": "dd966d4b6f584132a3fb0eb802b5a15d",
              "version_minor": 0,
              "version_major": 2
            },
            "text/plain": [
              "HBox(children=(FloatProgress(value=0.0, max=310.0), HTML(value='')))"
            ]
          },
          "metadata": {
            "tags": []
          }
        },
        {
          "output_type": "stream",
          "text": [
            "\n"
          ],
          "name": "stdout"
        }
      ]
    },
    {
      "cell_type": "code",
      "metadata": {
        "id": "r8i3El1xxhY7",
        "colab_type": "code",
        "outputId": "6b1072f9-f62f-4a9a-9b25-79cd81eecb04",
        "colab": {
          "base_uri": "https://localhost:8080/",
          "height": 67,
          "referenced_widgets": [
            "47a36bff774545c689be8a9bc0da4208",
            "c4b6ea99cbd5454890395738162695d2",
            "7066079a25e7496dac1de1e55f4aaf55",
            "ec8e236f7290485e93f43b6128f06523",
            "96d2e5a95ba842b19a78455fea727d24",
            "152f7137c4c54667b593e4beefea4467",
            "5ddd126c03034fdca6b5ecc6ac06dad9",
            "3f7ba7c5f12d4fe3a2e77b9535f395e0"
          ]
        }
      },
      "source": [
        "a0_list = []\n",
        "a1_list = []\n",
        "for i in tqdm(range(len(intersection_verbs))):\n",
        "    if intersection_verbs[i] in list(effects.keys()):\n",
        "        k = effects[intersection_verbs[i]][0][0]\n",
        "        a0 = 0\n",
        "        a1 = 0\n",
        "        if k == None:\n",
        "            a0_list.append(a0)\n",
        "            a1_list.append(a1)\n",
        "        else:\n",
        "            for ef in k:\n",
        "                if ef[0] == 'a0':\n",
        "                    if ef[1] == '-':\n",
        "                        a0 = ef[2] * -1\n",
        "                    else:\n",
        "                        a0 = ef[2]\n",
        "                if ef[0] == 'a1':\n",
        "                    if ef[1] == '-':\n",
        "                        a1 = ef[2] * -1\n",
        "                    else:\n",
        "                        a1 = ef[2]\n",
        "            a0_list.append(a0)\n",
        "            a1_list.append(a1)"
      ],
      "execution_count": 0,
      "outputs": [
        {
          "output_type": "display_data",
          "data": {
            "application/vnd.jupyter.widget-view+json": {
              "model_id": "47a36bff774545c689be8a9bc0da4208",
              "version_minor": 0,
              "version_major": 2
            },
            "text/plain": [
              "HBox(children=(FloatProgress(value=0.0, max=2046.0), HTML(value='')))"
            ]
          },
          "metadata": {
            "tags": []
          }
        },
        {
          "output_type": "stream",
          "text": [
            "\n"
          ],
          "name": "stdout"
        }
      ]
    },
    {
      "cell_type": "code",
      "metadata": {
        "id": "zvFpwIadVmHd",
        "colab_type": "code",
        "colab": {}
      },
      "source": [
        "train_data['a0_effect'] = a0_list\n",
        "train_data['a1_effect'] = a1_list\n",
        "train_data['expl_effect'] = train_data['a0_effect'] + train_data['a1_effect']"
      ],
      "execution_count": 0,
      "outputs": []
    },
    {
      "cell_type": "code",
      "metadata": {
        "id": "dNjEG_nqD2w0",
        "colab_type": "code",
        "colab": {}
      },
      "source": [
        "train_data = train_data.sort_values(by = 'summa', ascending = False)\n",
        "tweetverbsdf = tweetverbsdf.sort_values(by = 'summa', ascending = False)"
      ],
      "execution_count": 0,
      "outputs": []
    },
    {
      "cell_type": "code",
      "metadata": {
        "id": "LOKzSYaIEYNT",
        "colab_type": "code",
        "colab": {}
      },
      "source": [
        "tweetverbsdf = tweetverbsdf.loc[tweetverbsdf['summa'] > 50]\n",
        "train_data = train_data.loc[train_data['summa'] > 50]"
      ],
      "execution_count": 0,
      "outputs": []
    },
    {
      "cell_type": "code",
      "metadata": {
        "id": "AYwmgh1T45So",
        "colab_type": "code",
        "outputId": "cd2eb4f4-b10b-43f7-cef1-f7ab1c56f314",
        "colab": {
          "base_uri": "https://localhost:8080/",
          "height": 67,
          "referenced_widgets": [
            "445302ca925443a689ed19925ea463c6",
            "fdafa800dfe041d6bb62f45eec74e0a2",
            "b4596d0c27874578a61b5c2de48d3295",
            "e0e4542b8c3c4c6c8936ca7c7a6889ce",
            "96b47c64da8e47a4ad4f3ecf8982a90c",
            "6c54696d21324aeeafed440d33260632",
            "eca25cb970b14dfbaf24499f9c6494a7",
            "2863b8e5772241359d1fabea0ba8d071"
          ]
        }
      },
      "source": [
        "lotest_verbs = tweetverbsdf.index.values\n",
        "lotrain_verbs = train_data.index.values\n",
        "\n",
        "new_test_df = tweetverbsdf\n",
        "new_train_df = train_data\n",
        "\n",
        "\n",
        "\n",
        "def exex (exdf1, exdf2, verbs):\n",
        "    ex1 = exdf1['tok'].tolist()\n",
        "    ex2 = exdf2['tok'].tolist()\n",
        "    examplelist = []\n",
        "    for i in tqdm(range(len(verbs))):\n",
        "        for z in range(len(ex1)):\n",
        "            if len(examplelist) == i+1:\n",
        "                break\n",
        "            if verbs[i] in ex1[z]:\n",
        "                examplelist.append(exdf1['untok'][z])\n",
        "\n",
        "        for p in range(len(ex2)):\n",
        "            if len(examplelist) == i+1:\n",
        "                break\n",
        "            if verbs[i] in ex2[p]:\n",
        "                examplelist.append(exdf2['untok'][p])\n",
        "            \n",
        "    return examplelist\n",
        "\n",
        "exlist =  exex(posdf, negdf, lotrain_verbs)\n",
        "new_train_df['examples'] = exlist"
      ],
      "execution_count": 0,
      "outputs": [
        {
          "output_type": "display_data",
          "data": {
            "application/vnd.jupyter.widget-view+json": {
              "model_id": "445302ca925443a689ed19925ea463c6",
              "version_minor": 0,
              "version_major": 2
            },
            "text/plain": [
              "HBox(children=(FloatProgress(value=0.0, max=374.0), HTML(value='')))"
            ]
          },
          "metadata": {
            "tags": []
          }
        },
        {
          "output_type": "stream",
          "text": [
            "\n"
          ],
          "name": "stdout"
        }
      ]
    },
    {
      "cell_type": "code",
      "metadata": {
        "id": "_0HjP49P4NEv",
        "colab_type": "code",
        "outputId": "6e269eca-87c1-4ae8-86e8-8cf4774ef7fc",
        "colab": {
          "base_uri": "https://localhost:8080/",
          "height": 55
        }
      },
      "source": [
        "from google.colab import drive\n",
        "drive.mount('/drive')\n",
        "new_train_df.to_csv('/drive/My Drive/Colab Notebooks/test_we.csv')"
      ],
      "execution_count": 0,
      "outputs": [
        {
          "output_type": "stream",
          "text": [
            "Drive already mounted at /drive; to attempt to forcibly remount, call drive.mount(\"/drive\", force_remount=True).\n"
          ],
          "name": "stdout"
        }
      ]
    },
    {
      "cell_type": "markdown",
      "metadata": {
        "id": "IuhPD0vQvvMz",
        "colab_type": "text"
      },
      "source": [
        "Downloading recieved data"
      ]
    },
    {
      "cell_type": "code",
      "metadata": {
        "id": "gjk3mm0bW1Bb",
        "colab_type": "code",
        "colab": {}
      },
      "source": [
        "tweetverbsdf.to_csv('/drive/My Drive/Colab Notebooks/test_data.csv')\n",
        "train_data.to_csv('/drive/My Drive/Colab Notebooks/train_data.csv')"
      ],
      "execution_count": 0,
      "outputs": []
    },
    {
      "cell_type": "markdown",
      "metadata": {
        "id": "-UYFu_6SW4QR",
        "colab_type": "text"
      },
      "source": [
        ""
      ]
    },
    {
      "cell_type": "code",
      "metadata": {
        "id": "foYMi85xYDqz",
        "colab_type": "code",
        "colab": {}
      },
      "source": [
        "from sklearn.model_selection import train_test_split\n",
        "from sklearn.model_selection import GridSearchCV\n",
        "from sklearn.pipeline import Pipeline\n",
        "from sklearn.svm import SVC\n",
        "from imblearn.over_sampling import RandomOverSampler\n",
        "\n",
        "\n",
        "from sklearn.metrics import f1_score\n",
        "from sklearn.metrics import accuracy_score\n",
        "\n",
        "from sklearn.multioutput import MultiOutputClassifier\n",
        "from sklearn.linear_model import LogisticRegression\n",
        "from sklearn.neural_network import MLPClassifier\n",
        "from sklearn.neighbors import KNeighborsClassifier"
      ],
      "execution_count": 0,
      "outputs": []
    },
    {
      "cell_type": "code",
      "metadata": {
        "id": "I_mZFlpNwgtr",
        "colab_type": "code",
        "colab": {}
      },
      "source": [
        "def predictor(model, X, y):\n",
        "    X_train, X_test, y_train, y_test = train_test_split(X, y, test_size=0.33, random_state=179)\n",
        "    modulation = model.fit(X_train, y_train)\n",
        "    preds = model.predict(X_test)\n",
        "    print('F1-macro score: ', f1_score(preds, y_test, average='macro'))\n",
        "    print('Accuracy score: ', accuracy_score(preds, y_test))\n",
        "    return y_test, preds"
      ],
      "execution_count": 0,
      "outputs": []
    },
    {
      "cell_type": "code",
      "metadata": {
        "id": "x48XRF_oc0Ar",
        "colab_type": "code",
        "colab": {}
      },
      "source": [
        "def class_dist (y_test, y_pred):\n",
        "    answers = defaultdict(list)\n",
        "    for i in range(len(y_test)):\n",
        "        if y_test[i] == y_pred[i]:\n",
        "           answers[y_test[i]].append(True)\n",
        "        else:\n",
        "           answers[y_test[i]].append(False)\n",
        "    return answers         "
      ],
      "execution_count": 0,
      "outputs": []
    },
    {
      "cell_type": "code",
      "metadata": {
        "id": "LCep3kT-6gXp",
        "colab_type": "code",
        "outputId": "2b27bee9-a7f3-4b9a-bc16-b6718b231d47",
        "colab": {
          "base_uri": "https://localhost:8080/",
          "height": 415
        }
      },
      "source": [
        "model = MLPClassifier(random_state=179)\n",
        "parameters = {\n",
        "    \"activation\": [\"identity\",\"logistic\",\"tanh\",\"relu\"],\n",
        "    \"solver\": [\"lbfgs\",\"sgd\",\"adam\"],\n",
        "    \"learning_rate\":[\"constant\",\"invscaling\",\"adaptive\"],\n",
        "    \"max_iter\": np.arange(100,300,100),\n",
        "\n",
        "}\n",
        "MLP = GridSearchCV(model, parameters, cv = 5, verbose=True, n_jobs=-1, scoring = 'f1_macro')\n",
        "y_test, y_pred = predictor(MLP, XT, y)"
      ],
      "execution_count": 0,
      "outputs": [
        {
          "output_type": "stream",
          "text": [
            "Fitting 5 folds for each of 72 candidates, totalling 360 fits\n"
          ],
          "name": "stdout"
        },
        {
          "output_type": "stream",
          "text": [
            "[Parallel(n_jobs=-1)]: Using backend LokyBackend with 2 concurrent workers.\n",
            "[Parallel(n_jobs=-1)]: Done 304 tasks      | elapsed:    2.0s\n",
            "[Parallel(n_jobs=-1)]: Done 360 out of 360 | elapsed:    2.1s finished\n"
          ],
          "name": "stderr"
        },
        {
          "output_type": "error",
          "ename": "ValueError",
          "evalue": "ignored",
          "traceback": [
            "\u001b[0;31m---------------------------------------------------------------------------\u001b[0m",
            "\u001b[0;31mValueError\u001b[0m                                Traceback (most recent call last)",
            "\u001b[0;32m<ipython-input-289-ed8efa61b78b>\u001b[0m in \u001b[0;36m<module>\u001b[0;34m()\u001b[0m\n\u001b[1;32m      8\u001b[0m }\n\u001b[1;32m      9\u001b[0m \u001b[0mMLP\u001b[0m \u001b[0;34m=\u001b[0m \u001b[0mGridSearchCV\u001b[0m\u001b[0;34m(\u001b[0m\u001b[0mmodel\u001b[0m\u001b[0;34m,\u001b[0m \u001b[0mparameters\u001b[0m\u001b[0;34m,\u001b[0m \u001b[0mcv\u001b[0m \u001b[0;34m=\u001b[0m \u001b[0;36m5\u001b[0m\u001b[0;34m,\u001b[0m \u001b[0mverbose\u001b[0m\u001b[0;34m=\u001b[0m\u001b[0;32mTrue\u001b[0m\u001b[0;34m,\u001b[0m \u001b[0mn_jobs\u001b[0m\u001b[0;34m=\u001b[0m\u001b[0;34m-\u001b[0m\u001b[0;36m1\u001b[0m\u001b[0;34m,\u001b[0m \u001b[0mscoring\u001b[0m \u001b[0;34m=\u001b[0m \u001b[0;34m'f1_macro'\u001b[0m\u001b[0;34m)\u001b[0m\u001b[0;34m\u001b[0m\u001b[0;34m\u001b[0m\u001b[0m\n\u001b[0;32m---> 10\u001b[0;31m \u001b[0my_test\u001b[0m\u001b[0;34m,\u001b[0m \u001b[0my_pred\u001b[0m \u001b[0;34m=\u001b[0m \u001b[0mpredictor\u001b[0m\u001b[0;34m(\u001b[0m\u001b[0mMLP\u001b[0m\u001b[0;34m,\u001b[0m \u001b[0mXT\u001b[0m\u001b[0;34m,\u001b[0m \u001b[0my\u001b[0m\u001b[0;34m)\u001b[0m\u001b[0;34m\u001b[0m\u001b[0;34m\u001b[0m\u001b[0m\n\u001b[0m",
            "\u001b[0;32m<ipython-input-276-4f9bcc4e0393>\u001b[0m in \u001b[0;36mpredictor\u001b[0;34m(model, X, y)\u001b[0m\n\u001b[1;32m      1\u001b[0m \u001b[0;32mdef\u001b[0m \u001b[0mpredictor\u001b[0m\u001b[0;34m(\u001b[0m\u001b[0mmodel\u001b[0m\u001b[0;34m,\u001b[0m \u001b[0mX\u001b[0m\u001b[0;34m,\u001b[0m \u001b[0my\u001b[0m\u001b[0;34m)\u001b[0m\u001b[0;34m:\u001b[0m\u001b[0;34m\u001b[0m\u001b[0;34m\u001b[0m\u001b[0m\n\u001b[1;32m      2\u001b[0m     \u001b[0mX_train\u001b[0m\u001b[0;34m,\u001b[0m \u001b[0mX_test\u001b[0m\u001b[0;34m,\u001b[0m \u001b[0my_train\u001b[0m\u001b[0;34m,\u001b[0m \u001b[0my_test\u001b[0m \u001b[0;34m=\u001b[0m \u001b[0mtrain_test_split\u001b[0m\u001b[0;34m(\u001b[0m\u001b[0mX\u001b[0m\u001b[0;34m,\u001b[0m \u001b[0my\u001b[0m\u001b[0;34m,\u001b[0m \u001b[0mtest_size\u001b[0m\u001b[0;34m=\u001b[0m\u001b[0;36m0.33\u001b[0m\u001b[0;34m,\u001b[0m \u001b[0mrandom_state\u001b[0m\u001b[0;34m=\u001b[0m\u001b[0;36m179\u001b[0m\u001b[0;34m)\u001b[0m\u001b[0;34m\u001b[0m\u001b[0;34m\u001b[0m\u001b[0m\n\u001b[0;32m----> 3\u001b[0;31m     \u001b[0mmodulation\u001b[0m \u001b[0;34m=\u001b[0m \u001b[0mmodel\u001b[0m\u001b[0;34m.\u001b[0m\u001b[0mfit\u001b[0m\u001b[0;34m(\u001b[0m\u001b[0mX_train\u001b[0m\u001b[0;34m,\u001b[0m \u001b[0my_train\u001b[0m\u001b[0;34m)\u001b[0m\u001b[0;34m\u001b[0m\u001b[0;34m\u001b[0m\u001b[0m\n\u001b[0m\u001b[1;32m      4\u001b[0m     \u001b[0mpreds\u001b[0m \u001b[0;34m=\u001b[0m \u001b[0mmodel\u001b[0m\u001b[0;34m.\u001b[0m\u001b[0mpredict\u001b[0m\u001b[0;34m(\u001b[0m\u001b[0mX_test\u001b[0m\u001b[0;34m)\u001b[0m\u001b[0;34m\u001b[0m\u001b[0;34m\u001b[0m\u001b[0m\n\u001b[1;32m      5\u001b[0m     \u001b[0mprint\u001b[0m\u001b[0;34m(\u001b[0m\u001b[0;34m'F1-macro score: '\u001b[0m\u001b[0;34m,\u001b[0m \u001b[0mf1_score\u001b[0m\u001b[0;34m(\u001b[0m\u001b[0mpreds\u001b[0m\u001b[0;34m,\u001b[0m \u001b[0my_test\u001b[0m\u001b[0;34m,\u001b[0m \u001b[0maverage\u001b[0m\u001b[0;34m=\u001b[0m\u001b[0;34m'macro'\u001b[0m\u001b[0;34m)\u001b[0m\u001b[0;34m)\u001b[0m\u001b[0;34m\u001b[0m\u001b[0;34m\u001b[0m\u001b[0m\n",
            "\u001b[0;32m/usr/local/lib/python3.6/dist-packages/sklearn/model_selection/_search.py\u001b[0m in \u001b[0;36mfit\u001b[0;34m(self, X, y, groups, **fit_params)\u001b[0m\n\u001b[1;32m    737\u001b[0m             \u001b[0mrefit_start_time\u001b[0m \u001b[0;34m=\u001b[0m \u001b[0mtime\u001b[0m\u001b[0;34m.\u001b[0m\u001b[0mtime\u001b[0m\u001b[0;34m(\u001b[0m\u001b[0;34m)\u001b[0m\u001b[0;34m\u001b[0m\u001b[0;34m\u001b[0m\u001b[0m\n\u001b[1;32m    738\u001b[0m             \u001b[0;32mif\u001b[0m \u001b[0my\u001b[0m \u001b[0;32mis\u001b[0m \u001b[0;32mnot\u001b[0m \u001b[0;32mNone\u001b[0m\u001b[0;34m:\u001b[0m\u001b[0;34m\u001b[0m\u001b[0;34m\u001b[0m\u001b[0m\n\u001b[0;32m--> 739\u001b[0;31m                 \u001b[0mself\u001b[0m\u001b[0;34m.\u001b[0m\u001b[0mbest_estimator_\u001b[0m\u001b[0;34m.\u001b[0m\u001b[0mfit\u001b[0m\u001b[0;34m(\u001b[0m\u001b[0mX\u001b[0m\u001b[0;34m,\u001b[0m \u001b[0my\u001b[0m\u001b[0;34m,\u001b[0m \u001b[0;34m**\u001b[0m\u001b[0mfit_params\u001b[0m\u001b[0;34m)\u001b[0m\u001b[0;34m\u001b[0m\u001b[0;34m\u001b[0m\u001b[0m\n\u001b[0m\u001b[1;32m    740\u001b[0m             \u001b[0;32melse\u001b[0m\u001b[0;34m:\u001b[0m\u001b[0;34m\u001b[0m\u001b[0;34m\u001b[0m\u001b[0m\n\u001b[1;32m    741\u001b[0m                 \u001b[0mself\u001b[0m\u001b[0;34m.\u001b[0m\u001b[0mbest_estimator_\u001b[0m\u001b[0;34m.\u001b[0m\u001b[0mfit\u001b[0m\u001b[0;34m(\u001b[0m\u001b[0mX\u001b[0m\u001b[0;34m,\u001b[0m \u001b[0;34m**\u001b[0m\u001b[0mfit_params\u001b[0m\u001b[0;34m)\u001b[0m\u001b[0;34m\u001b[0m\u001b[0;34m\u001b[0m\u001b[0m\n",
            "\u001b[0;32m/usr/local/lib/python3.6/dist-packages/sklearn/neural_network/_multilayer_perceptron.py\u001b[0m in \u001b[0;36mfit\u001b[0;34m(self, X, y)\u001b[0m\n\u001b[1;32m    993\u001b[0m         \"\"\"\n\u001b[1;32m    994\u001b[0m         return self._fit(X, y, incremental=(self.warm_start and\n\u001b[0;32m--> 995\u001b[0;31m                                             hasattr(self, \"classes_\")))\n\u001b[0m\u001b[1;32m    996\u001b[0m \u001b[0;34m\u001b[0m\u001b[0m\n\u001b[1;32m    997\u001b[0m     \u001b[0;34m@\u001b[0m\u001b[0mproperty\u001b[0m\u001b[0;34m\u001b[0m\u001b[0;34m\u001b[0m\u001b[0m\n",
            "\u001b[0;32m/usr/local/lib/python3.6/dist-packages/sklearn/neural_network/_multilayer_perceptron.py\u001b[0m in \u001b[0;36m_fit\u001b[0;34m(self, X, y, incremental)\u001b[0m\n\u001b[1;32m    323\u001b[0m                              hidden_layer_sizes)\n\u001b[1;32m    324\u001b[0m \u001b[0;34m\u001b[0m\u001b[0m\n\u001b[0;32m--> 325\u001b[0;31m         \u001b[0mX\u001b[0m\u001b[0;34m,\u001b[0m \u001b[0my\u001b[0m \u001b[0;34m=\u001b[0m \u001b[0mself\u001b[0m\u001b[0;34m.\u001b[0m\u001b[0m_validate_input\u001b[0m\u001b[0;34m(\u001b[0m\u001b[0mX\u001b[0m\u001b[0;34m,\u001b[0m \u001b[0my\u001b[0m\u001b[0;34m,\u001b[0m \u001b[0mincremental\u001b[0m\u001b[0;34m)\u001b[0m\u001b[0;34m\u001b[0m\u001b[0;34m\u001b[0m\u001b[0m\n\u001b[0m\u001b[1;32m    326\u001b[0m         \u001b[0mn_samples\u001b[0m\u001b[0;34m,\u001b[0m \u001b[0mn_features\u001b[0m \u001b[0;34m=\u001b[0m \u001b[0mX\u001b[0m\u001b[0;34m.\u001b[0m\u001b[0mshape\u001b[0m\u001b[0;34m\u001b[0m\u001b[0;34m\u001b[0m\u001b[0m\n\u001b[1;32m    327\u001b[0m \u001b[0;34m\u001b[0m\u001b[0m\n",
            "\u001b[0;32m/usr/local/lib/python3.6/dist-packages/sklearn/neural_network/_multilayer_perceptron.py\u001b[0m in \u001b[0;36m_validate_input\u001b[0;34m(self, X, y, incremental)\u001b[0m\n\u001b[1;32m    936\u001b[0m         \u001b[0;32mif\u001b[0m \u001b[0;32mnot\u001b[0m \u001b[0mincremental\u001b[0m\u001b[0;34m:\u001b[0m\u001b[0;34m\u001b[0m\u001b[0;34m\u001b[0m\u001b[0m\n\u001b[1;32m    937\u001b[0m             \u001b[0mself\u001b[0m\u001b[0;34m.\u001b[0m\u001b[0m_label_binarizer\u001b[0m \u001b[0;34m=\u001b[0m \u001b[0mLabelBinarizer\u001b[0m\u001b[0;34m(\u001b[0m\u001b[0;34m)\u001b[0m\u001b[0;34m\u001b[0m\u001b[0;34m\u001b[0m\u001b[0m\n\u001b[0;32m--> 938\u001b[0;31m             \u001b[0mself\u001b[0m\u001b[0;34m.\u001b[0m\u001b[0m_label_binarizer\u001b[0m\u001b[0;34m.\u001b[0m\u001b[0mfit\u001b[0m\u001b[0;34m(\u001b[0m\u001b[0my\u001b[0m\u001b[0;34m)\u001b[0m\u001b[0;34m\u001b[0m\u001b[0;34m\u001b[0m\u001b[0m\n\u001b[0m\u001b[1;32m    939\u001b[0m             \u001b[0mself\u001b[0m\u001b[0;34m.\u001b[0m\u001b[0mclasses_\u001b[0m \u001b[0;34m=\u001b[0m \u001b[0mself\u001b[0m\u001b[0;34m.\u001b[0m\u001b[0m_label_binarizer\u001b[0m\u001b[0;34m.\u001b[0m\u001b[0mclasses_\u001b[0m\u001b[0;34m\u001b[0m\u001b[0;34m\u001b[0m\u001b[0m\n\u001b[1;32m    940\u001b[0m         \u001b[0;32melif\u001b[0m \u001b[0mself\u001b[0m\u001b[0;34m.\u001b[0m\u001b[0mwarm_start\u001b[0m\u001b[0;34m:\u001b[0m\u001b[0;34m\u001b[0m\u001b[0;34m\u001b[0m\u001b[0m\n",
            "\u001b[0;32m/usr/local/lib/python3.6/dist-packages/sklearn/preprocessing/_label.py\u001b[0m in \u001b[0;36mfit\u001b[0;34m(self, y)\u001b[0m\n\u001b[1;32m    424\u001b[0m         \u001b[0mself\u001b[0m\u001b[0;34m.\u001b[0m\u001b[0my_type_\u001b[0m \u001b[0;34m=\u001b[0m \u001b[0mtype_of_target\u001b[0m\u001b[0;34m(\u001b[0m\u001b[0my\u001b[0m\u001b[0;34m)\u001b[0m\u001b[0;34m\u001b[0m\u001b[0;34m\u001b[0m\u001b[0m\n\u001b[1;32m    425\u001b[0m         \u001b[0;32mif\u001b[0m \u001b[0;34m'multioutput'\u001b[0m \u001b[0;32min\u001b[0m \u001b[0mself\u001b[0m\u001b[0;34m.\u001b[0m\u001b[0my_type_\u001b[0m\u001b[0;34m:\u001b[0m\u001b[0;34m\u001b[0m\u001b[0;34m\u001b[0m\u001b[0m\n\u001b[0;32m--> 426\u001b[0;31m             raise ValueError(\"Multioutput target data is not supported with \"\n\u001b[0m\u001b[1;32m    427\u001b[0m                              \"label binarization\")\n\u001b[1;32m    428\u001b[0m         \u001b[0;32mif\u001b[0m \u001b[0m_num_samples\u001b[0m\u001b[0;34m(\u001b[0m\u001b[0my\u001b[0m\u001b[0;34m)\u001b[0m \u001b[0;34m==\u001b[0m \u001b[0;36m0\u001b[0m\u001b[0;34m:\u001b[0m\u001b[0;34m\u001b[0m\u001b[0;34m\u001b[0m\u001b[0m\n",
            "\u001b[0;31mValueError\u001b[0m: Multioutput target data is not supported with label binarization"
          ]
        }
      ]
    },
    {
      "cell_type": "code",
      "metadata": {
        "id": "3ixxyyVbny83",
        "colab_type": "code",
        "outputId": "0ea98a08-0000-49a8-8098-c3fe3c512c07",
        "colab": {
          "base_uri": "https://localhost:8080/",
          "height": 35
        }
      },
      "source": [
        "ans = class_dist(y_test, y_pred)\n",
        "Counter(ans[2])"
      ],
      "execution_count": 0,
      "outputs": [
        {
          "output_type": "execute_result",
          "data": {
            "text/plain": [
              "Counter({False: 7, True: 40})"
            ]
          },
          "metadata": {
            "tags": []
          },
          "execution_count": 259
        }
      ]
    },
    {
      "cell_type": "code",
      "metadata": {
        "id": "qQHVe2cyX1AB",
        "colab_type": "code",
        "outputId": "764c0504-622e-4ff8-e465-19550d4ccd40",
        "colab": {
          "base_uri": "https://localhost:8080/",
          "height": 104
        }
      },
      "source": [
        "pipe = Pipeline([('classifier' , LogisticRegression())])\n",
        "param_grid = [\n",
        "    {'classifier' : [LogisticRegression()],\n",
        "     'classifier__penalty' : ['l1', 'l2', 'elasticnet'],\n",
        "    'classifier__C' : np.logspace(-4, 4, 20),\n",
        "    'classifier__solver' : ['liblinear']}\n",
        "]\n",
        "lr = GridSearchCV(pipe, param_grid = param_grid, cv = 5, verbose=True, n_jobs=-1, scoring = 'f1_macro')\n",
        "y_test, y_pred = predictor(lr, XT, y)\n",
        "ans = class_dist(y_test, y_pred)"
      ],
      "execution_count": 0,
      "outputs": [
        {
          "output_type": "stream",
          "text": [
            "Fitting 5 folds for each of 60 candidates, totalling 300 fits\n"
          ],
          "name": "stdout"
        },
        {
          "output_type": "stream",
          "text": [
            "[Parallel(n_jobs=-1)]: Using backend LokyBackend with 2 concurrent workers.\n"
          ],
          "name": "stderr"
        },
        {
          "output_type": "stream",
          "text": [
            "F1-macro score:  0.4401323308270676\n",
            "Accuracy score:  0.46774193548387094\n"
          ],
          "name": "stdout"
        },
        {
          "output_type": "stream",
          "text": [
            "[Parallel(n_jobs=-1)]: Done 300 out of 300 | elapsed:    3.6s finished\n"
          ],
          "name": "stderr"
        }
      ]
    },
    {
      "cell_type": "code",
      "metadata": {
        "id": "G9x3M2puf3cr",
        "colab_type": "code",
        "colab": {}
      },
      "source": [
        "model = KNeighborsClassifier()\n",
        "parameters = {\n",
        "    \"n_neighbors\": np.arange(1,11),\n",
        "    \"weights\": [\"uniform\", \"distance\"],\n",
        "    \"algorithm\": [\"auto\",\"ball_tree\",\"kd_tree\",\"brute\"],\n",
        "    \"metric\":[\"euclidean\", \"manhattan\"],\n",
        "}\n",
        "KNC = GridSearchCV(model, param_grid=parameters,scoring = 'f1_macro')\n",
        "y_test, y_pred = predictor(KNC, XT, y)"
      ],
      "execution_count": 0,
      "outputs": []
    },
    {
      "cell_type": "markdown",
      "metadata": {
        "id": "K82eoVWq8hQ1",
        "colab_type": "text"
      },
      "source": [
        "Models for multilabel classification"
      ]
    },
    {
      "cell_type": "code",
      "metadata": {
        "id": "ZMyFBa3o-2sS",
        "colab_type": "code",
        "colab": {}
      },
      "source": [
        "def predictor_v2(model, X, y):\n",
        "    X_train, X_test, y_train, y_test = train_test_split(X, y, test_size=0.33, random_state=179)\n",
        "    modulation = model.fit(X_train, y_train)\n",
        "    preds = model.predict(X_test)\n",
        "    z=0\n",
        "    for i in range(len(y_test)):\n",
        "        if y_test[i].all() == preds[i].all():\n",
        "            z += 1\n",
        "    print(\"Accuracy score: \", z/len(y_test))\n",
        "    return y_test, preds"
      ],
      "execution_count": 0,
      "outputs": []
    },
    {
      "cell_type": "code",
      "metadata": {
        "id": "oCL2PRdPW3rC",
        "colab_type": "code",
        "colab": {}
      },
      "source": [
        "test = pd.read_csv('test_data.csv', index_col = 0)\n",
        "train = pd.read_csv('train_data.csv', index_col = 0)\n",
        "train['expl_effect'] = train.apply(lambda x: round(x['expl_effect'], 0), axis = 1)\n",
        "train['a0_effect'] = train.apply(lambda x: round(x['a0_effect'], 0), axis = 1)\n",
        "train['a1_effect'] = train.apply(lambda x: round(x['a1_effect'], 0), axis = 1)\n",
        "#train = train.drop(columns = ['sing','plur','none_num'])\n",
        "#train = train.drop(columns = ['fem','masc','neut', 'none_gen'])\n",
        "#train = train.drop(columns = ['past','pres','futr','none_tense'])\n",
        "#train = train.drop(columns = ['1per','2per','3per','none_per'])\n",
        "#train = train[(train.expl_effect != -2)]\n",
        "y = train[['a0_effect',\t\"a1_effect\"]].to_numpy()\n",
        "XT = train.drop(columns = ['expl_effect', 'summa', 'examples','a0_effect',\t\"a1_effect\"])"
      ],
      "execution_count": 0,
      "outputs": []
    },
    {
      "cell_type": "code",
      "metadata": {
        "id": "8jB_x_6l8gED",
        "colab_type": "code",
        "colab": {}
      },
      "source": [
        "for i in np.arange(10,30,1):\n",
        "    model = MultiOutputClassifier(KNeighborsClassifier(n_neighbors = i))\n",
        "    y_test, y_pred = predictor_v2(model, XT, y)"
      ],
      "execution_count": 0,
      "outputs": []
    },
    {
      "cell_type": "code",
      "metadata": {
        "id": "R8PTZXKYFQBA",
        "colab_type": "code",
        "outputId": "d3ff1ab0-a29d-4117-f6b8-91c1006376f4",
        "colab": {
          "base_uri": "https://localhost:8080/",
          "height": 89
        }
      },
      "source": [
        "model = MultiOutputClassifier(MLPClassifier(random_state=179))\n",
        "y_test, y_pred = predictor_v2(model, XT, y)"
      ],
      "execution_count": 0,
      "outputs": [
        {
          "output_type": "stream",
          "text": [
            "Accuracy score:  0.7338709677419355\n"
          ],
          "name": "stdout"
        },
        {
          "output_type": "stream",
          "text": [
            "/usr/local/lib/python3.6/dist-packages/sklearn/neural_network/_multilayer_perceptron.py:571: ConvergenceWarning: Stochastic Optimizer: Maximum iterations (200) reached and the optimization hasn't converged yet.\n",
            "  % self.max_iter, ConvergenceWarning)\n"
          ],
          "name": "stderr"
        }
      ]
    },
    {
      "cell_type": "code",
      "metadata": {
        "id": "SRKtjBO8_wDs",
        "colab_type": "code",
        "colab": {}
      },
      "source": [
        ""
      ],
      "execution_count": 0,
      "outputs": []
    }
  ]
}
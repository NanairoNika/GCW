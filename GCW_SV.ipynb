{
  "nbformat": 4,
  "nbformat_minor": 0,
  "metadata": {
    "colab": {
      "name": "GCW_SV.ipynb",
      "provenance": [],
      "collapsed_sections": []
    },
    "kernelspec": {
      "name": "python3",
      "display_name": "Python 3"
    },
    "accelerator": "GPU",
    "widgets": {
      "application/vnd.jupyter.widget-state+json": {
        "a4b9d0ab62b94a62a48c5e5f9aae6e54": {
          "model_module": "@jupyter-widgets/controls",
          "model_name": "HBoxModel",
          "state": {
            "_view_name": "HBoxView",
            "_dom_classes": [],
            "_model_name": "HBoxModel",
            "_view_module": "@jupyter-widgets/controls",
            "_model_module_version": "1.5.0",
            "_view_count": null,
            "_view_module_version": "1.5.0",
            "box_style": "",
            "layout": "IPY_MODEL_8e7024b9ec0c44769ae610ffa504810c",
            "_model_module": "@jupyter-widgets/controls",
            "children": [
              "IPY_MODEL_2f1a476f95204f379f448e49134f6802",
              "IPY_MODEL_010ece07c3094d73b1b7a406df49daab"
            ]
          }
        },
        "8e7024b9ec0c44769ae610ffa504810c": {
          "model_module": "@jupyter-widgets/base",
          "model_name": "LayoutModel",
          "state": {
            "_view_name": "LayoutView",
            "grid_template_rows": null,
            "right": null,
            "justify_content": null,
            "_view_module": "@jupyter-widgets/base",
            "overflow": null,
            "_model_module_version": "1.2.0",
            "_view_count": null,
            "flex_flow": null,
            "width": null,
            "min_width": null,
            "border": null,
            "align_items": null,
            "bottom": null,
            "_model_module": "@jupyter-widgets/base",
            "top": null,
            "grid_column": null,
            "overflow_y": null,
            "overflow_x": null,
            "grid_auto_flow": null,
            "grid_area": null,
            "grid_template_columns": null,
            "flex": null,
            "_model_name": "LayoutModel",
            "justify_items": null,
            "grid_row": null,
            "max_height": null,
            "align_content": null,
            "visibility": null,
            "align_self": null,
            "height": null,
            "min_height": null,
            "padding": null,
            "grid_auto_rows": null,
            "grid_gap": null,
            "max_width": null,
            "order": null,
            "_view_module_version": "1.2.0",
            "grid_template_areas": null,
            "object_position": null,
            "object_fit": null,
            "grid_auto_columns": null,
            "margin": null,
            "display": null,
            "left": null
          }
        },
        "2f1a476f95204f379f448e49134f6802": {
          "model_module": "@jupyter-widgets/controls",
          "model_name": "FloatProgressModel",
          "state": {
            "_view_name": "ProgressView",
            "style": "IPY_MODEL_a3248a981b9c432497c2ef272a4d9b89",
            "_dom_classes": [],
            "description": "100%",
            "_model_name": "FloatProgressModel",
            "bar_style": "success",
            "max": 111923,
            "_view_module": "@jupyter-widgets/controls",
            "_model_module_version": "1.5.0",
            "value": 111923,
            "_view_count": null,
            "_view_module_version": "1.5.0",
            "orientation": "horizontal",
            "min": 0,
            "description_tooltip": null,
            "_model_module": "@jupyter-widgets/controls",
            "layout": "IPY_MODEL_cc3847b3a4bc464f96cd732aba13313f"
          }
        },
        "010ece07c3094d73b1b7a406df49daab": {
          "model_module": "@jupyter-widgets/controls",
          "model_name": "HTMLModel",
          "state": {
            "_view_name": "HTMLView",
            "style": "IPY_MODEL_9a7ed8c21bfa4e94ae5991e1eef740f7",
            "_dom_classes": [],
            "description": "",
            "_model_name": "HTMLModel",
            "placeholder": "​",
            "_view_module": "@jupyter-widgets/controls",
            "_model_module_version": "1.5.0",
            "value": " 111923/111923 [43:29&lt;00:00, 42.89it/s]",
            "_view_count": null,
            "_view_module_version": "1.5.0",
            "description_tooltip": null,
            "_model_module": "@jupyter-widgets/controls",
            "layout": "IPY_MODEL_5e7f2dc81a3f48278e6ec4ab3f98aead"
          }
        },
        "a3248a981b9c432497c2ef272a4d9b89": {
          "model_module": "@jupyter-widgets/controls",
          "model_name": "ProgressStyleModel",
          "state": {
            "_view_name": "StyleView",
            "_model_name": "ProgressStyleModel",
            "description_width": "initial",
            "_view_module": "@jupyter-widgets/base",
            "_model_module_version": "1.5.0",
            "_view_count": null,
            "_view_module_version": "1.2.0",
            "bar_color": null,
            "_model_module": "@jupyter-widgets/controls"
          }
        },
        "cc3847b3a4bc464f96cd732aba13313f": {
          "model_module": "@jupyter-widgets/base",
          "model_name": "LayoutModel",
          "state": {
            "_view_name": "LayoutView",
            "grid_template_rows": null,
            "right": null,
            "justify_content": null,
            "_view_module": "@jupyter-widgets/base",
            "overflow": null,
            "_model_module_version": "1.2.0",
            "_view_count": null,
            "flex_flow": null,
            "width": null,
            "min_width": null,
            "border": null,
            "align_items": null,
            "bottom": null,
            "_model_module": "@jupyter-widgets/base",
            "top": null,
            "grid_column": null,
            "overflow_y": null,
            "overflow_x": null,
            "grid_auto_flow": null,
            "grid_area": null,
            "grid_template_columns": null,
            "flex": null,
            "_model_name": "LayoutModel",
            "justify_items": null,
            "grid_row": null,
            "max_height": null,
            "align_content": null,
            "visibility": null,
            "align_self": null,
            "height": null,
            "min_height": null,
            "padding": null,
            "grid_auto_rows": null,
            "grid_gap": null,
            "max_width": null,
            "order": null,
            "_view_module_version": "1.2.0",
            "grid_template_areas": null,
            "object_position": null,
            "object_fit": null,
            "grid_auto_columns": null,
            "margin": null,
            "display": null,
            "left": null
          }
        },
        "9a7ed8c21bfa4e94ae5991e1eef740f7": {
          "model_module": "@jupyter-widgets/controls",
          "model_name": "DescriptionStyleModel",
          "state": {
            "_view_name": "StyleView",
            "_model_name": "DescriptionStyleModel",
            "description_width": "",
            "_view_module": "@jupyter-widgets/base",
            "_model_module_version": "1.5.0",
            "_view_count": null,
            "_view_module_version": "1.2.0",
            "_model_module": "@jupyter-widgets/controls"
          }
        },
        "5e7f2dc81a3f48278e6ec4ab3f98aead": {
          "model_module": "@jupyter-widgets/base",
          "model_name": "LayoutModel",
          "state": {
            "_view_name": "LayoutView",
            "grid_template_rows": null,
            "right": null,
            "justify_content": null,
            "_view_module": "@jupyter-widgets/base",
            "overflow": null,
            "_model_module_version": "1.2.0",
            "_view_count": null,
            "flex_flow": null,
            "width": null,
            "min_width": null,
            "border": null,
            "align_items": null,
            "bottom": null,
            "_model_module": "@jupyter-widgets/base",
            "top": null,
            "grid_column": null,
            "overflow_y": null,
            "overflow_x": null,
            "grid_auto_flow": null,
            "grid_area": null,
            "grid_template_columns": null,
            "flex": null,
            "_model_name": "LayoutModel",
            "justify_items": null,
            "grid_row": null,
            "max_height": null,
            "align_content": null,
            "visibility": null,
            "align_self": null,
            "height": null,
            "min_height": null,
            "padding": null,
            "grid_auto_rows": null,
            "grid_gap": null,
            "max_width": null,
            "order": null,
            "_view_module_version": "1.2.0",
            "grid_template_areas": null,
            "object_position": null,
            "object_fit": null,
            "grid_auto_columns": null,
            "margin": null,
            "display": null,
            "left": null
          }
        },
        "17d2c2bcbdfe4e95bd96792928da0ac7": {
          "model_module": "@jupyter-widgets/controls",
          "model_name": "HBoxModel",
          "state": {
            "_view_name": "HBoxView",
            "_dom_classes": [],
            "_model_name": "HBoxModel",
            "_view_module": "@jupyter-widgets/controls",
            "_model_module_version": "1.5.0",
            "_view_count": null,
            "_view_module_version": "1.5.0",
            "box_style": "",
            "layout": "IPY_MODEL_5a4b4ecd1798448c812f44ba1c0c0924",
            "_model_module": "@jupyter-widgets/controls",
            "children": [
              "IPY_MODEL_a116663d326f473cb087622a11770ac1",
              "IPY_MODEL_9706f38003e54646aec2a7e1823209bd"
            ]
          }
        },
        "5a4b4ecd1798448c812f44ba1c0c0924": {
          "model_module": "@jupyter-widgets/base",
          "model_name": "LayoutModel",
          "state": {
            "_view_name": "LayoutView",
            "grid_template_rows": null,
            "right": null,
            "justify_content": null,
            "_view_module": "@jupyter-widgets/base",
            "overflow": null,
            "_model_module_version": "1.2.0",
            "_view_count": null,
            "flex_flow": null,
            "width": null,
            "min_width": null,
            "border": null,
            "align_items": null,
            "bottom": null,
            "_model_module": "@jupyter-widgets/base",
            "top": null,
            "grid_column": null,
            "overflow_y": null,
            "overflow_x": null,
            "grid_auto_flow": null,
            "grid_area": null,
            "grid_template_columns": null,
            "flex": null,
            "_model_name": "LayoutModel",
            "justify_items": null,
            "grid_row": null,
            "max_height": null,
            "align_content": null,
            "visibility": null,
            "align_self": null,
            "height": null,
            "min_height": null,
            "padding": null,
            "grid_auto_rows": null,
            "grid_gap": null,
            "max_width": null,
            "order": null,
            "_view_module_version": "1.2.0",
            "grid_template_areas": null,
            "object_position": null,
            "object_fit": null,
            "grid_auto_columns": null,
            "margin": null,
            "display": null,
            "left": null
          }
        },
        "a116663d326f473cb087622a11770ac1": {
          "model_module": "@jupyter-widgets/controls",
          "model_name": "FloatProgressModel",
          "state": {
            "_view_name": "ProgressView",
            "style": "IPY_MODEL_c69a5cfb6fd84ebf8554170ef8daaff2",
            "_dom_classes": [],
            "description": "100%",
            "_model_name": "FloatProgressModel",
            "bar_style": "success",
            "max": 114911,
            "_view_module": "@jupyter-widgets/controls",
            "_model_module_version": "1.5.0",
            "value": 114911,
            "_view_count": null,
            "_view_module_version": "1.5.0",
            "orientation": "horizontal",
            "min": 0,
            "description_tooltip": null,
            "_model_module": "@jupyter-widgets/controls",
            "layout": "IPY_MODEL_d553c04546c44e6793fceb455c01586e"
          }
        },
        "9706f38003e54646aec2a7e1823209bd": {
          "model_module": "@jupyter-widgets/controls",
          "model_name": "HTMLModel",
          "state": {
            "_view_name": "HTMLView",
            "style": "IPY_MODEL_abf6505ffa774d8b96130b87c038b1f8",
            "_dom_classes": [],
            "description": "",
            "_model_name": "HTMLModel",
            "placeholder": "​",
            "_view_module": "@jupyter-widgets/controls",
            "_model_module_version": "1.5.0",
            "value": " 114911/114911 [12:25&lt;00:00, 154.11it/s]",
            "_view_count": null,
            "_view_module_version": "1.5.0",
            "description_tooltip": null,
            "_model_module": "@jupyter-widgets/controls",
            "layout": "IPY_MODEL_8b29f4f0a90542b1ae09e384bb01b9f6"
          }
        },
        "c69a5cfb6fd84ebf8554170ef8daaff2": {
          "model_module": "@jupyter-widgets/controls",
          "model_name": "ProgressStyleModel",
          "state": {
            "_view_name": "StyleView",
            "_model_name": "ProgressStyleModel",
            "description_width": "initial",
            "_view_module": "@jupyter-widgets/base",
            "_model_module_version": "1.5.0",
            "_view_count": null,
            "_view_module_version": "1.2.0",
            "bar_color": null,
            "_model_module": "@jupyter-widgets/controls"
          }
        },
        "d553c04546c44e6793fceb455c01586e": {
          "model_module": "@jupyter-widgets/base",
          "model_name": "LayoutModel",
          "state": {
            "_view_name": "LayoutView",
            "grid_template_rows": null,
            "right": null,
            "justify_content": null,
            "_view_module": "@jupyter-widgets/base",
            "overflow": null,
            "_model_module_version": "1.2.0",
            "_view_count": null,
            "flex_flow": null,
            "width": null,
            "min_width": null,
            "border": null,
            "align_items": null,
            "bottom": null,
            "_model_module": "@jupyter-widgets/base",
            "top": null,
            "grid_column": null,
            "overflow_y": null,
            "overflow_x": null,
            "grid_auto_flow": null,
            "grid_area": null,
            "grid_template_columns": null,
            "flex": null,
            "_model_name": "LayoutModel",
            "justify_items": null,
            "grid_row": null,
            "max_height": null,
            "align_content": null,
            "visibility": null,
            "align_self": null,
            "height": null,
            "min_height": null,
            "padding": null,
            "grid_auto_rows": null,
            "grid_gap": null,
            "max_width": null,
            "order": null,
            "_view_module_version": "1.2.0",
            "grid_template_areas": null,
            "object_position": null,
            "object_fit": null,
            "grid_auto_columns": null,
            "margin": null,
            "display": null,
            "left": null
          }
        },
        "abf6505ffa774d8b96130b87c038b1f8": {
          "model_module": "@jupyter-widgets/controls",
          "model_name": "DescriptionStyleModel",
          "state": {
            "_view_name": "StyleView",
            "_model_name": "DescriptionStyleModel",
            "description_width": "",
            "_view_module": "@jupyter-widgets/base",
            "_model_module_version": "1.5.0",
            "_view_count": null,
            "_view_module_version": "1.2.0",
            "_model_module": "@jupyter-widgets/controls"
          }
        },
        "8b29f4f0a90542b1ae09e384bb01b9f6": {
          "model_module": "@jupyter-widgets/base",
          "model_name": "LayoutModel",
          "state": {
            "_view_name": "LayoutView",
            "grid_template_rows": null,
            "right": null,
            "justify_content": null,
            "_view_module": "@jupyter-widgets/base",
            "overflow": null,
            "_model_module_version": "1.2.0",
            "_view_count": null,
            "flex_flow": null,
            "width": null,
            "min_width": null,
            "border": null,
            "align_items": null,
            "bottom": null,
            "_model_module": "@jupyter-widgets/base",
            "top": null,
            "grid_column": null,
            "overflow_y": null,
            "overflow_x": null,
            "grid_auto_flow": null,
            "grid_area": null,
            "grid_template_columns": null,
            "flex": null,
            "_model_name": "LayoutModel",
            "justify_items": null,
            "grid_row": null,
            "max_height": null,
            "align_content": null,
            "visibility": null,
            "align_self": null,
            "height": null,
            "min_height": null,
            "padding": null,
            "grid_auto_rows": null,
            "grid_gap": null,
            "max_width": null,
            "order": null,
            "_view_module_version": "1.2.0",
            "grid_template_areas": null,
            "object_position": null,
            "object_fit": null,
            "grid_auto_columns": null,
            "margin": null,
            "display": null,
            "left": null
          }
        },
        "5f7bb8e838d64a128ac77e2bb46e9d66": {
          "model_module": "@jupyter-widgets/controls",
          "model_name": "HBoxModel",
          "state": {
            "_view_name": "HBoxView",
            "_dom_classes": [],
            "_model_name": "HBoxModel",
            "_view_module": "@jupyter-widgets/controls",
            "_model_module_version": "1.5.0",
            "_view_count": null,
            "_view_module_version": "1.5.0",
            "box_style": "",
            "layout": "IPY_MODEL_fd35a5971b3146c19c3ce54bd51a9b46",
            "_model_module": "@jupyter-widgets/controls",
            "children": [
              "IPY_MODEL_1081573fa45d4cbea7934aa876aba5a3",
              "IPY_MODEL_7f320b17c2624d93860c6a75b70c6b2a"
            ]
          }
        },
        "fd35a5971b3146c19c3ce54bd51a9b46": {
          "model_module": "@jupyter-widgets/base",
          "model_name": "LayoutModel",
          "state": {
            "_view_name": "LayoutView",
            "grid_template_rows": null,
            "right": null,
            "justify_content": null,
            "_view_module": "@jupyter-widgets/base",
            "overflow": null,
            "_model_module_version": "1.2.0",
            "_view_count": null,
            "flex_flow": null,
            "width": null,
            "min_width": null,
            "border": null,
            "align_items": null,
            "bottom": null,
            "_model_module": "@jupyter-widgets/base",
            "top": null,
            "grid_column": null,
            "overflow_y": null,
            "overflow_x": null,
            "grid_auto_flow": null,
            "grid_area": null,
            "grid_template_columns": null,
            "flex": null,
            "_model_name": "LayoutModel",
            "justify_items": null,
            "grid_row": null,
            "max_height": null,
            "align_content": null,
            "visibility": null,
            "align_self": null,
            "height": null,
            "min_height": null,
            "padding": null,
            "grid_auto_rows": null,
            "grid_gap": null,
            "max_width": null,
            "order": null,
            "_view_module_version": "1.2.0",
            "grid_template_areas": null,
            "object_position": null,
            "object_fit": null,
            "grid_auto_columns": null,
            "margin": null,
            "display": null,
            "left": null
          }
        },
        "1081573fa45d4cbea7934aa876aba5a3": {
          "model_module": "@jupyter-widgets/controls",
          "model_name": "FloatProgressModel",
          "state": {
            "_view_name": "ProgressView",
            "style": "IPY_MODEL_376bd5937b664b3aa214b5128bf207db",
            "_dom_classes": [],
            "description": "100%",
            "_model_name": "FloatProgressModel",
            "bar_style": "success",
            "max": 22404,
            "_view_module": "@jupyter-widgets/controls",
            "_model_module_version": "1.5.0",
            "value": 22404,
            "_view_count": null,
            "_view_module_version": "1.5.0",
            "orientation": "horizontal",
            "min": 0,
            "description_tooltip": null,
            "_model_module": "@jupyter-widgets/controls",
            "layout": "IPY_MODEL_c01e6727bf8d44a0a1bb15f5bf55f38f"
          }
        },
        "7f320b17c2624d93860c6a75b70c6b2a": {
          "model_module": "@jupyter-widgets/controls",
          "model_name": "HTMLModel",
          "state": {
            "_view_name": "HTMLView",
            "style": "IPY_MODEL_ff46102cc325409982fe14e7ea6c3261",
            "_dom_classes": [],
            "description": "",
            "_model_name": "HTMLModel",
            "placeholder": "​",
            "_view_module": "@jupyter-widgets/controls",
            "_model_module_version": "1.5.0",
            "value": " 22404/22404 [12:18&lt;00:00, 30.36it/s]",
            "_view_count": null,
            "_view_module_version": "1.5.0",
            "description_tooltip": null,
            "_model_module": "@jupyter-widgets/controls",
            "layout": "IPY_MODEL_58178ce0f5254c68b659e4dcadfe1bf5"
          }
        },
        "376bd5937b664b3aa214b5128bf207db": {
          "model_module": "@jupyter-widgets/controls",
          "model_name": "ProgressStyleModel",
          "state": {
            "_view_name": "StyleView",
            "_model_name": "ProgressStyleModel",
            "description_width": "initial",
            "_view_module": "@jupyter-widgets/base",
            "_model_module_version": "1.5.0",
            "_view_count": null,
            "_view_module_version": "1.2.0",
            "bar_color": null,
            "_model_module": "@jupyter-widgets/controls"
          }
        },
        "c01e6727bf8d44a0a1bb15f5bf55f38f": {
          "model_module": "@jupyter-widgets/base",
          "model_name": "LayoutModel",
          "state": {
            "_view_name": "LayoutView",
            "grid_template_rows": null,
            "right": null,
            "justify_content": null,
            "_view_module": "@jupyter-widgets/base",
            "overflow": null,
            "_model_module_version": "1.2.0",
            "_view_count": null,
            "flex_flow": null,
            "width": null,
            "min_width": null,
            "border": null,
            "align_items": null,
            "bottom": null,
            "_model_module": "@jupyter-widgets/base",
            "top": null,
            "grid_column": null,
            "overflow_y": null,
            "overflow_x": null,
            "grid_auto_flow": null,
            "grid_area": null,
            "grid_template_columns": null,
            "flex": null,
            "_model_name": "LayoutModel",
            "justify_items": null,
            "grid_row": null,
            "max_height": null,
            "align_content": null,
            "visibility": null,
            "align_self": null,
            "height": null,
            "min_height": null,
            "padding": null,
            "grid_auto_rows": null,
            "grid_gap": null,
            "max_width": null,
            "order": null,
            "_view_module_version": "1.2.0",
            "grid_template_areas": null,
            "object_position": null,
            "object_fit": null,
            "grid_auto_columns": null,
            "margin": null,
            "display": null,
            "left": null
          }
        },
        "ff46102cc325409982fe14e7ea6c3261": {
          "model_module": "@jupyter-widgets/controls",
          "model_name": "DescriptionStyleModel",
          "state": {
            "_view_name": "StyleView",
            "_model_name": "DescriptionStyleModel",
            "description_width": "",
            "_view_module": "@jupyter-widgets/base",
            "_model_module_version": "1.5.0",
            "_view_count": null,
            "_view_module_version": "1.2.0",
            "_model_module": "@jupyter-widgets/controls"
          }
        },
        "58178ce0f5254c68b659e4dcadfe1bf5": {
          "model_module": "@jupyter-widgets/base",
          "model_name": "LayoutModel",
          "state": {
            "_view_name": "LayoutView",
            "grid_template_rows": null,
            "right": null,
            "justify_content": null,
            "_view_module": "@jupyter-widgets/base",
            "overflow": null,
            "_model_module_version": "1.2.0",
            "_view_count": null,
            "flex_flow": null,
            "width": null,
            "min_width": null,
            "border": null,
            "align_items": null,
            "bottom": null,
            "_model_module": "@jupyter-widgets/base",
            "top": null,
            "grid_column": null,
            "overflow_y": null,
            "overflow_x": null,
            "grid_auto_flow": null,
            "grid_area": null,
            "grid_template_columns": null,
            "flex": null,
            "_model_name": "LayoutModel",
            "justify_items": null,
            "grid_row": null,
            "max_height": null,
            "align_content": null,
            "visibility": null,
            "align_self": null,
            "height": null,
            "min_height": null,
            "padding": null,
            "grid_auto_rows": null,
            "grid_gap": null,
            "max_width": null,
            "order": null,
            "_view_module_version": "1.2.0",
            "grid_template_areas": null,
            "object_position": null,
            "object_fit": null,
            "grid_auto_columns": null,
            "margin": null,
            "display": null,
            "left": null
          }
        },
        "95a56558966547ca927dc903e0850713": {
          "model_module": "@jupyter-widgets/controls",
          "model_name": "HBoxModel",
          "state": {
            "_view_name": "HBoxView",
            "_dom_classes": [],
            "_model_name": "HBoxModel",
            "_view_module": "@jupyter-widgets/controls",
            "_model_module_version": "1.5.0",
            "_view_count": null,
            "_view_module_version": "1.5.0",
            "box_style": "",
            "layout": "IPY_MODEL_3289a84ce51343c7b5e50c7cf9bcc5ab",
            "_model_module": "@jupyter-widgets/controls",
            "children": [
              "IPY_MODEL_8705f7142edc4e20ba384c3c6548d0e1",
              "IPY_MODEL_57ddc1e308cb49f0a0606c82393d9437"
            ]
          }
        },
        "3289a84ce51343c7b5e50c7cf9bcc5ab": {
          "model_module": "@jupyter-widgets/base",
          "model_name": "LayoutModel",
          "state": {
            "_view_name": "LayoutView",
            "grid_template_rows": null,
            "right": null,
            "justify_content": null,
            "_view_module": "@jupyter-widgets/base",
            "overflow": null,
            "_model_module_version": "1.2.0",
            "_view_count": null,
            "flex_flow": null,
            "width": null,
            "min_width": null,
            "border": null,
            "align_items": null,
            "bottom": null,
            "_model_module": "@jupyter-widgets/base",
            "top": null,
            "grid_column": null,
            "overflow_y": null,
            "overflow_x": null,
            "grid_auto_flow": null,
            "grid_area": null,
            "grid_template_columns": null,
            "flex": null,
            "_model_name": "LayoutModel",
            "justify_items": null,
            "grid_row": null,
            "max_height": null,
            "align_content": null,
            "visibility": null,
            "align_self": null,
            "height": null,
            "min_height": null,
            "padding": null,
            "grid_auto_rows": null,
            "grid_gap": null,
            "max_width": null,
            "order": null,
            "_view_module_version": "1.2.0",
            "grid_template_areas": null,
            "object_position": null,
            "object_fit": null,
            "grid_auto_columns": null,
            "margin": null,
            "display": null,
            "left": null
          }
        },
        "8705f7142edc4e20ba384c3c6548d0e1": {
          "model_module": "@jupyter-widgets/controls",
          "model_name": "FloatProgressModel",
          "state": {
            "_view_name": "ProgressView",
            "style": "IPY_MODEL_54c18310a3df4c99ae85771d85daf1b9",
            "_dom_classes": [],
            "description": "100%",
            "_model_name": "FloatProgressModel",
            "bar_style": "success",
            "max": 981,
            "_view_module": "@jupyter-widgets/controls",
            "_model_module_version": "1.5.0",
            "value": 981,
            "_view_count": null,
            "_view_module_version": "1.5.0",
            "orientation": "horizontal",
            "min": 0,
            "description_tooltip": null,
            "_model_module": "@jupyter-widgets/controls",
            "layout": "IPY_MODEL_4bc57ae039134ce7b56da08b1a506b95"
          }
        },
        "57ddc1e308cb49f0a0606c82393d9437": {
          "model_module": "@jupyter-widgets/controls",
          "model_name": "HTMLModel",
          "state": {
            "_view_name": "HTMLView",
            "style": "IPY_MODEL_4435824c18f0448e8067e5e8dcc74430",
            "_dom_classes": [],
            "description": "",
            "_model_name": "HTMLModel",
            "placeholder": "​",
            "_view_module": "@jupyter-widgets/controls",
            "_model_module_version": "1.5.0",
            "value": " 981/981 [43:03&lt;00:00,  2.63s/it]",
            "_view_count": null,
            "_view_module_version": "1.5.0",
            "description_tooltip": null,
            "_model_module": "@jupyter-widgets/controls",
            "layout": "IPY_MODEL_dffbf335884244cc86a8d6a293d4c66d"
          }
        },
        "54c18310a3df4c99ae85771d85daf1b9": {
          "model_module": "@jupyter-widgets/controls",
          "model_name": "ProgressStyleModel",
          "state": {
            "_view_name": "StyleView",
            "_model_name": "ProgressStyleModel",
            "description_width": "initial",
            "_view_module": "@jupyter-widgets/base",
            "_model_module_version": "1.5.0",
            "_view_count": null,
            "_view_module_version": "1.2.0",
            "bar_color": null,
            "_model_module": "@jupyter-widgets/controls"
          }
        },
        "4bc57ae039134ce7b56da08b1a506b95": {
          "model_module": "@jupyter-widgets/base",
          "model_name": "LayoutModel",
          "state": {
            "_view_name": "LayoutView",
            "grid_template_rows": null,
            "right": null,
            "justify_content": null,
            "_view_module": "@jupyter-widgets/base",
            "overflow": null,
            "_model_module_version": "1.2.0",
            "_view_count": null,
            "flex_flow": null,
            "width": null,
            "min_width": null,
            "border": null,
            "align_items": null,
            "bottom": null,
            "_model_module": "@jupyter-widgets/base",
            "top": null,
            "grid_column": null,
            "overflow_y": null,
            "overflow_x": null,
            "grid_auto_flow": null,
            "grid_area": null,
            "grid_template_columns": null,
            "flex": null,
            "_model_name": "LayoutModel",
            "justify_items": null,
            "grid_row": null,
            "max_height": null,
            "align_content": null,
            "visibility": null,
            "align_self": null,
            "height": null,
            "min_height": null,
            "padding": null,
            "grid_auto_rows": null,
            "grid_gap": null,
            "max_width": null,
            "order": null,
            "_view_module_version": "1.2.0",
            "grid_template_areas": null,
            "object_position": null,
            "object_fit": null,
            "grid_auto_columns": null,
            "margin": null,
            "display": null,
            "left": null
          }
        },
        "4435824c18f0448e8067e5e8dcc74430": {
          "model_module": "@jupyter-widgets/controls",
          "model_name": "DescriptionStyleModel",
          "state": {
            "_view_name": "StyleView",
            "_model_name": "DescriptionStyleModel",
            "description_width": "",
            "_view_module": "@jupyter-widgets/base",
            "_model_module_version": "1.5.0",
            "_view_count": null,
            "_view_module_version": "1.2.0",
            "_model_module": "@jupyter-widgets/controls"
          }
        },
        "dffbf335884244cc86a8d6a293d4c66d": {
          "model_module": "@jupyter-widgets/base",
          "model_name": "LayoutModel",
          "state": {
            "_view_name": "LayoutView",
            "grid_template_rows": null,
            "right": null,
            "justify_content": null,
            "_view_module": "@jupyter-widgets/base",
            "overflow": null,
            "_model_module_version": "1.2.0",
            "_view_count": null,
            "flex_flow": null,
            "width": null,
            "min_width": null,
            "border": null,
            "align_items": null,
            "bottom": null,
            "_model_module": "@jupyter-widgets/base",
            "top": null,
            "grid_column": null,
            "overflow_y": null,
            "overflow_x": null,
            "grid_auto_flow": null,
            "grid_area": null,
            "grid_template_columns": null,
            "flex": null,
            "_model_name": "LayoutModel",
            "justify_items": null,
            "grid_row": null,
            "max_height": null,
            "align_content": null,
            "visibility": null,
            "align_self": null,
            "height": null,
            "min_height": null,
            "padding": null,
            "grid_auto_rows": null,
            "grid_gap": null,
            "max_width": null,
            "order": null,
            "_view_module_version": "1.2.0",
            "grid_template_areas": null,
            "object_position": null,
            "object_fit": null,
            "grid_auto_columns": null,
            "margin": null,
            "display": null,
            "left": null
          }
        },
        "91b7938760c44b9bb104828e84a912ac": {
          "model_module": "@jupyter-widgets/controls",
          "model_name": "HBoxModel",
          "state": {
            "_view_name": "HBoxView",
            "_dom_classes": [],
            "_model_name": "HBoxModel",
            "_view_module": "@jupyter-widgets/controls",
            "_model_module_version": "1.5.0",
            "_view_count": null,
            "_view_module_version": "1.5.0",
            "box_style": "",
            "layout": "IPY_MODEL_7db2f9f6dc194417b25e5dcd68eb884a",
            "_model_module": "@jupyter-widgets/controls",
            "children": [
              "IPY_MODEL_cd3341f17a314da69452bee123f9c3d5",
              "IPY_MODEL_8b2e008ef65342b39dede498d7095867"
            ]
          }
        },
        "7db2f9f6dc194417b25e5dcd68eb884a": {
          "model_module": "@jupyter-widgets/base",
          "model_name": "LayoutModel",
          "state": {
            "_view_name": "LayoutView",
            "grid_template_rows": null,
            "right": null,
            "justify_content": null,
            "_view_module": "@jupyter-widgets/base",
            "overflow": null,
            "_model_module_version": "1.2.0",
            "_view_count": null,
            "flex_flow": null,
            "width": null,
            "min_width": null,
            "border": null,
            "align_items": null,
            "bottom": null,
            "_model_module": "@jupyter-widgets/base",
            "top": null,
            "grid_column": null,
            "overflow_y": null,
            "overflow_x": null,
            "grid_auto_flow": null,
            "grid_area": null,
            "grid_template_columns": null,
            "flex": null,
            "_model_name": "LayoutModel",
            "justify_items": null,
            "grid_row": null,
            "max_height": null,
            "align_content": null,
            "visibility": null,
            "align_self": null,
            "height": null,
            "min_height": null,
            "padding": null,
            "grid_auto_rows": null,
            "grid_gap": null,
            "max_width": null,
            "order": null,
            "_view_module_version": "1.2.0",
            "grid_template_areas": null,
            "object_position": null,
            "object_fit": null,
            "grid_auto_columns": null,
            "margin": null,
            "display": null,
            "left": null
          }
        },
        "cd3341f17a314da69452bee123f9c3d5": {
          "model_module": "@jupyter-widgets/controls",
          "model_name": "FloatProgressModel",
          "state": {
            "_view_name": "ProgressView",
            "style": "IPY_MODEL_868458425dad4106a42064acb747c844",
            "_dom_classes": [],
            "description": "100%",
            "_model_name": "FloatProgressModel",
            "bar_style": "success",
            "max": 981,
            "_view_module": "@jupyter-widgets/controls",
            "_model_module_version": "1.5.0",
            "value": 981,
            "_view_count": null,
            "_view_module_version": "1.5.0",
            "orientation": "horizontal",
            "min": 0,
            "description_tooltip": null,
            "_model_module": "@jupyter-widgets/controls",
            "layout": "IPY_MODEL_0ada4ec2d4ff4900a6801fa72a8deb50"
          }
        },
        "8b2e008ef65342b39dede498d7095867": {
          "model_module": "@jupyter-widgets/controls",
          "model_name": "HTMLModel",
          "state": {
            "_view_name": "HTMLView",
            "style": "IPY_MODEL_d07285672faa4913bb97d56be3f28f95",
            "_dom_classes": [],
            "description": "",
            "_model_name": "HTMLModel",
            "placeholder": "​",
            "_view_module": "@jupyter-widgets/controls",
            "_model_module_version": "1.5.0",
            "value": " 981/981 [1:02:52&lt;00:00,  3.85s/it]",
            "_view_count": null,
            "_view_module_version": "1.5.0",
            "description_tooltip": null,
            "_model_module": "@jupyter-widgets/controls",
            "layout": "IPY_MODEL_aedbd5726285430fbab49d014a83c9dd"
          }
        },
        "868458425dad4106a42064acb747c844": {
          "model_module": "@jupyter-widgets/controls",
          "model_name": "ProgressStyleModel",
          "state": {
            "_view_name": "StyleView",
            "_model_name": "ProgressStyleModel",
            "description_width": "initial",
            "_view_module": "@jupyter-widgets/base",
            "_model_module_version": "1.5.0",
            "_view_count": null,
            "_view_module_version": "1.2.0",
            "bar_color": null,
            "_model_module": "@jupyter-widgets/controls"
          }
        },
        "0ada4ec2d4ff4900a6801fa72a8deb50": {
          "model_module": "@jupyter-widgets/base",
          "model_name": "LayoutModel",
          "state": {
            "_view_name": "LayoutView",
            "grid_template_rows": null,
            "right": null,
            "justify_content": null,
            "_view_module": "@jupyter-widgets/base",
            "overflow": null,
            "_model_module_version": "1.2.0",
            "_view_count": null,
            "flex_flow": null,
            "width": null,
            "min_width": null,
            "border": null,
            "align_items": null,
            "bottom": null,
            "_model_module": "@jupyter-widgets/base",
            "top": null,
            "grid_column": null,
            "overflow_y": null,
            "overflow_x": null,
            "grid_auto_flow": null,
            "grid_area": null,
            "grid_template_columns": null,
            "flex": null,
            "_model_name": "LayoutModel",
            "justify_items": null,
            "grid_row": null,
            "max_height": null,
            "align_content": null,
            "visibility": null,
            "align_self": null,
            "height": null,
            "min_height": null,
            "padding": null,
            "grid_auto_rows": null,
            "grid_gap": null,
            "max_width": null,
            "order": null,
            "_view_module_version": "1.2.0",
            "grid_template_areas": null,
            "object_position": null,
            "object_fit": null,
            "grid_auto_columns": null,
            "margin": null,
            "display": null,
            "left": null
          }
        },
        "d07285672faa4913bb97d56be3f28f95": {
          "model_module": "@jupyter-widgets/controls",
          "model_name": "DescriptionStyleModel",
          "state": {
            "_view_name": "StyleView",
            "_model_name": "DescriptionStyleModel",
            "description_width": "",
            "_view_module": "@jupyter-widgets/base",
            "_model_module_version": "1.5.0",
            "_view_count": null,
            "_view_module_version": "1.2.0",
            "_model_module": "@jupyter-widgets/controls"
          }
        },
        "aedbd5726285430fbab49d014a83c9dd": {
          "model_module": "@jupyter-widgets/base",
          "model_name": "LayoutModel",
          "state": {
            "_view_name": "LayoutView",
            "grid_template_rows": null,
            "right": null,
            "justify_content": null,
            "_view_module": "@jupyter-widgets/base",
            "overflow": null,
            "_model_module_version": "1.2.0",
            "_view_count": null,
            "flex_flow": null,
            "width": null,
            "min_width": null,
            "border": null,
            "align_items": null,
            "bottom": null,
            "_model_module": "@jupyter-widgets/base",
            "top": null,
            "grid_column": null,
            "overflow_y": null,
            "overflow_x": null,
            "grid_auto_flow": null,
            "grid_area": null,
            "grid_template_columns": null,
            "flex": null,
            "_model_name": "LayoutModel",
            "justify_items": null,
            "grid_row": null,
            "max_height": null,
            "align_content": null,
            "visibility": null,
            "align_self": null,
            "height": null,
            "min_height": null,
            "padding": null,
            "grid_auto_rows": null,
            "grid_gap": null,
            "max_width": null,
            "order": null,
            "_view_module_version": "1.2.0",
            "grid_template_areas": null,
            "object_position": null,
            "object_fit": null,
            "grid_auto_columns": null,
            "margin": null,
            "display": null,
            "left": null
          }
        },
        "5c9509d79f944c25ab4bf81427dfb892": {
          "model_module": "@jupyter-widgets/controls",
          "model_name": "HBoxModel",
          "state": {
            "_view_name": "HBoxView",
            "_dom_classes": [],
            "_model_name": "HBoxModel",
            "_view_module": "@jupyter-widgets/controls",
            "_model_module_version": "1.5.0",
            "_view_count": null,
            "_view_module_version": "1.5.0",
            "box_style": "",
            "layout": "IPY_MODEL_a46af351249b447caa732b4442750ed3",
            "_model_module": "@jupyter-widgets/controls",
            "children": [
              "IPY_MODEL_6f2984f543d945cf85493fb135acc059",
              "IPY_MODEL_04afbc0acd8e49fb9efca172d5e7cb84"
            ]
          }
        },
        "a46af351249b447caa732b4442750ed3": {
          "model_module": "@jupyter-widgets/base",
          "model_name": "LayoutModel",
          "state": {
            "_view_name": "LayoutView",
            "grid_template_rows": null,
            "right": null,
            "justify_content": null,
            "_view_module": "@jupyter-widgets/base",
            "overflow": null,
            "_model_module_version": "1.2.0",
            "_view_count": null,
            "flex_flow": null,
            "width": null,
            "min_width": null,
            "border": null,
            "align_items": null,
            "bottom": null,
            "_model_module": "@jupyter-widgets/base",
            "top": null,
            "grid_column": null,
            "overflow_y": null,
            "overflow_x": null,
            "grid_auto_flow": null,
            "grid_area": null,
            "grid_template_columns": null,
            "flex": null,
            "_model_name": "LayoutModel",
            "justify_items": null,
            "grid_row": null,
            "max_height": null,
            "align_content": null,
            "visibility": null,
            "align_self": null,
            "height": null,
            "min_height": null,
            "padding": null,
            "grid_auto_rows": null,
            "grid_gap": null,
            "max_width": null,
            "order": null,
            "_view_module_version": "1.2.0",
            "grid_template_areas": null,
            "object_position": null,
            "object_fit": null,
            "grid_auto_columns": null,
            "margin": null,
            "display": null,
            "left": null
          }
        },
        "6f2984f543d945cf85493fb135acc059": {
          "model_module": "@jupyter-widgets/controls",
          "model_name": "FloatProgressModel",
          "state": {
            "_view_name": "ProgressView",
            "style": "IPY_MODEL_f8a3ed1c0a4543c8b83d63368ba20aba",
            "_dom_classes": [],
            "description": "100%",
            "_model_name": "FloatProgressModel",
            "bar_style": "success",
            "max": 981,
            "_view_module": "@jupyter-widgets/controls",
            "_model_module_version": "1.5.0",
            "value": 981,
            "_view_count": null,
            "_view_module_version": "1.5.0",
            "orientation": "horizontal",
            "min": 0,
            "description_tooltip": null,
            "_model_module": "@jupyter-widgets/controls",
            "layout": "IPY_MODEL_38ad85873fa448d498405281d4b13a57"
          }
        },
        "04afbc0acd8e49fb9efca172d5e7cb84": {
          "model_module": "@jupyter-widgets/controls",
          "model_name": "HTMLModel",
          "state": {
            "_view_name": "HTMLView",
            "style": "IPY_MODEL_664fb9860baa48c39f298ed5a97f2411",
            "_dom_classes": [],
            "description": "",
            "_model_name": "HTMLModel",
            "placeholder": "​",
            "_view_module": "@jupyter-widgets/controls",
            "_model_module_version": "1.5.0",
            "value": " 981/981 [06:13&lt;00:00,  2.63it/s]",
            "_view_count": null,
            "_view_module_version": "1.5.0",
            "description_tooltip": null,
            "_model_module": "@jupyter-widgets/controls",
            "layout": "IPY_MODEL_03da00b50dd64df690e6d4f32951c435"
          }
        },
        "f8a3ed1c0a4543c8b83d63368ba20aba": {
          "model_module": "@jupyter-widgets/controls",
          "model_name": "ProgressStyleModel",
          "state": {
            "_view_name": "StyleView",
            "_model_name": "ProgressStyleModel",
            "description_width": "initial",
            "_view_module": "@jupyter-widgets/base",
            "_model_module_version": "1.5.0",
            "_view_count": null,
            "_view_module_version": "1.2.0",
            "bar_color": null,
            "_model_module": "@jupyter-widgets/controls"
          }
        },
        "38ad85873fa448d498405281d4b13a57": {
          "model_module": "@jupyter-widgets/base",
          "model_name": "LayoutModel",
          "state": {
            "_view_name": "LayoutView",
            "grid_template_rows": null,
            "right": null,
            "justify_content": null,
            "_view_module": "@jupyter-widgets/base",
            "overflow": null,
            "_model_module_version": "1.2.0",
            "_view_count": null,
            "flex_flow": null,
            "width": null,
            "min_width": null,
            "border": null,
            "align_items": null,
            "bottom": null,
            "_model_module": "@jupyter-widgets/base",
            "top": null,
            "grid_column": null,
            "overflow_y": null,
            "overflow_x": null,
            "grid_auto_flow": null,
            "grid_area": null,
            "grid_template_columns": null,
            "flex": null,
            "_model_name": "LayoutModel",
            "justify_items": null,
            "grid_row": null,
            "max_height": null,
            "align_content": null,
            "visibility": null,
            "align_self": null,
            "height": null,
            "min_height": null,
            "padding": null,
            "grid_auto_rows": null,
            "grid_gap": null,
            "max_width": null,
            "order": null,
            "_view_module_version": "1.2.0",
            "grid_template_areas": null,
            "object_position": null,
            "object_fit": null,
            "grid_auto_columns": null,
            "margin": null,
            "display": null,
            "left": null
          }
        },
        "664fb9860baa48c39f298ed5a97f2411": {
          "model_module": "@jupyter-widgets/controls",
          "model_name": "DescriptionStyleModel",
          "state": {
            "_view_name": "StyleView",
            "_model_name": "DescriptionStyleModel",
            "description_width": "",
            "_view_module": "@jupyter-widgets/base",
            "_model_module_version": "1.5.0",
            "_view_count": null,
            "_view_module_version": "1.2.0",
            "_model_module": "@jupyter-widgets/controls"
          }
        },
        "03da00b50dd64df690e6d4f32951c435": {
          "model_module": "@jupyter-widgets/base",
          "model_name": "LayoutModel",
          "state": {
            "_view_name": "LayoutView",
            "grid_template_rows": null,
            "right": null,
            "justify_content": null,
            "_view_module": "@jupyter-widgets/base",
            "overflow": null,
            "_model_module_version": "1.2.0",
            "_view_count": null,
            "flex_flow": null,
            "width": null,
            "min_width": null,
            "border": null,
            "align_items": null,
            "bottom": null,
            "_model_module": "@jupyter-widgets/base",
            "top": null,
            "grid_column": null,
            "overflow_y": null,
            "overflow_x": null,
            "grid_auto_flow": null,
            "grid_area": null,
            "grid_template_columns": null,
            "flex": null,
            "_model_name": "LayoutModel",
            "justify_items": null,
            "grid_row": null,
            "max_height": null,
            "align_content": null,
            "visibility": null,
            "align_self": null,
            "height": null,
            "min_height": null,
            "padding": null,
            "grid_auto_rows": null,
            "grid_gap": null,
            "max_width": null,
            "order": null,
            "_view_module_version": "1.2.0",
            "grid_template_areas": null,
            "object_position": null,
            "object_fit": null,
            "grid_auto_columns": null,
            "margin": null,
            "display": null,
            "left": null
          }
        },
        "6ee359c6e7bd46b0b3a595c3327a3866": {
          "model_module": "@jupyter-widgets/controls",
          "model_name": "HBoxModel",
          "state": {
            "_view_name": "HBoxView",
            "_dom_classes": [],
            "_model_name": "HBoxModel",
            "_view_module": "@jupyter-widgets/controls",
            "_model_module_version": "1.5.0",
            "_view_count": null,
            "_view_module_version": "1.5.0",
            "box_style": "",
            "layout": "IPY_MODEL_ad1ab2df919149ce823709a01de631bf",
            "_model_module": "@jupyter-widgets/controls",
            "children": [
              "IPY_MODEL_144a77f0c7304daca945d35847e7254a",
              "IPY_MODEL_854dd757460a4cc886c2c3bb0b15ee52"
            ]
          }
        },
        "ad1ab2df919149ce823709a01de631bf": {
          "model_module": "@jupyter-widgets/base",
          "model_name": "LayoutModel",
          "state": {
            "_view_name": "LayoutView",
            "grid_template_rows": null,
            "right": null,
            "justify_content": null,
            "_view_module": "@jupyter-widgets/base",
            "overflow": null,
            "_model_module_version": "1.2.0",
            "_view_count": null,
            "flex_flow": null,
            "width": null,
            "min_width": null,
            "border": null,
            "align_items": null,
            "bottom": null,
            "_model_module": "@jupyter-widgets/base",
            "top": null,
            "grid_column": null,
            "overflow_y": null,
            "overflow_x": null,
            "grid_auto_flow": null,
            "grid_area": null,
            "grid_template_columns": null,
            "flex": null,
            "_model_name": "LayoutModel",
            "justify_items": null,
            "grid_row": null,
            "max_height": null,
            "align_content": null,
            "visibility": null,
            "align_self": null,
            "height": null,
            "min_height": null,
            "padding": null,
            "grid_auto_rows": null,
            "grid_gap": null,
            "max_width": null,
            "order": null,
            "_view_module_version": "1.2.0",
            "grid_template_areas": null,
            "object_position": null,
            "object_fit": null,
            "grid_auto_columns": null,
            "margin": null,
            "display": null,
            "left": null
          }
        },
        "144a77f0c7304daca945d35847e7254a": {
          "model_module": "@jupyter-widgets/controls",
          "model_name": "FloatProgressModel",
          "state": {
            "_view_name": "ProgressView",
            "style": "IPY_MODEL_1f1e24d24e63421396de08458889b17b",
            "_dom_classes": [],
            "description": "100%",
            "_model_name": "FloatProgressModel",
            "bar_style": "success",
            "max": 310,
            "_view_module": "@jupyter-widgets/controls",
            "_model_module_version": "1.5.0",
            "value": 310,
            "_view_count": null,
            "_view_module_version": "1.5.0",
            "orientation": "horizontal",
            "min": 0,
            "description_tooltip": null,
            "_model_module": "@jupyter-widgets/controls",
            "layout": "IPY_MODEL_da4dc468a9fb45b48364449abb14d667"
          }
        },
        "854dd757460a4cc886c2c3bb0b15ee52": {
          "model_module": "@jupyter-widgets/controls",
          "model_name": "HTMLModel",
          "state": {
            "_view_name": "HTMLView",
            "style": "IPY_MODEL_821a353e65694782975b8f81a927e8c7",
            "_dom_classes": [],
            "description": "",
            "_model_name": "HTMLModel",
            "placeholder": "​",
            "_view_module": "@jupyter-widgets/controls",
            "_model_module_version": "1.5.0",
            "value": " 310/310 [03:29&lt;00:00,  1.48it/s]",
            "_view_count": null,
            "_view_module_version": "1.5.0",
            "description_tooltip": null,
            "_model_module": "@jupyter-widgets/controls",
            "layout": "IPY_MODEL_8b61ef2dca3b479cb04c1aff1ad1c255"
          }
        },
        "1f1e24d24e63421396de08458889b17b": {
          "model_module": "@jupyter-widgets/controls",
          "model_name": "ProgressStyleModel",
          "state": {
            "_view_name": "StyleView",
            "_model_name": "ProgressStyleModel",
            "description_width": "initial",
            "_view_module": "@jupyter-widgets/base",
            "_model_module_version": "1.5.0",
            "_view_count": null,
            "_view_module_version": "1.2.0",
            "bar_color": null,
            "_model_module": "@jupyter-widgets/controls"
          }
        },
        "da4dc468a9fb45b48364449abb14d667": {
          "model_module": "@jupyter-widgets/base",
          "model_name": "LayoutModel",
          "state": {
            "_view_name": "LayoutView",
            "grid_template_rows": null,
            "right": null,
            "justify_content": null,
            "_view_module": "@jupyter-widgets/base",
            "overflow": null,
            "_model_module_version": "1.2.0",
            "_view_count": null,
            "flex_flow": null,
            "width": null,
            "min_width": null,
            "border": null,
            "align_items": null,
            "bottom": null,
            "_model_module": "@jupyter-widgets/base",
            "top": null,
            "grid_column": null,
            "overflow_y": null,
            "overflow_x": null,
            "grid_auto_flow": null,
            "grid_area": null,
            "grid_template_columns": null,
            "flex": null,
            "_model_name": "LayoutModel",
            "justify_items": null,
            "grid_row": null,
            "max_height": null,
            "align_content": null,
            "visibility": null,
            "align_self": null,
            "height": null,
            "min_height": null,
            "padding": null,
            "grid_auto_rows": null,
            "grid_gap": null,
            "max_width": null,
            "order": null,
            "_view_module_version": "1.2.0",
            "grid_template_areas": null,
            "object_position": null,
            "object_fit": null,
            "grid_auto_columns": null,
            "margin": null,
            "display": null,
            "left": null
          }
        },
        "821a353e65694782975b8f81a927e8c7": {
          "model_module": "@jupyter-widgets/controls",
          "model_name": "DescriptionStyleModel",
          "state": {
            "_view_name": "StyleView",
            "_model_name": "DescriptionStyleModel",
            "description_width": "",
            "_view_module": "@jupyter-widgets/base",
            "_model_module_version": "1.5.0",
            "_view_count": null,
            "_view_module_version": "1.2.0",
            "_model_module": "@jupyter-widgets/controls"
          }
        },
        "8b61ef2dca3b479cb04c1aff1ad1c255": {
          "model_module": "@jupyter-widgets/base",
          "model_name": "LayoutModel",
          "state": {
            "_view_name": "LayoutView",
            "grid_template_rows": null,
            "right": null,
            "justify_content": null,
            "_view_module": "@jupyter-widgets/base",
            "overflow": null,
            "_model_module_version": "1.2.0",
            "_view_count": null,
            "flex_flow": null,
            "width": null,
            "min_width": null,
            "border": null,
            "align_items": null,
            "bottom": null,
            "_model_module": "@jupyter-widgets/base",
            "top": null,
            "grid_column": null,
            "overflow_y": null,
            "overflow_x": null,
            "grid_auto_flow": null,
            "grid_area": null,
            "grid_template_columns": null,
            "flex": null,
            "_model_name": "LayoutModel",
            "justify_items": null,
            "grid_row": null,
            "max_height": null,
            "align_content": null,
            "visibility": null,
            "align_self": null,
            "height": null,
            "min_height": null,
            "padding": null,
            "grid_auto_rows": null,
            "grid_gap": null,
            "max_width": null,
            "order": null,
            "_view_module_version": "1.2.0",
            "grid_template_areas": null,
            "object_position": null,
            "object_fit": null,
            "grid_auto_columns": null,
            "margin": null,
            "display": null,
            "left": null
          }
        },
        "642b873ac4a643d6be41b751485c3ab5": {
          "model_module": "@jupyter-widgets/controls",
          "model_name": "HBoxModel",
          "state": {
            "_view_name": "HBoxView",
            "_dom_classes": [],
            "_model_name": "HBoxModel",
            "_view_module": "@jupyter-widgets/controls",
            "_model_module_version": "1.5.0",
            "_view_count": null,
            "_view_module_version": "1.5.0",
            "box_style": "",
            "layout": "IPY_MODEL_3247bba7e8014d4ebced5e4f14de6684",
            "_model_module": "@jupyter-widgets/controls",
            "children": [
              "IPY_MODEL_1f38f55451904f9f9d4c154edad20b3e",
              "IPY_MODEL_bfbfad122f6c4797a71ef5bf46e02fcb"
            ]
          }
        },
        "3247bba7e8014d4ebced5e4f14de6684": {
          "model_module": "@jupyter-widgets/base",
          "model_name": "LayoutModel",
          "state": {
            "_view_name": "LayoutView",
            "grid_template_rows": null,
            "right": null,
            "justify_content": null,
            "_view_module": "@jupyter-widgets/base",
            "overflow": null,
            "_model_module_version": "1.2.0",
            "_view_count": null,
            "flex_flow": null,
            "width": null,
            "min_width": null,
            "border": null,
            "align_items": null,
            "bottom": null,
            "_model_module": "@jupyter-widgets/base",
            "top": null,
            "grid_column": null,
            "overflow_y": null,
            "overflow_x": null,
            "grid_auto_flow": null,
            "grid_area": null,
            "grid_template_columns": null,
            "flex": null,
            "_model_name": "LayoutModel",
            "justify_items": null,
            "grid_row": null,
            "max_height": null,
            "align_content": null,
            "visibility": null,
            "align_self": null,
            "height": null,
            "min_height": null,
            "padding": null,
            "grid_auto_rows": null,
            "grid_gap": null,
            "max_width": null,
            "order": null,
            "_view_module_version": "1.2.0",
            "grid_template_areas": null,
            "object_position": null,
            "object_fit": null,
            "grid_auto_columns": null,
            "margin": null,
            "display": null,
            "left": null
          }
        },
        "1f38f55451904f9f9d4c154edad20b3e": {
          "model_module": "@jupyter-widgets/controls",
          "model_name": "FloatProgressModel",
          "state": {
            "_view_name": "ProgressView",
            "style": "IPY_MODEL_838391b7b9ba4672b6854c55b92cd298",
            "_dom_classes": [],
            "description": "100%",
            "_model_name": "FloatProgressModel",
            "bar_style": "success",
            "max": 379,
            "_view_module": "@jupyter-widgets/controls",
            "_model_module_version": "1.5.0",
            "value": 379,
            "_view_count": null,
            "_view_module_version": "1.5.0",
            "orientation": "horizontal",
            "min": 0,
            "description_tooltip": null,
            "_model_module": "@jupyter-widgets/controls",
            "layout": "IPY_MODEL_df3181df3bcb48939b81c0212a730617"
          }
        },
        "bfbfad122f6c4797a71ef5bf46e02fcb": {
          "model_module": "@jupyter-widgets/controls",
          "model_name": "HTMLModel",
          "state": {
            "_view_name": "HTMLView",
            "style": "IPY_MODEL_b67c3d8b06144ff0ae76e636cdf9bd69",
            "_dom_classes": [],
            "description": "",
            "_model_name": "HTMLModel",
            "placeholder": "​",
            "_view_module": "@jupyter-widgets/controls",
            "_model_module_version": "1.5.0",
            "value": " 379/379 [00:00&lt;00:00, 816.73it/s]",
            "_view_count": null,
            "_view_module_version": "1.5.0",
            "description_tooltip": null,
            "_model_module": "@jupyter-widgets/controls",
            "layout": "IPY_MODEL_73615e248847452aa6a629ca3ee8c9fa"
          }
        },
        "838391b7b9ba4672b6854c55b92cd298": {
          "model_module": "@jupyter-widgets/controls",
          "model_name": "ProgressStyleModel",
          "state": {
            "_view_name": "StyleView",
            "_model_name": "ProgressStyleModel",
            "description_width": "initial",
            "_view_module": "@jupyter-widgets/base",
            "_model_module_version": "1.5.0",
            "_view_count": null,
            "_view_module_version": "1.2.0",
            "bar_color": null,
            "_model_module": "@jupyter-widgets/controls"
          }
        },
        "df3181df3bcb48939b81c0212a730617": {
          "model_module": "@jupyter-widgets/base",
          "model_name": "LayoutModel",
          "state": {
            "_view_name": "LayoutView",
            "grid_template_rows": null,
            "right": null,
            "justify_content": null,
            "_view_module": "@jupyter-widgets/base",
            "overflow": null,
            "_model_module_version": "1.2.0",
            "_view_count": null,
            "flex_flow": null,
            "width": null,
            "min_width": null,
            "border": null,
            "align_items": null,
            "bottom": null,
            "_model_module": "@jupyter-widgets/base",
            "top": null,
            "grid_column": null,
            "overflow_y": null,
            "overflow_x": null,
            "grid_auto_flow": null,
            "grid_area": null,
            "grid_template_columns": null,
            "flex": null,
            "_model_name": "LayoutModel",
            "justify_items": null,
            "grid_row": null,
            "max_height": null,
            "align_content": null,
            "visibility": null,
            "align_self": null,
            "height": null,
            "min_height": null,
            "padding": null,
            "grid_auto_rows": null,
            "grid_gap": null,
            "max_width": null,
            "order": null,
            "_view_module_version": "1.2.0",
            "grid_template_areas": null,
            "object_position": null,
            "object_fit": null,
            "grid_auto_columns": null,
            "margin": null,
            "display": null,
            "left": null
          }
        },
        "b67c3d8b06144ff0ae76e636cdf9bd69": {
          "model_module": "@jupyter-widgets/controls",
          "model_name": "DescriptionStyleModel",
          "state": {
            "_view_name": "StyleView",
            "_model_name": "DescriptionStyleModel",
            "description_width": "",
            "_view_module": "@jupyter-widgets/base",
            "_model_module_version": "1.5.0",
            "_view_count": null,
            "_view_module_version": "1.2.0",
            "_model_module": "@jupyter-widgets/controls"
          }
        },
        "73615e248847452aa6a629ca3ee8c9fa": {
          "model_module": "@jupyter-widgets/base",
          "model_name": "LayoutModel",
          "state": {
            "_view_name": "LayoutView",
            "grid_template_rows": null,
            "right": null,
            "justify_content": null,
            "_view_module": "@jupyter-widgets/base",
            "overflow": null,
            "_model_module_version": "1.2.0",
            "_view_count": null,
            "flex_flow": null,
            "width": null,
            "min_width": null,
            "border": null,
            "align_items": null,
            "bottom": null,
            "_model_module": "@jupyter-widgets/base",
            "top": null,
            "grid_column": null,
            "overflow_y": null,
            "overflow_x": null,
            "grid_auto_flow": null,
            "grid_area": null,
            "grid_template_columns": null,
            "flex": null,
            "_model_name": "LayoutModel",
            "justify_items": null,
            "grid_row": null,
            "max_height": null,
            "align_content": null,
            "visibility": null,
            "align_self": null,
            "height": null,
            "min_height": null,
            "padding": null,
            "grid_auto_rows": null,
            "grid_gap": null,
            "max_width": null,
            "order": null,
            "_view_module_version": "1.2.0",
            "grid_template_areas": null,
            "object_position": null,
            "object_fit": null,
            "grid_auto_columns": null,
            "margin": null,
            "display": null,
            "left": null
          }
        }
      }
    }
  },
  "cells": [
    {
      "cell_type": "code",
      "metadata": {
        "id": "6WAyRTSHRvjT",
        "colab_type": "code",
        "colab": {}
      },
      "source": [
        "import pandas as pd\n",
        "import json \n",
        "from tqdm.notebook import tqdm\n",
        "from collections import Counter, defaultdict\n",
        "import numpy as np"
      ],
      "execution_count": 0,
      "outputs": []
    },
    {
      "cell_type": "code",
      "metadata": {
        "id": "RjjF7kKYSGj5",
        "colab_type": "code",
        "colab": {}
      },
      "source": [
        "neg = pd.read_csv('negex.csv', index_col = 0)\n",
        "pos = pd.read_csv('posex.csv', index_col = 0)"
      ],
      "execution_count": 0,
      "outputs": []
    },
    {
      "cell_type": "code",
      "metadata": {
        "id": "emj25EO9SuxH",
        "colab_type": "code",
        "colab": {}
      },
      "source": [
        "def splitter(sent):\n",
        "    splsent = []\n",
        "    sent = sent.split('\\n')\n",
        "    for word in sent:\n",
        "        newword = word.split('\\t')\n",
        "        splsent.append(newword)\n",
        "    return splsent"
      ],
      "execution_count": 0,
      "outputs": []
    },
    {
      "cell_type": "code",
      "metadata": {
        "id": "h4Oicms_V7Ls",
        "colab_type": "code",
        "outputId": "d93548f9-f25a-4834-d603-dfe9aaec31bd",
        "colab": {
          "base_uri": "https://localhost:8080/",
          "height": 67,
          "referenced_widgets": [
            "a4b9d0ab62b94a62a48c5e5f9aae6e54",
            "8e7024b9ec0c44769ae610ffa504810c",
            "2f1a476f95204f379f448e49134f6802",
            "010ece07c3094d73b1b7a406df49daab",
            "a3248a981b9c432497c2ef272a4d9b89",
            "cc3847b3a4bc464f96cd732aba13313f",
            "9a7ed8c21bfa4e94ae5991e1eef740f7",
            "5e7f2dc81a3f48278e6ec4ab3f98aead"
          ]
        }
      },
      "source": [
        "neg['token'] = neg['token'].apply(splitter)\n",
        "negsents = neg['token'].tolist()\n",
        "neg_verbs = []\n",
        "neg_ex = []\n",
        "for i in tqdm(range(len(negsents))):\n",
        "    for word in negsents[i]:\n",
        "        if word[3] == 'VERB':\n",
        "            neg_verbs.append(word)\n",
        "            neg_ex.append(neg['untoken'][i])"
      ],
      "execution_count": 0,
      "outputs": [
        {
          "output_type": "display_data",
          "data": {
            "application/vnd.jupyter.widget-view+json": {
              "model_id": "a4b9d0ab62b94a62a48c5e5f9aae6e54",
              "version_minor": 0,
              "version_major": 2
            },
            "text/plain": [
              "HBox(children=(FloatProgress(value=0.0, max=111923.0), HTML(value='')))"
            ]
          },
          "metadata": {
            "tags": []
          }
        },
        {
          "output_type": "stream",
          "text": [
            "\n"
          ],
          "name": "stdout"
        }
      ]
    },
    {
      "cell_type": "code",
      "metadata": {
        "id": "W7fKiJ5bWlkF",
        "colab_type": "code",
        "outputId": "1057c06d-1541-4504-855d-7626d765b699",
        "colab": {
          "base_uri": "https://localhost:8080/",
          "height": 67,
          "referenced_widgets": [
            "17d2c2bcbdfe4e95bd96792928da0ac7",
            "5a4b4ecd1798448c812f44ba1c0c0924",
            "a116663d326f473cb087622a11770ac1",
            "9706f38003e54646aec2a7e1823209bd",
            "c69a5cfb6fd84ebf8554170ef8daaff2",
            "d553c04546c44e6793fceb455c01586e",
            "abf6505ffa774d8b96130b87c038b1f8",
            "8b29f4f0a90542b1ae09e384bb01b9f6"
          ]
        }
      },
      "source": [
        "pos['token'] = pos['token'].apply(splitter)\n",
        "possents = pos['token'].tolist()\n",
        "pos_verbs = []\n",
        "pos_ex = []\n",
        "for i in tqdm(range(len(possents))):\n",
        "    for word in possents[i]:\n",
        "        if word[3] == 'VERB':\n",
        "            pos_verbs.append(word)\n",
        "            pos_ex.append(pos['untoken'][i])\n"
      ],
      "execution_count": 0,
      "outputs": [
        {
          "output_type": "display_data",
          "data": {
            "application/vnd.jupyter.widget-view+json": {
              "model_id": "17d2c2bcbdfe4e95bd96792928da0ac7",
              "version_minor": 0,
              "version_major": 2
            },
            "text/plain": [
              "HBox(children=(FloatProgress(value=0.0, max=114911.0), HTML(value='')))"
            ]
          },
          "metadata": {
            "tags": []
          }
        },
        {
          "output_type": "stream",
          "text": [
            "\n"
          ],
          "name": "stdout"
        }
      ]
    },
    {
      "cell_type": "code",
      "metadata": {
        "id": "QPPT4682X7lK",
        "colab_type": "code",
        "colab": {}
      },
      "source": [
        "neg_inf_verbs = []\n",
        "for word in neg_verbs:\n",
        "    neg_inf_verbs.append(word[2])\n",
        "pos_inf_verbs = []\n",
        "for word in pos_verbs:\n",
        "    pos_inf_verbs.append(word[2])"
      ],
      "execution_count": 0,
      "outputs": []
    },
    {
      "cell_type": "code",
      "metadata": {
        "id": "Ht6ArHK4aASc",
        "colab_type": "code",
        "colab": {}
      },
      "source": [
        "un_verbs = list(set(neg_inf_verbs) | set(pos_inf_verbs))"
      ],
      "execution_count": 0,
      "outputs": []
    },
    {
      "cell_type": "code",
      "metadata": {
        "id": "rE35sB9lY_ZO",
        "colab_type": "code",
        "outputId": "1cd8a7ae-c977-49d7-dd5c-94d093cb97c0",
        "colab": {
          "base_uri": "https://localhost:8080/",
          "height": 35
        }
      },
      "source": [
        "len(set(pos_inf_verbs))"
      ],
      "execution_count": 0,
      "outputs": [
        {
          "output_type": "execute_result",
          "data": {
            "text/plain": [
              "14956"
            ]
          },
          "metadata": {
            "tags": []
          },
          "execution_count": 133
        }
      ]
    },
    {
      "cell_type": "code",
      "metadata": {
        "id": "QwWYuYDyaRtL",
        "colab_type": "code",
        "outputId": "ecca517e-d4d9-4fc6-bb07-8554babf69bc",
        "colab": {
          "base_uri": "https://localhost:8080/",
          "height": 35
        }
      },
      "source": [
        "len(set(neg_inf_verbs))"
      ],
      "execution_count": 0,
      "outputs": [
        {
          "output_type": "execute_result",
          "data": {
            "text/plain": [
              "14335"
            ]
          },
          "metadata": {
            "tags": []
          },
          "execution_count": 134
        }
      ]
    },
    {
      "cell_type": "code",
      "metadata": {
        "id": "d9_wRc0jaZUU",
        "colab_type": "code",
        "outputId": "c5d840e9-04dc-44a4-df9c-8e4c7e00644c",
        "colab": {
          "base_uri": "https://localhost:8080/",
          "height": 35
        }
      },
      "source": [
        "len(un_verbs)"
      ],
      "execution_count": 0,
      "outputs": [
        {
          "output_type": "execute_result",
          "data": {
            "text/plain": [
              "22404"
            ]
          },
          "metadata": {
            "tags": []
          },
          "execution_count": 135
        }
      ]
    },
    {
      "cell_type": "code",
      "metadata": {
        "id": "4RJ1ZmfBZOPW",
        "colab_type": "code",
        "colab": {}
      },
      "source": [
        "neg_verbs_dict = Counter(neg_inf_verbs)\n",
        "pos_verbs_dict = Counter(pos_inf_verbs)"
      ],
      "execution_count": 0,
      "outputs": []
    },
    {
      "cell_type": "code",
      "metadata": {
        "id": "21LqAYKGbBP0",
        "colab_type": "code",
        "outputId": "9940b6eb-2116-410c-c90a-ba282b0ce108",
        "colab": {
          "base_uri": "https://localhost:8080/",
          "height": 67,
          "referenced_widgets": [
            "5f7bb8e838d64a128ac77e2bb46e9d66",
            "fd35a5971b3146c19c3ce54bd51a9b46",
            "1081573fa45d4cbea7934aa876aba5a3",
            "7f320b17c2624d93860c6a75b70c6b2a",
            "376bd5937b664b3aa214b5128bf207db",
            "c01e6727bf8d44a0a1bb15f5bf55f38f",
            "ff46102cc325409982fe14e7ea6c3261",
            "58178ce0f5254c68b659e4dcadfe1bf5"
          ]
        }
      },
      "source": [
        "verb_df = pd.DataFrame(columns = ['neg_entries', 'pos_entries'], index = un_verbs)\n",
        "for i in tqdm(range(len(un_verbs))):\n",
        "    verb_df['neg_entries'][un_verbs[i]] = neg_verbs_dict[un_verbs[i]]\n",
        "    verb_df['pos_entries'][un_verbs[i]] = pos_verbs_dict[un_verbs[i]]\n",
        "\n",
        "verb_df['summa'] = verb_df['neg_entries']+verb_df['pos_entries']"
      ],
      "execution_count": 0,
      "outputs": [
        {
          "output_type": "display_data",
          "data": {
            "application/vnd.jupyter.widget-view+json": {
              "model_id": "5f7bb8e838d64a128ac77e2bb46e9d66",
              "version_minor": 0,
              "version_major": 2
            },
            "text/plain": [
              "HBox(children=(FloatProgress(value=0.0, max=22404.0), HTML(value='')))"
            ]
          },
          "metadata": {
            "tags": []
          }
        },
        {
          "output_type": "stream",
          "text": [
            "\n"
          ],
          "name": "stdout"
        }
      ]
    },
    {
      "cell_type": "code",
      "metadata": {
        "id": "0oNVqgK1cwES",
        "colab_type": "code",
        "colab": {}
      },
      "source": [
        "verb_df = verb_df.sort_values(by = 'summa', ascending = False)\n",
        "verb_df = verb_df.loc[verb_df['summa'] > 50]\n",
        "cleaned_verbs = verb_df.index.values"
      ],
      "execution_count": 0,
      "outputs": []
    },
    {
      "cell_type": "code",
      "metadata": {
        "id": "oq2O4VJocTKX",
        "colab_type": "code",
        "outputId": "c89941ca-b4e4-4d9a-d742-b4d4c4d428d7",
        "colab": {
          "base_uri": "https://localhost:8080/",
          "height": 35
        }
      },
      "source": [
        "len(cleaned_verbs)"
      ],
      "execution_count": 0,
      "outputs": [
        {
          "output_type": "execute_result",
          "data": {
            "text/plain": [
              "981"
            ]
          },
          "metadata": {
            "tags": []
          },
          "execution_count": 139
        }
      ]
    },
    {
      "cell_type": "code",
      "metadata": {
        "id": "lnM_ySOl4_uY",
        "colab_type": "code",
        "outputId": "730ac7e8-3506-41d3-c1e5-85ebc8367a1b",
        "colab": {
          "base_uri": "https://localhost:8080/",
          "height": 67,
          "referenced_widgets": [
            "95a56558966547ca927dc903e0850713",
            "3289a84ce51343c7b5e50c7cf9bcc5ab",
            "8705f7142edc4e20ba384c3c6548d0e1",
            "57ddc1e308cb49f0a0606c82393d9437",
            "54c18310a3df4c99ae85771d85daf1b9",
            "4bc57ae039134ce7b56da08b1a506b95",
            "4435824c18f0448e8067e5e8dcc74430",
            "dffbf335884244cc86a8d6a293d4c66d"
          ]
        }
      },
      "source": [
        "verb_asp = defaultdict(list)\n",
        "verb_ex = defaultdict(list)\n",
        "\n",
        "for i in tqdm(range(len(cleaned_verbs))):\n",
        "    for sent in negsents:\n",
        "        for word in sent:\n",
        "            if word[2] == cleaned_verbs[i]:\n",
        "                verb_asp[word[2]].append(word[5])\n",
        "                verb_ex[word[2]].append(sent)\n",
        "\n",
        "    for sent in possents:\n",
        "        for word in sent:\n",
        "            if word[2] == cleaned_verbs[i]:\n",
        "                verb_asp[word[2]].append(word[5])\n",
        "                verb_ex[word[2]].append(sent)\n"
      ],
      "execution_count": 0,
      "outputs": [
        {
          "output_type": "display_data",
          "data": {
            "application/vnd.jupyter.widget-view+json": {
              "model_id": "95a56558966547ca927dc903e0850713",
              "version_minor": 0,
              "version_major": 2
            },
            "text/plain": [
              "HBox(children=(FloatProgress(value=0.0, max=981.0), HTML(value='')))"
            ]
          },
          "metadata": {
            "tags": []
          }
        },
        {
          "output_type": "stream",
          "text": [
            "\n"
          ],
          "name": "stdout"
        }
      ]
    },
    {
      "cell_type": "code",
      "metadata": {
        "id": "OhJY0EEXfmne",
        "colab_type": "code",
        "colab": {}
      },
      "source": [
        "asp_df = pd.DataFrame(columns = ['aspects', 'examples'], index = cleaned_verbs)\n",
        "for verb in cleaned_verbs:\n",
        "    asp_df['aspects'][verb] = verb_asp[verb]\n",
        "    asp_df['examples'][verb] = verb_ex[verb]"
      ],
      "execution_count": 0,
      "outputs": []
    },
    {
      "cell_type": "code",
      "metadata": {
        "id": "3B0ZK2u0vyV_",
        "colab_type": "code",
        "outputId": "0e609320-7262-430d-acaf-9b22434832d3",
        "colab": {
          "base_uri": "https://localhost:8080/",
          "height": 55
        }
      },
      "source": [
        "from google.colab import drive\n",
        "drive.mount('/drive')\n",
        "verb_df.to_csv('/drive/My Drive/Colab Notebooks/verb_df.csv')"
      ],
      "execution_count": 0,
      "outputs": [
        {
          "output_type": "stream",
          "text": [
            "Drive already mounted at /drive; to attempt to forcibly remount, call drive.mount(\"/drive\", force_remount=True).\n"
          ],
          "name": "stdout"
        }
      ]
    },
    {
      "cell_type": "code",
      "metadata": {
        "id": "8zn7R1R1wsSA",
        "colab_type": "code",
        "colab": {}
      },
      "source": [
        "def asp_extractor(dframe):\n",
        "    list_of_verbs = dframe.index.values\n",
        "    aspects = dframe['aspects'].tolist()\n",
        "    numbdict = defaultdict(list)\n",
        "    tensedict = defaultdict(list)\n",
        "    genddict = defaultdict(list)\n",
        "    voicedict = defaultdict(list)\n",
        "    persondict = defaultdict(list)\n",
        "    for i in tqdm(range(len(aspects))):\n",
        "        for z in range(len(aspects[i])):\n",
        "            singasp = aspects[i][z].split(\"|\")\n",
        "            for item in singasp:\n",
        "                new_i = item.split(\"=\")\n",
        "                if new_i[0] == 'Number':\n",
        "                    numbdict[list_of_verbs[i]].append(new_i[1])\n",
        "                if new_i[0] == 'Tense':\n",
        "                    tensedict[list_of_verbs[i]].append(new_i[1])\n",
        "                if new_i[0] == 'Gender':\n",
        "                    genddict[list_of_verbs[i]].append(new_i[1])\n",
        "                if new_i[0] == 'Voice':\n",
        "                    voicedict[list_of_verbs[i]].append(new_i[1])\n",
        "                if new_i[0] == 'Person':\n",
        "                    persondict[list_of_verbs[i]].append(new_i[1])\n",
        "            if len(numbdict[list_of_verbs[i]]) != z+1:\n",
        "                numbdict[list_of_verbs[i]].append(None)\n",
        "            if len(tensedict[list_of_verbs[i]]) != z+1:\n",
        "                tensedict[list_of_verbs[i]].append(None)\n",
        "            if len(genddict[list_of_verbs[i]]) != z+1:\n",
        "                genddict[list_of_verbs[i]].append(None)\n",
        "            if len(voicedict[list_of_verbs[i]]) != z+1:\n",
        "                voicedict[list_of_verbs[i]].append(None)\n",
        "            if len(persondict[list_of_verbs[i]]) != z+1:\n",
        "                persondict[list_of_verbs[i]].append(None)\n",
        "            \n",
        "\n",
        "    return numbdict, tensedict, genddict, voicedict, persondict"
      ],
      "execution_count": 0,
      "outputs": []
    },
    {
      "cell_type": "code",
      "metadata": {
        "id": "G39iqTY9zNyV",
        "colab_type": "code",
        "outputId": "8d8a5345-3002-41c7-f55c-9ec649899a20",
        "colab": {
          "base_uri": "https://localhost:8080/",
          "height": 67,
          "referenced_widgets": [
            "91b7938760c44b9bb104828e84a912ac",
            "7db2f9f6dc194417b25e5dcd68eb884a",
            "cd3341f17a314da69452bee123f9c3d5",
            "8b2e008ef65342b39dede498d7095867",
            "868458425dad4106a42064acb747c844",
            "0ada4ec2d4ff4900a6801fa72a8deb50",
            "d07285672faa4913bb97d56be3f28f95",
            "aedbd5726285430fbab49d014a83c9dd"
          ]
        }
      },
      "source": [
        "numbdict, tensedict, genddict, voicedict, persondict = asp_extractor(asp_df)"
      ],
      "execution_count": 0,
      "outputs": [
        {
          "output_type": "display_data",
          "data": {
            "application/vnd.jupyter.widget-view+json": {
              "model_id": "91b7938760c44b9bb104828e84a912ac",
              "version_minor": 0,
              "version_major": 2
            },
            "text/plain": [
              "HBox(children=(FloatProgress(value=0.0, max=981.0), HTML(value='')))"
            ]
          },
          "metadata": {
            "tags": []
          }
        },
        {
          "output_type": "stream",
          "text": [
            "\n"
          ],
          "name": "stdout"
        }
      ]
    },
    {
      "cell_type": "code",
      "metadata": {
        "id": "qJ0Ud2VW163r",
        "colab_type": "code",
        "colab": {}
      },
      "source": [
        "verb_df['sing'] = None\n",
        "verb_df['plur'] = None\n",
        "verb_df['none_numb'] = None\n",
        "verb_df['fut'] = None\n",
        "verb_df['pres'] = None\n",
        "verb_df['past'] = None\n",
        "verb_df['none_tense'] = None\n",
        "verb_df['1per'] = None\n",
        "verb_df['2per'] = None\n",
        "verb_df['3per'] = None\n",
        "verb_df['none_per'] = None\n",
        "verb_df['mid'] = None\n",
        "verb_df['act'] = None\n",
        "verb_df['pass'] = None\n",
        "verb_df['none_voice'] = None\n",
        "verb_df['masc'] = None\n",
        "verb_df['fem'] = None\n",
        "verb_df['neut'] = None\n",
        "verb_df['none_gend'] = None"
      ],
      "execution_count": 0,
      "outputs": []
    },
    {
      "cell_type": "code",
      "metadata": {
        "id": "ri43sMBjM5k_",
        "colab_type": "code",
        "colab": {}
      },
      "source": [
        "voicedict['хотеть']"
      ],
      "execution_count": 0,
      "outputs": []
    },
    {
      "cell_type": "code",
      "metadata": {
        "id": "i2uQuaKwLeht",
        "colab_type": "code",
        "colab": {}
      },
      "source": [
        "for verb in cleaned_verbs:\n",
        "    c = Counter(numbdict[verb])\n",
        "    verb_df['sing'][verb] = c['Sing']/len(numbdict[verb])*100\n",
        "    verb_df['plur'][verb] = c['Plur']/len(numbdict[verb])*100\n",
        "    verb_df['none_numb'][verb] = c[None]/len(numbdict[verb])*100\n",
        "    c = Counter(tensedict[verb])\n",
        "    verb_df['pres'][verb] = c['Pres']/len(tensedict[verb])*100\n",
        "    verb_df['past'][verb] = c['Past']/len(tensedict[verb])*100\n",
        "    verb_df['fut'][verb] = c['Fut']/len(tensedict[verb])*100\n",
        "    verb_df['none_tense'][verb] = c[None]/len(tensedict[verb])*100\n",
        "    c = Counter(genddict[verb])\n",
        "    verb_df['masc'][verb] = c['Masc']/len(genddict[verb])*100\n",
        "    verb_df['fem'][verb] = c['Fem']/len(genddict[verb])*100\n",
        "    verb_df['neut'][verb] = c['Neut']/len(genddict[verb])*100\n",
        "    verb_df['none_gend'][verb] = c[None]/len(genddict[verb])*100\n",
        "    c = Counter(voicedict[verb])\n",
        "    verb_df['mid'][verb] = c['Mid']/len(voicedict[verb])*100\n",
        "    verb_df['act'][verb] = c['Act']/len(voicedict[verb])*100\n",
        "    verb_df['pass'][verb] = c['Pass']/len(voicedict[verb])*100\n",
        "    verb_df['none_voice'][verb] = c[None]/len(voicedict[verb])*100\n",
        "    c = Counter(persondict[verb])\n",
        "    verb_df['1per'][verb] = c['1']/len(persondict[verb])*100\n",
        "    verb_df['2per'][verb] = c['2']/len(persondict[verb])*100\n",
        "    verb_df['3per'][verb] = c['3']/len(persondict[verb])*100\n",
        "    verb_df['none_per'][verb] = c[None]/len(persondict[verb])*100"
      ],
      "execution_count": 0,
      "outputs": []
    },
    {
      "cell_type": "code",
      "metadata": {
        "id": "EZEcZc-PhH7r",
        "colab_type": "code",
        "outputId": "e9700b9b-6e4c-4ae6-ba6c-3f3ec6281ef1",
        "colab": {
          "base_uri": "https://localhost:8080/",
          "height": 435
        }
      },
      "source": [
        "verb_df"
      ],
      "execution_count": 0,
      "outputs": [
        {
          "output_type": "execute_result",
          "data": {
            "text/html": [
              "<div>\n",
              "<style scoped>\n",
              "    .dataframe tbody tr th:only-of-type {\n",
              "        vertical-align: middle;\n",
              "    }\n",
              "\n",
              "    .dataframe tbody tr th {\n",
              "        vertical-align: top;\n",
              "    }\n",
              "\n",
              "    .dataframe thead th {\n",
              "        text-align: right;\n",
              "    }\n",
              "</style>\n",
              "<table border=\"1\" class=\"dataframe\">\n",
              "  <thead>\n",
              "    <tr style=\"text-align: right;\">\n",
              "      <th></th>\n",
              "      <th>neg_entries</th>\n",
              "      <th>pos_entries</th>\n",
              "      <th>summa</th>\n",
              "      <th>sing</th>\n",
              "      <th>plur</th>\n",
              "      <th>none_numb</th>\n",
              "      <th>fut</th>\n",
              "      <th>pres</th>\n",
              "      <th>past</th>\n",
              "      <th>none_tense</th>\n",
              "      <th>1per</th>\n",
              "      <th>2per</th>\n",
              "      <th>3per</th>\n",
              "      <th>none_per</th>\n",
              "      <th>mid</th>\n",
              "      <th>act</th>\n",
              "      <th>pass</th>\n",
              "      <th>none_voice</th>\n",
              "      <th>masc</th>\n",
              "      <th>fem</th>\n",
              "      <th>neut</th>\n",
              "      <th>none_gend</th>\n",
              "    </tr>\n",
              "  </thead>\n",
              "  <tbody>\n",
              "    <tr>\n",
              "      <th>быть</th>\n",
              "      <td>6135</td>\n",
              "      <td>7283</td>\n",
              "      <td>13418</td>\n",
              "      <td>79.8627</td>\n",
              "      <td>12.8524</td>\n",
              "      <td>7.28481</td>\n",
              "      <td>0.422308</td>\n",
              "      <td>54.3659</td>\n",
              "      <td>36.688</td>\n",
              "      <td>8.52379</td>\n",
              "      <td>15.672</td>\n",
              "      <td>3.29152</td>\n",
              "      <td>36.9054</td>\n",
              "      <td>44.1312</td>\n",
              "      <td>0.00621041</td>\n",
              "      <td>99.6367</td>\n",
              "      <td>0</td>\n",
              "      <td>0.357098</td>\n",
              "      <td>8.52068</td>\n",
              "      <td>7.35623</td>\n",
              "      <td>17.5102</td>\n",
              "      <td>66.6128</td>\n",
              "    </tr>\n",
              "    <tr>\n",
              "      <th>хотеть</th>\n",
              "      <td>7856</td>\n",
              "      <td>3572</td>\n",
              "      <td>11428</td>\n",
              "      <td>92.9352</td>\n",
              "      <td>5.98916</td>\n",
              "      <td>1.07564</td>\n",
              "      <td>0.0516307</td>\n",
              "      <td>80.4234</td>\n",
              "      <td>17.2963</td>\n",
              "      <td>2.22872</td>\n",
              "      <td>63.7553</td>\n",
              "      <td>6.54849</td>\n",
              "      <td>10.1885</td>\n",
              "      <td>19.5078</td>\n",
              "      <td>0</td>\n",
              "      <td>98.3392</td>\n",
              "      <td>0</td>\n",
              "      <td>1.66079</td>\n",
              "      <td>6.00637</td>\n",
              "      <td>10.8855</td>\n",
              "      <td>0.0430256</td>\n",
              "      <td>83.0651</td>\n",
              "    </tr>\n",
              "    <tr>\n",
              "      <th>мочь</th>\n",
              "      <td>5333</td>\n",
              "      <td>3625</td>\n",
              "      <td>8958</td>\n",
              "      <td>89.5134</td>\n",
              "      <td>10.0987</td>\n",
              "      <td>0.387984</td>\n",
              "      <td>0</td>\n",
              "      <td>88.2607</td>\n",
              "      <td>11.0076</td>\n",
              "      <td>0.731626</td>\n",
              "      <td>46.3918</td>\n",
              "      <td>6.40727</td>\n",
              "      <td>35.4728</td>\n",
              "      <td>11.7282</td>\n",
              "      <td>0</td>\n",
              "      <td>99.3016</td>\n",
              "      <td>0</td>\n",
              "      <td>0.69837</td>\n",
              "      <td>3.43643</td>\n",
              "      <td>5.02162</td>\n",
              "      <td>0.753797</td>\n",
              "      <td>90.7882</td>\n",
              "    </tr>\n",
              "    <tr>\n",
              "      <th>знать</th>\n",
              "      <td>3289</td>\n",
              "      <td>3497</td>\n",
              "      <td>6786</td>\n",
              "      <td>82.8349</td>\n",
              "      <td>10.774</td>\n",
              "      <td>6.39109</td>\n",
              "      <td>0</td>\n",
              "      <td>81.4277</td>\n",
              "      <td>11.5509</td>\n",
              "      <td>7.0214</td>\n",
              "      <td>52.3307</td>\n",
              "      <td>15.7725</td>\n",
              "      <td>13.3832</td>\n",
              "      <td>18.5136</td>\n",
              "      <td>0</td>\n",
              "      <td>99.4723</td>\n",
              "      <td>0</td>\n",
              "      <td>0.527704</td>\n",
              "      <td>3.89915</td>\n",
              "      <td>6.40575</td>\n",
              "      <td>0</td>\n",
              "      <td>89.6951</td>\n",
              "    </tr>\n",
              "    <tr>\n",
              "      <th>любить</th>\n",
              "      <td>2343</td>\n",
              "      <td>3468</td>\n",
              "      <td>5811</td>\n",
              "      <td>83.2655</td>\n",
              "      <td>11.0885</td>\n",
              "      <td>5.64598</td>\n",
              "      <td>0</td>\n",
              "      <td>88.9115</td>\n",
              "      <td>4.10309</td>\n",
              "      <td>6.98542</td>\n",
              "      <td>65.3442</td>\n",
              "      <td>7.15497</td>\n",
              "      <td>12.0888</td>\n",
              "      <td>15.412</td>\n",
              "      <td>0</td>\n",
              "      <td>94.354</td>\n",
              "      <td>4.17091</td>\n",
              "      <td>1.47508</td>\n",
              "      <td>3.22143</td>\n",
              "      <td>3.91658</td>\n",
              "      <td>0.0508647</td>\n",
              "      <td>92.8111</td>\n",
              "    </tr>\n",
              "    <tr>\n",
              "      <th>...</th>\n",
              "      <td>...</td>\n",
              "      <td>...</td>\n",
              "      <td>...</td>\n",
              "      <td>...</td>\n",
              "      <td>...</td>\n",
              "      <td>...</td>\n",
              "      <td>...</td>\n",
              "      <td>...</td>\n",
              "      <td>...</td>\n",
              "      <td>...</td>\n",
              "      <td>...</td>\n",
              "      <td>...</td>\n",
              "      <td>...</td>\n",
              "      <td>...</td>\n",
              "      <td>...</td>\n",
              "      <td>...</td>\n",
              "      <td>...</td>\n",
              "      <td>...</td>\n",
              "      <td>...</td>\n",
              "      <td>...</td>\n",
              "      <td>...</td>\n",
              "      <td>...</td>\n",
              "    </tr>\n",
              "    <tr>\n",
              "      <th>предупреждать</th>\n",
              "      <td>21</td>\n",
              "      <td>30</td>\n",
              "      <td>51</td>\n",
              "      <td>62.7451</td>\n",
              "      <td>17.6471</td>\n",
              "      <td>19.6078</td>\n",
              "      <td>0</td>\n",
              "      <td>37.2549</td>\n",
              "      <td>35.2941</td>\n",
              "      <td>27.451</td>\n",
              "      <td>19.6078</td>\n",
              "      <td>7.84314</td>\n",
              "      <td>17.6471</td>\n",
              "      <td>54.902</td>\n",
              "      <td>0</td>\n",
              "      <td>100</td>\n",
              "      <td>0</td>\n",
              "      <td>0</td>\n",
              "      <td>13.7255</td>\n",
              "      <td>15.6863</td>\n",
              "      <td>0</td>\n",
              "      <td>70.5882</td>\n",
              "    </tr>\n",
              "    <tr>\n",
              "      <th>чуять</th>\n",
              "      <td>33</td>\n",
              "      <td>18</td>\n",
              "      <td>51</td>\n",
              "      <td>100</td>\n",
              "      <td>0</td>\n",
              "      <td>0</td>\n",
              "      <td>0</td>\n",
              "      <td>88.2353</td>\n",
              "      <td>11.7647</td>\n",
              "      <td>0</td>\n",
              "      <td>72.549</td>\n",
              "      <td>0</td>\n",
              "      <td>15.6863</td>\n",
              "      <td>11.7647</td>\n",
              "      <td>0</td>\n",
              "      <td>100</td>\n",
              "      <td>0</td>\n",
              "      <td>0</td>\n",
              "      <td>7.84314</td>\n",
              "      <td>3.92157</td>\n",
              "      <td>0</td>\n",
              "      <td>88.2353</td>\n",
              "    </tr>\n",
              "    <tr>\n",
              "      <th>лопнуть</th>\n",
              "      <td>27</td>\n",
              "      <td>24</td>\n",
              "      <td>51</td>\n",
              "      <td>69.8113</td>\n",
              "      <td>24.5283</td>\n",
              "      <td>5.66038</td>\n",
              "      <td>54.717</td>\n",
              "      <td>3.77358</td>\n",
              "      <td>33.9623</td>\n",
              "      <td>7.54717</td>\n",
              "      <td>22.6415</td>\n",
              "      <td>0</td>\n",
              "      <td>35.8491</td>\n",
              "      <td>41.5094</td>\n",
              "      <td>54.717</td>\n",
              "      <td>41.5094</td>\n",
              "      <td>0</td>\n",
              "      <td>3.77358</td>\n",
              "      <td>16.9811</td>\n",
              "      <td>7.54717</td>\n",
              "      <td>3.77358</td>\n",
              "      <td>71.6981</td>\n",
              "    </tr>\n",
              "    <tr>\n",
              "      <th>палить</th>\n",
              "      <td>19</td>\n",
              "      <td>32</td>\n",
              "      <td>51</td>\n",
              "      <td>38.8889</td>\n",
              "      <td>27.7778</td>\n",
              "      <td>33.3333</td>\n",
              "      <td>11.1111</td>\n",
              "      <td>35.1852</td>\n",
              "      <td>14.8148</td>\n",
              "      <td>38.8889</td>\n",
              "      <td>14.8148</td>\n",
              "      <td>7.40741</td>\n",
              "      <td>24.0741</td>\n",
              "      <td>53.7037</td>\n",
              "      <td>0</td>\n",
              "      <td>94.4444</td>\n",
              "      <td>0</td>\n",
              "      <td>5.55556</td>\n",
              "      <td>3.7037</td>\n",
              "      <td>11.1111</td>\n",
              "      <td>1.85185</td>\n",
              "      <td>83.3333</td>\n",
              "    </tr>\n",
              "    <tr>\n",
              "      <th>воспользоваться</th>\n",
              "      <td>16</td>\n",
              "      <td>35</td>\n",
              "      <td>51</td>\n",
              "      <td>40.3846</td>\n",
              "      <td>9.61538</td>\n",
              "      <td>50</td>\n",
              "      <td>21.1538</td>\n",
              "      <td>0</td>\n",
              "      <td>26.9231</td>\n",
              "      <td>51.9231</td>\n",
              "      <td>17.3077</td>\n",
              "      <td>3.84615</td>\n",
              "      <td>1.92308</td>\n",
              "      <td>76.9231</td>\n",
              "      <td>96.1538</td>\n",
              "      <td>0</td>\n",
              "      <td>1.92308</td>\n",
              "      <td>1.92308</td>\n",
              "      <td>11.5385</td>\n",
              "      <td>9.61538</td>\n",
              "      <td>0</td>\n",
              "      <td>78.8462</td>\n",
              "    </tr>\n",
              "  </tbody>\n",
              "</table>\n",
              "<p>981 rows × 22 columns</p>\n",
              "</div>"
            ],
            "text/plain": [
              "                neg_entries pos_entries  summa  ...      fem       neut none_gend\n",
              "быть                   6135        7283  13418  ...  7.35623    17.5102   66.6128\n",
              "хотеть                 7856        3572  11428  ...  10.8855  0.0430256   83.0651\n",
              "мочь                   5333        3625   8958  ...  5.02162   0.753797   90.7882\n",
              "знать                  3289        3497   6786  ...  6.40575          0   89.6951\n",
              "любить                 2343        3468   5811  ...  3.91658  0.0508647   92.8111\n",
              "...                     ...         ...    ...  ...      ...        ...       ...\n",
              "предупреждать            21          30     51  ...  15.6863          0   70.5882\n",
              "чуять                    33          18     51  ...  3.92157          0   88.2353\n",
              "лопнуть                  27          24     51  ...  7.54717    3.77358   71.6981\n",
              "палить                   19          32     51  ...  11.1111    1.85185   83.3333\n",
              "воспользоваться          16          35     51  ...  9.61538          0   78.8462\n",
              "\n",
              "[981 rows x 22 columns]"
            ]
          },
          "metadata": {
            "tags": []
          },
          "execution_count": 43
        }
      ]
    },
    {
      "cell_type": "code",
      "metadata": {
        "id": "ap0EX6_vjH9_",
        "colab_type": "code",
        "outputId": "34b6a4a8-5fc9-4071-ef62-652dca0184df",
        "colab": {
          "base_uri": "https://localhost:8080/",
          "height": 55
        }
      },
      "source": [
        "from google.colab import drive\n",
        "drive.mount('/drive')\n",
        "verb_df.to_csv('/drive/My Drive/Colab Notebooks/verb_df_2.csv')"
      ],
      "execution_count": 0,
      "outputs": [
        {
          "output_type": "stream",
          "text": [
            "Drive already mounted at /drive; to attempt to forcibly remount, call drive.mount(\"/drive\", force_remount=True).\n"
          ],
          "name": "stdout"
        }
      ]
    },
    {
      "cell_type": "code",
      "metadata": {
        "id": "gmbSV89gO6r2",
        "colab_type": "code",
        "colab": {}
      },
      "source": [
        "verb_df = pd.read_csv('verb_df_2.csv', index_col = 0)"
      ],
      "execution_count": 0,
      "outputs": []
    },
    {
      "cell_type": "code",
      "metadata": {
        "id": "GWe7alMrPKrm",
        "colab_type": "code",
        "colab": {}
      },
      "source": [
        "verbs = verb_df.index.values"
      ],
      "execution_count": 0,
      "outputs": []
    },
    {
      "cell_type": "code",
      "metadata": {
        "id": "ZwvQEMxqnTTX",
        "colab_type": "code",
        "outputId": "2297ed03-721f-449c-bdf0-3379b51e5663",
        "colab": {
          "base_uri": "https://localhost:8080/",
          "height": 67,
          "referenced_widgets": [
            "5c9509d79f944c25ab4bf81427dfb892",
            "a46af351249b447caa732b4442750ed3",
            "6f2984f543d945cf85493fb135acc059",
            "04afbc0acd8e49fb9efca172d5e7cb84",
            "f8a3ed1c0a4543c8b83d63368ba20aba",
            "38ad85873fa448d498405281d4b13a57",
            "664fb9860baa48c39f298ed5a97f2411",
            "03da00b50dd64df690e6d4f32951c435"
          ]
        }
      },
      "source": [
        "subjdict = defaultdict(list)\n",
        "objdict = defaultdict(list)\n",
        "for i in tqdm(range(len(verbs))):\n",
        "    sents = verb_ex[verbs[i]]\n",
        "    for sent in sents:\n",
        "        for word in sent:\n",
        "            if word[7] == 'nsubj':\n",
        "                subjdict[verbs[i]].append(word[2])\n",
        "            if word[7] == 'obj':\n",
        "                objdict[verbs[i]].append(word[2])\n"
      ],
      "execution_count": 0,
      "outputs": [
        {
          "output_type": "display_data",
          "data": {
            "application/vnd.jupyter.widget-view+json": {
              "model_id": "5c9509d79f944c25ab4bf81427dfb892",
              "version_minor": 0,
              "version_major": 2
            },
            "text/plain": [
              "HBox(children=(FloatProgress(value=0.0, max=981.0), HTML(value='')))"
            ]
          },
          "metadata": {
            "tags": []
          }
        },
        {
          "output_type": "stream",
          "text": [
            "\n"
          ],
          "name": "stdout"
        }
      ]
    },
    {
      "cell_type": "code",
      "metadata": {
        "id": "NxsG88CVs4Tn",
        "colab_type": "code",
        "colab": {}
      },
      "source": [
        "objects_list = []\n",
        "fsubj_list = []\n",
        "ssubj_list = []\n",
        "for verb in verbs:\n",
        "    objects = Counter(objdict[verb]).most_common(1)\n",
        "    if len(objects) != 0:\n",
        "        objects_list.append(objects[0][0])\n",
        "    else:\n",
        "        objects_list.append(None)\n",
        "    subjects = Counter(subjdict[verb]).most_common(2)\n",
        "    if len(subjects) != 0:\n",
        "        fsubj_list.append(subjects[0][0])\n",
        "        ssubj_list.append(subjects[1][0])"
      ],
      "execution_count": 0,
      "outputs": []
    },
    {
      "cell_type": "code",
      "metadata": {
        "id": "Fmzik_D-ztFn",
        "colab_type": "code",
        "colab": {}
      },
      "source": [
        "verb_df['object'] = objects_list\n",
        "verb_df['first_subj'] = fsubj_list\n",
        "verb_df['second_subj'] = ssubj_list"
      ],
      "execution_count": 0,
      "outputs": []
    },
    {
      "cell_type": "code",
      "metadata": {
        "id": "kptLKDEkztDe",
        "colab_type": "code",
        "outputId": "122f1375-fe1f-4604-cc4e-81f79af29d60",
        "colab": {
          "base_uri": "https://localhost:8080/",
          "height": 435
        }
      },
      "source": [
        "verb_df"
      ],
      "execution_count": 0,
      "outputs": [
        {
          "output_type": "execute_result",
          "data": {
            "text/html": [
              "<div>\n",
              "<style scoped>\n",
              "    .dataframe tbody tr th:only-of-type {\n",
              "        vertical-align: middle;\n",
              "    }\n",
              "\n",
              "    .dataframe tbody tr th {\n",
              "        vertical-align: top;\n",
              "    }\n",
              "\n",
              "    .dataframe thead th {\n",
              "        text-align: right;\n",
              "    }\n",
              "</style>\n",
              "<table border=\"1\" class=\"dataframe\">\n",
              "  <thead>\n",
              "    <tr style=\"text-align: right;\">\n",
              "      <th></th>\n",
              "      <th>neg_entries</th>\n",
              "      <th>pos_entries</th>\n",
              "      <th>summa</th>\n",
              "      <th>sing</th>\n",
              "      <th>plur</th>\n",
              "      <th>none_numb</th>\n",
              "      <th>fut</th>\n",
              "      <th>pres</th>\n",
              "      <th>past</th>\n",
              "      <th>none_tense</th>\n",
              "      <th>1per</th>\n",
              "      <th>2per</th>\n",
              "      <th>3per</th>\n",
              "      <th>none_per</th>\n",
              "      <th>mid</th>\n",
              "      <th>act</th>\n",
              "      <th>pass</th>\n",
              "      <th>none_voice</th>\n",
              "      <th>masc</th>\n",
              "      <th>fem</th>\n",
              "      <th>neut</th>\n",
              "      <th>none_gend</th>\n",
              "      <th>object</th>\n",
              "      <th>first_subj</th>\n",
              "      <th>second_subj</th>\n",
              "    </tr>\n",
              "  </thead>\n",
              "  <tbody>\n",
              "    <tr>\n",
              "      <th>быть</th>\n",
              "      <td>6135</td>\n",
              "      <td>7283</td>\n",
              "      <td>13418</td>\n",
              "      <td>79.862750</td>\n",
              "      <td>12.852441</td>\n",
              "      <td>7.284809</td>\n",
              "      <td>0.422308</td>\n",
              "      <td>54.365917</td>\n",
              "      <td>36.687989</td>\n",
              "      <td>8.523786</td>\n",
              "      <td>15.671966</td>\n",
              "      <td>3.291517</td>\n",
              "      <td>36.905353</td>\n",
              "      <td>44.131164</td>\n",
              "      <td>0.006210</td>\n",
              "      <td>99.636691</td>\n",
              "      <td>0.000000</td>\n",
              "      <td>0.357098</td>\n",
              "      <td>8.520681</td>\n",
              "      <td>7.356229</td>\n",
              "      <td>17.510247</td>\n",
              "      <td>66.612843</td>\n",
              "      <td>я</td>\n",
              "      <td>я</td>\n",
              "      <td>@</td>\n",
              "    </tr>\n",
              "    <tr>\n",
              "      <th>хотеть</th>\n",
              "      <td>7856</td>\n",
              "      <td>3572</td>\n",
              "      <td>11428</td>\n",
              "      <td>92.935204</td>\n",
              "      <td>5.989158</td>\n",
              "      <td>1.075639</td>\n",
              "      <td>0.051631</td>\n",
              "      <td>80.423371</td>\n",
              "      <td>17.296274</td>\n",
              "      <td>2.228724</td>\n",
              "      <td>63.755271</td>\n",
              "      <td>6.548490</td>\n",
              "      <td>10.188452</td>\n",
              "      <td>19.507788</td>\n",
              "      <td>0.000000</td>\n",
              "      <td>98.339213</td>\n",
              "      <td>0.000000</td>\n",
              "      <td>1.660787</td>\n",
              "      <td>6.006368</td>\n",
              "      <td>10.885466</td>\n",
              "      <td>0.043026</td>\n",
              "      <td>83.065141</td>\n",
              "      <td>я</td>\n",
              "      <td>я</td>\n",
              "      <td>ты</td>\n",
              "    </tr>\n",
              "    <tr>\n",
              "      <th>мочь</th>\n",
              "      <td>5333</td>\n",
              "      <td>3625</td>\n",
              "      <td>8958</td>\n",
              "      <td>89.513358</td>\n",
              "      <td>10.098659</td>\n",
              "      <td>0.387984</td>\n",
              "      <td>0.000000</td>\n",
              "      <td>88.260725</td>\n",
              "      <td>11.007649</td>\n",
              "      <td>0.731626</td>\n",
              "      <td>46.391753</td>\n",
              "      <td>6.407272</td>\n",
              "      <td>35.472786</td>\n",
              "      <td>11.728190</td>\n",
              "      <td>0.000000</td>\n",
              "      <td>99.301630</td>\n",
              "      <td>0.000000</td>\n",
              "      <td>0.698370</td>\n",
              "      <td>3.436426</td>\n",
              "      <td>5.021616</td>\n",
              "      <td>0.753797</td>\n",
              "      <td>90.788161</td>\n",
              "      <td>я</td>\n",
              "      <td>я</td>\n",
              "      <td>@</td>\n",
              "    </tr>\n",
              "    <tr>\n",
              "      <th>знать</th>\n",
              "      <td>3289</td>\n",
              "      <td>3497</td>\n",
              "      <td>6786</td>\n",
              "      <td>82.834946</td>\n",
              "      <td>10.773967</td>\n",
              "      <td>6.391088</td>\n",
              "      <td>0.000000</td>\n",
              "      <td>81.427734</td>\n",
              "      <td>11.550865</td>\n",
              "      <td>7.021401</td>\n",
              "      <td>52.330695</td>\n",
              "      <td>15.772501</td>\n",
              "      <td>13.383172</td>\n",
              "      <td>18.513632</td>\n",
              "      <td>0.000000</td>\n",
              "      <td>99.472296</td>\n",
              "      <td>0.000000</td>\n",
              "      <td>0.527704</td>\n",
              "      <td>3.899150</td>\n",
              "      <td>6.405746</td>\n",
              "      <td>0.000000</td>\n",
              "      <td>89.695104</td>\n",
              "      <td>что</td>\n",
              "      <td>я</td>\n",
              "      <td>ты</td>\n",
              "    </tr>\n",
              "    <tr>\n",
              "      <th>любить</th>\n",
              "      <td>2343</td>\n",
              "      <td>3468</td>\n",
              "      <td>5811</td>\n",
              "      <td>83.265514</td>\n",
              "      <td>11.088505</td>\n",
              "      <td>5.645982</td>\n",
              "      <td>0.000000</td>\n",
              "      <td>88.911495</td>\n",
              "      <td>4.103086</td>\n",
              "      <td>6.985419</td>\n",
              "      <td>65.344184</td>\n",
              "      <td>7.154968</td>\n",
              "      <td>12.088844</td>\n",
              "      <td>15.412004</td>\n",
              "      <td>0.000000</td>\n",
              "      <td>94.354018</td>\n",
              "      <td>4.170905</td>\n",
              "      <td>1.475076</td>\n",
              "      <td>3.221431</td>\n",
              "      <td>3.916582</td>\n",
              "      <td>0.050865</td>\n",
              "      <td>92.811122</td>\n",
              "      <td>ты</td>\n",
              "      <td>я</td>\n",
              "      <td>ты</td>\n",
              "    </tr>\n",
              "    <tr>\n",
              "      <th>...</th>\n",
              "      <td>...</td>\n",
              "      <td>...</td>\n",
              "      <td>...</td>\n",
              "      <td>...</td>\n",
              "      <td>...</td>\n",
              "      <td>...</td>\n",
              "      <td>...</td>\n",
              "      <td>...</td>\n",
              "      <td>...</td>\n",
              "      <td>...</td>\n",
              "      <td>...</td>\n",
              "      <td>...</td>\n",
              "      <td>...</td>\n",
              "      <td>...</td>\n",
              "      <td>...</td>\n",
              "      <td>...</td>\n",
              "      <td>...</td>\n",
              "      <td>...</td>\n",
              "      <td>...</td>\n",
              "      <td>...</td>\n",
              "      <td>...</td>\n",
              "      <td>...</td>\n",
              "      <td>...</td>\n",
              "      <td>...</td>\n",
              "      <td>...</td>\n",
              "    </tr>\n",
              "    <tr>\n",
              "      <th>предупреждать</th>\n",
              "      <td>21</td>\n",
              "      <td>30</td>\n",
              "      <td>51</td>\n",
              "      <td>62.745098</td>\n",
              "      <td>17.647059</td>\n",
              "      <td>19.607843</td>\n",
              "      <td>0.000000</td>\n",
              "      <td>37.254902</td>\n",
              "      <td>35.294118</td>\n",
              "      <td>27.450980</td>\n",
              "      <td>19.607843</td>\n",
              "      <td>7.843137</td>\n",
              "      <td>17.647059</td>\n",
              "      <td>54.901961</td>\n",
              "      <td>0.000000</td>\n",
              "      <td>100.000000</td>\n",
              "      <td>0.000000</td>\n",
              "      <td>0.000000</td>\n",
              "      <td>13.725490</td>\n",
              "      <td>15.686275</td>\n",
              "      <td>0.000000</td>\n",
              "      <td>70.588235</td>\n",
              "      <td>ты</td>\n",
              "      <td>я</td>\n",
              "      <td>@</td>\n",
              "    </tr>\n",
              "    <tr>\n",
              "      <th>чуять</th>\n",
              "      <td>33</td>\n",
              "      <td>18</td>\n",
              "      <td>51</td>\n",
              "      <td>100.000000</td>\n",
              "      <td>0.000000</td>\n",
              "      <td>0.000000</td>\n",
              "      <td>0.000000</td>\n",
              "      <td>88.235294</td>\n",
              "      <td>11.764706</td>\n",
              "      <td>0.000000</td>\n",
              "      <td>72.549020</td>\n",
              "      <td>0.000000</td>\n",
              "      <td>15.686275</td>\n",
              "      <td>11.764706</td>\n",
              "      <td>0.000000</td>\n",
              "      <td>100.000000</td>\n",
              "      <td>0.000000</td>\n",
              "      <td>0.000000</td>\n",
              "      <td>7.843137</td>\n",
              "      <td>3.921569</td>\n",
              "      <td>0.000000</td>\n",
              "      <td>88.235294</td>\n",
              "      <td>я</td>\n",
              "      <td>я</td>\n",
              "      <td>выходной</td>\n",
              "    </tr>\n",
              "    <tr>\n",
              "      <th>лопнуть</th>\n",
              "      <td>27</td>\n",
              "      <td>24</td>\n",
              "      <td>51</td>\n",
              "      <td>69.811321</td>\n",
              "      <td>24.528302</td>\n",
              "      <td>5.660377</td>\n",
              "      <td>54.716981</td>\n",
              "      <td>3.773585</td>\n",
              "      <td>33.962264</td>\n",
              "      <td>7.547170</td>\n",
              "      <td>22.641509</td>\n",
              "      <td>0.000000</td>\n",
              "      <td>35.849057</td>\n",
              "      <td>41.509434</td>\n",
              "      <td>54.716981</td>\n",
              "      <td>41.509434</td>\n",
              "      <td>0.000000</td>\n",
              "      <td>3.773585</td>\n",
              "      <td>16.981132</td>\n",
              "      <td>7.547170</td>\n",
              "      <td>3.773585</td>\n",
              "      <td>71.698113</td>\n",
              "      <td>они</td>\n",
              "      <td>я</td>\n",
              "      <td>@</td>\n",
              "    </tr>\n",
              "    <tr>\n",
              "      <th>палить</th>\n",
              "      <td>19</td>\n",
              "      <td>32</td>\n",
              "      <td>51</td>\n",
              "      <td>38.888889</td>\n",
              "      <td>27.777778</td>\n",
              "      <td>33.333333</td>\n",
              "      <td>11.111111</td>\n",
              "      <td>35.185185</td>\n",
              "      <td>14.814815</td>\n",
              "      <td>38.888889</td>\n",
              "      <td>14.814815</td>\n",
              "      <td>7.407407</td>\n",
              "      <td>24.074074</td>\n",
              "      <td>53.703704</td>\n",
              "      <td>0.000000</td>\n",
              "      <td>94.444444</td>\n",
              "      <td>0.000000</td>\n",
              "      <td>5.555556</td>\n",
              "      <td>3.703704</td>\n",
              "      <td>11.111111</td>\n",
              "      <td>1.851852</td>\n",
              "      <td>83.333333</td>\n",
              "      <td>я</td>\n",
              "      <td>я</td>\n",
              "      <td>он</td>\n",
              "    </tr>\n",
              "    <tr>\n",
              "      <th>воспользоваться</th>\n",
              "      <td>16</td>\n",
              "      <td>35</td>\n",
              "      <td>51</td>\n",
              "      <td>40.384615</td>\n",
              "      <td>9.615385</td>\n",
              "      <td>50.000000</td>\n",
              "      <td>21.153846</td>\n",
              "      <td>0.000000</td>\n",
              "      <td>26.923077</td>\n",
              "      <td>51.923077</td>\n",
              "      <td>17.307692</td>\n",
              "      <td>3.846154</td>\n",
              "      <td>1.923077</td>\n",
              "      <td>76.923077</td>\n",
              "      <td>96.153846</td>\n",
              "      <td>0.000000</td>\n",
              "      <td>1.923077</td>\n",
              "      <td>1.923077</td>\n",
              "      <td>11.538462</td>\n",
              "      <td>9.615385</td>\n",
              "      <td>0.000000</td>\n",
              "      <td>78.846154</td>\n",
              "      <td>я</td>\n",
              "      <td>я</td>\n",
              "      <td>@</td>\n",
              "    </tr>\n",
              "  </tbody>\n",
              "</table>\n",
              "<p>981 rows × 25 columns</p>\n",
              "</div>"
            ],
            "text/plain": [
              "                 neg_entries  pos_entries  summa  ...  object  first_subj  second_subj\n",
              "быть                    6135         7283  13418  ...       я           я            @\n",
              "хотеть                  7856         3572  11428  ...       я           я           ты\n",
              "мочь                    5333         3625   8958  ...       я           я            @\n",
              "знать                   3289         3497   6786  ...     что           я           ты\n",
              "любить                  2343         3468   5811  ...      ты           я           ты\n",
              "...                      ...          ...    ...  ...     ...         ...          ...\n",
              "предупреждать             21           30     51  ...      ты           я            @\n",
              "чуять                     33           18     51  ...       я           я     выходной\n",
              "лопнуть                   27           24     51  ...     они           я            @\n",
              "палить                    19           32     51  ...       я           я           он\n",
              "воспользоваться           16           35     51  ...       я           я            @\n",
              "\n",
              "[981 rows x 25 columns]"
            ]
          },
          "metadata": {
            "tags": []
          },
          "execution_count": 153
        }
      ]
    },
    {
      "cell_type": "code",
      "metadata": {
        "id": "wtJG--LIPRq8",
        "colab_type": "code",
        "colab": {}
      },
      "source": [
        "f = open('frames.json',)\n",
        "data = json.load(f)\n",
        "\n",
        "elements = ['0','1']\n",
        "variants = []\n",
        "effect = []\n",
        "polarity = []\n",
        "state = []\n",
        "value = []\n",
        "rolea0 = []\n",
        "rolea1 = []\n",
        "rolea2 = []\n",
        "title = []\n",
        "\n",
        "for el in elements:\n",
        "    for i in range(200):\n",
        "        name = el + '_' + str(i)\n",
        "        if name in data:\n",
        "          if 'effect' in data[name]['frames']:\n",
        "              effect.append(data[name]['frames']['effect'])\n",
        "          else:\n",
        "              effect.append(None)\n",
        "\n",
        "          if 'polarity' in data[name]['frames']:\n",
        "              polarity.append(data[name]['frames']['polarity'])\n",
        "          else:\n",
        "              polarity.append(None)\n",
        "\n",
        "          if 'state' in data[name]['frames']:\n",
        "              state.append(data[name]['frames']['state'])\n",
        "          else:\n",
        "              state.append(None)\n",
        "\n",
        "          if 'value' in data[name]['frames']:\n",
        "              value.append(data[name]['frames']['value'])\n",
        "          else:\n",
        "              value.append(None)\n",
        "\n",
        "          if 'a0' in data[name]['roles']:\n",
        "              rolea0.append(data[name]['roles']['a0'])\n",
        "          else:\n",
        "              rolea0.append(None)\n",
        "\n",
        "          if 'a1' in data[name]['roles']:\n",
        "              rolea1.append(data[name]['roles']['a1'])\n",
        "          else:\n",
        "              rolea1.append(None)\n",
        "\n",
        "          if 'a2' in data[name]['roles']:\n",
        "              rolea2.append(data[name]['roles']['a2'])\n",
        "          else:\n",
        "              rolea2.append(None)\n",
        "\n",
        "          title.append(data[name]['title'])\n",
        "\n",
        "          variants.append(data[name]['variants'])\n",
        "\n",
        "extrdata = {'variants' : variants,\n",
        "            'title' : title,\n",
        "            'role_a0' : rolea0,\n",
        "            'role_a1' : rolea1,\n",
        "            'role_a2' : rolea2,\n",
        "            'value' : value,\n",
        "            'state' : state,\n",
        "            'polarity' : polarity,\n",
        "            'effect' : effect}\n",
        "framework = pd.DataFrame(data = extrdata)"
      ],
      "execution_count": 0,
      "outputs": []
    },
    {
      "cell_type": "code",
      "metadata": {
        "id": "bIh1WdocPZ8j",
        "colab_type": "code",
        "colab": {}
      },
      "source": [
        "frverbs = framework['variants'].tolist()\n",
        "merge = lambda ll: [el for lst in ll for el in lst]\n",
        "mergedfrverbs = list(set(merge(frverbs)))"
      ],
      "execution_count": 0,
      "outputs": []
    },
    {
      "cell_type": "code",
      "metadata": {
        "id": "ivi7dZm8kge3",
        "colab_type": "code",
        "colab": {}
      },
      "source": [
        "intersection_verbs = list(set(verbs) & set(mergedfrverbs))"
      ],
      "execution_count": 0,
      "outputs": []
    },
    {
      "cell_type": "code",
      "metadata": {
        "id": "8fzBHHD9PnTu",
        "colab_type": "code",
        "colab": {}
      },
      "source": [
        "interpos = list(set(pos_inf_verbs) & set(mergedfrverbs))"
      ],
      "execution_count": 0,
      "outputs": []
    },
    {
      "cell_type": "code",
      "metadata": {
        "id": "fi_pGOSskmsf",
        "colab_type": "code",
        "colab": {}
      },
      "source": [
        "interneg = list(set(neg_inf_verbs) & set(mergedfrverbs))"
      ],
      "execution_count": 0,
      "outputs": []
    },
    {
      "cell_type": "code",
      "metadata": {
        "id": "YXzg-TvKk_p_",
        "colab_type": "code",
        "outputId": "0f6424ee-93a8-4917-c721-ceaf18caa24d",
        "colab": {
          "base_uri": "https://localhost:8080/",
          "height": 35
        }
      },
      "source": [
        "len(list(set(interpos) & set(interneg)))"
      ],
      "execution_count": 0,
      "outputs": [
        {
          "output_type": "execute_result",
          "data": {
            "text/plain": [
              "1486"
            ]
          },
          "metadata": {
            "tags": []
          },
          "execution_count": 59
        }
      ]
    },
    {
      "cell_type": "code",
      "metadata": {
        "id": "6dy9V8FmQGRd",
        "colab_type": "code",
        "outputId": "b4daba05-4038-4fca-ddec-af6d91c999af",
        "colab": {
          "base_uri": "https://localhost:8080/",
          "height": 87
        }
      },
      "source": [
        "verb_df.columns.values"
      ],
      "execution_count": 0,
      "outputs": [
        {
          "output_type": "execute_result",
          "data": {
            "text/plain": [
              "array(['neg_entries', 'pos_entries', 'summa', 'sing', 'plur', 'none_numb',\n",
              "       'fut', 'pres', 'past', 'none_tense', '1per', '2per', '3per',\n",
              "       'none_per', 'mid', 'act', 'pass', 'none_voice', 'masc', 'fem',\n",
              "       'neut', 'none_gend'], dtype=object)"
            ]
          },
          "metadata": {
            "tags": []
          },
          "execution_count": 60
        }
      ]
    },
    {
      "cell_type": "code",
      "metadata": {
        "id": "VRNnYzI-mRhx",
        "colab_type": "code",
        "colab": {}
      },
      "source": [
        "verb_df['neg_entries'] = verb_df['neg_entries']/verb_df['summa']*100\n",
        "verb_df['pos_entries'] = verb_df['pos_entries']/verb_df['summa']*100"
      ],
      "execution_count": 0,
      "outputs": []
    },
    {
      "cell_type": "code",
      "metadata": {
        "id": "fV-kk6XYmhZs",
        "colab_type": "code",
        "colab": {}
      },
      "source": [
        "verb_df = verb_df.drop(columns = ['summa'])"
      ],
      "execution_count": 0,
      "outputs": []
    },
    {
      "cell_type": "code",
      "metadata": {
        "id": "j4Ju6YyWPuuB",
        "colab_type": "code",
        "colab": {}
      },
      "source": [
        "temp_df = verb_df.T\n",
        "train_data = pd.DataFrame(columns = verb_df.columns.values)\n",
        "for verb in intersection_verbs:\n",
        "    train_data.loc[verb] = temp_df[verb].tolist()\n",
        "verb_df = verb_df.drop(intersection_verbs, axis = 0)"
      ],
      "execution_count": 0,
      "outputs": []
    },
    {
      "cell_type": "code",
      "metadata": {
        "id": "Je9uhyI1QPxO",
        "colab_type": "code",
        "outputId": "b17af51f-2cfb-4061-cb48-70102473cdae",
        "colab": {
          "base_uri": "https://localhost:8080/",
          "height": 67,
          "referenced_widgets": [
            "6ee359c6e7bd46b0b3a595c3327a3866",
            "ad1ab2df919149ce823709a01de631bf",
            "144a77f0c7304daca945d35847e7254a",
            "854dd757460a4cc886c2c3bb0b15ee52",
            "1f1e24d24e63421396de08458889b17b",
            "da4dc468a9fb45b48364449abb14d667",
            "821a353e65694782975b8f81a927e8c7",
            "8b61ef2dca3b479cb04c1aff1ad1c255"
          ]
        }
      },
      "source": [
        "counter = []\n",
        "effects = defaultdict(list)\n",
        "for i in tqdm(range(len(frverbs))):\n",
        "    for verb in frverbs[i]:\n",
        "        if verb in intersection_verbs and verb not in counter:\n",
        "            effects[verb].append(framework[i:i+1]['effect'].tolist())\n",
        "        counter.append(verb)"
      ],
      "execution_count": 0,
      "outputs": [
        {
          "output_type": "display_data",
          "data": {
            "application/vnd.jupyter.widget-view+json": {
              "model_id": "6ee359c6e7bd46b0b3a595c3327a3866",
              "version_minor": 0,
              "version_major": 2
            },
            "text/plain": [
              "HBox(children=(FloatProgress(value=0.0, max=310.0), HTML(value='')))"
            ]
          },
          "metadata": {
            "tags": []
          }
        },
        {
          "output_type": "stream",
          "text": [
            "\n"
          ],
          "name": "stdout"
        }
      ]
    },
    {
      "cell_type": "code",
      "metadata": {
        "id": "EbVE3obCQhrz",
        "colab_type": "code",
        "outputId": "8605a59f-df7a-45f0-fd7d-a2c30bfe9048",
        "colab": {
          "base_uri": "https://localhost:8080/",
          "height": 67,
          "referenced_widgets": [
            "642b873ac4a643d6be41b751485c3ab5",
            "3247bba7e8014d4ebced5e4f14de6684",
            "1f38f55451904f9f9d4c154edad20b3e",
            "bfbfad122f6c4797a71ef5bf46e02fcb",
            "838391b7b9ba4672b6854c55b92cd298",
            "df3181df3bcb48939b81c0212a730617",
            "b67c3d8b06144ff0ae76e636cdf9bd69",
            "73615e248847452aa6a629ca3ee8c9fa"
          ]
        }
      },
      "source": [
        "a0_list = []\n",
        "a1_list = []\n",
        "for i in tqdm(range(len(intersection_verbs))):\n",
        "    if intersection_verbs[i] in list(effects.keys()):\n",
        "        k = effects[intersection_verbs[i]][0][0]\n",
        "        a0 = 0\n",
        "        a1 = 0\n",
        "        if k == None:\n",
        "            a0_list.append(a0)\n",
        "            a1_list.append(a1)\n",
        "        else:\n",
        "            for ef in k:\n",
        "                if ef[0] == 'a0':\n",
        "                    if ef[1] == '-':\n",
        "                        a0 = ef[2] * -1\n",
        "                    else:\n",
        "                        a0 = ef[2]\n",
        "                if ef[0] == 'a1':\n",
        "                    if ef[1] == '-':\n",
        "                        a1 = ef[2] * -1\n",
        "                    else:\n",
        "                        a1 = ef[2]\n",
        "            a0_list.append(a0)\n",
        "            a1_list.append(a1)"
      ],
      "execution_count": 0,
      "outputs": [
        {
          "output_type": "display_data",
          "data": {
            "application/vnd.jupyter.widget-view+json": {
              "model_id": "642b873ac4a643d6be41b751485c3ab5",
              "version_minor": 0,
              "version_major": 2
            },
            "text/plain": [
              "HBox(children=(FloatProgress(value=0.0, max=379.0), HTML(value='')))"
            ]
          },
          "metadata": {
            "tags": []
          }
        },
        {
          "output_type": "stream",
          "text": [
            "\n"
          ],
          "name": "stdout"
        }
      ]
    },
    {
      "cell_type": "code",
      "metadata": {
        "id": "YixyD4yQQman",
        "colab_type": "code",
        "colab": {}
      },
      "source": [
        "train_data['a0_effect'] = a0_list\n",
        "train_data['a1_effect'] = a1_list"
      ],
      "execution_count": 0,
      "outputs": []
    },
    {
      "cell_type": "code",
      "metadata": {
        "id": "H8GvjFeTQnrN",
        "colab_type": "code",
        "outputId": "cd388d3f-951f-4cb3-a938-73390ede7d2c",
        "colab": {
          "base_uri": "https://localhost:8080/",
          "height": 183
        }
      },
      "source": [
        "verb_df.to_csv('/drive/My Drive/Colab Notebooks/test_data_2.csv')\n",
        "train_data.to_csv('/drive/My Drive/Colab Notebooks/train_data_2.csv')"
      ],
      "execution_count": 0,
      "outputs": [
        {
          "output_type": "error",
          "ename": "NameError",
          "evalue": "ignored",
          "traceback": [
            "\u001b[0;31m---------------------------------------------------------------------------\u001b[0m",
            "\u001b[0;31mNameError\u001b[0m                                 Traceback (most recent call last)",
            "\u001b[0;32m<ipython-input-11-ea0ef4b9863d>\u001b[0m in \u001b[0;36m<module>\u001b[0;34m()\u001b[0m\n\u001b[0;32m----> 1\u001b[0;31m \u001b[0mverb_df\u001b[0m\u001b[0;34m.\u001b[0m\u001b[0mto_csv\u001b[0m\u001b[0;34m(\u001b[0m\u001b[0;34m'/drive/My Drive/Colab Notebooks/test_data_2.csv'\u001b[0m\u001b[0;34m)\u001b[0m\u001b[0;34m\u001b[0m\u001b[0;34m\u001b[0m\u001b[0m\n\u001b[0m\u001b[1;32m      2\u001b[0m \u001b[0mtrain_data\u001b[0m\u001b[0;34m.\u001b[0m\u001b[0mto_csv\u001b[0m\u001b[0;34m(\u001b[0m\u001b[0;34m'/drive/My Drive/Colab Notebooks/train_data_2.csv'\u001b[0m\u001b[0;34m)\u001b[0m\u001b[0;34m\u001b[0m\u001b[0;34m\u001b[0m\u001b[0m\n",
            "\u001b[0;31mNameError\u001b[0m: name 'verb_df' is not defined"
          ]
        }
      ]
    },
    {
      "cell_type": "code",
      "metadata": {
        "id": "lFSA5B_o9NHR",
        "colab_type": "code",
        "outputId": "627a09e9-0946-4886-cc57-fa6b8da789ed",
        "colab": {
          "base_uri": "https://localhost:8080/",
          "height": 295
        }
      },
      "source": [
        "!wget http://vectors.nlpl.eu/repository/20/180.zip\n",
        "!unzip 180.zip"
      ],
      "execution_count": 0,
      "outputs": [
        {
          "output_type": "stream",
          "text": [
            "--2020-05-30 14:35:30--  http://vectors.nlpl.eu/repository/20/180.zip\n",
            "Resolving vectors.nlpl.eu (vectors.nlpl.eu)... 129.240.189.225\n",
            "Connecting to vectors.nlpl.eu (vectors.nlpl.eu)|129.240.189.225|:80... connected.\n",
            "HTTP request sent, awaiting response... 200 OK\n",
            "Length: 484452317 (462M) [application/zip]\n",
            "Saving to: ‘180.zip’\n",
            "\n",
            "180.zip             100%[===================>] 462.01M  21.2MB/s    in 24s     \n",
            "\n",
            "2020-05-30 14:35:55 (18.9 MB/s) - ‘180.zip’ saved [484452317/484452317]\n",
            "\n",
            "Archive:  180.zip\n",
            "  inflating: meta.json               \n",
            "  inflating: model.bin               \n",
            "  inflating: model.txt               \n",
            "  inflating: README                  \n"
          ],
          "name": "stdout"
        }
      ]
    },
    {
      "cell_type": "code",
      "metadata": {
        "id": "Kg_1_yZR0Nyi",
        "colab_type": "code",
        "colab": {}
      },
      "source": [
        "test = pd.read_csv('test_data_2.csv', index_col = 0)\n",
        "train = pd.read_csv('train_data_2.csv', index_col = 0)"
      ],
      "execution_count": 0,
      "outputs": []
    },
    {
      "cell_type": "code",
      "metadata": {
        "id": "GdBZRtPSDsL6",
        "colab_type": "code",
        "colab": {}
      },
      "source": [
        "o = train['object'].tolist()\n",
        "fs = train['first_subj'].tolist()\n",
        "ss = train['second_subj'].tolist()"
      ],
      "execution_count": 0,
      "outputs": []
    },
    {
      "cell_type": "code",
      "metadata": {
        "id": "ypMbEbSUEYZZ",
        "colab_type": "code",
        "colab": {}
      },
      "source": [
        "all = list(set(o) | set(fs) | set(ss))\n",
        "Counter(all)"
      ],
      "execution_count": 0,
      "outputs": []
    },
    {
      "cell_type": "code",
      "metadata": {
        "id": "09il2l6g0xLI",
        "colab_type": "code",
        "outputId": "86e097c4-cd4f-4459-d797-2289c87169d6",
        "colab": {
          "base_uri": "https://localhost:8080/",
          "height": 72
        }
      },
      "source": [
        "from gensim.models import Word2Vec\n",
        "from gensim.models import KeyedVectors\n",
        "model = KeyedVectors.load_word2vec_format(\"model.bin\", binary=True)  # C bin format"
      ],
      "execution_count": 0,
      "outputs": [
        {
          "output_type": "stream",
          "text": [
            "/usr/local/lib/python3.6/dist-packages/smart_open/smart_open_lib.py:253: UserWarning: This function is deprecated, use smart_open.open instead. See the migration notes for details: https://github.com/RaRe-Technologies/smart_open/blob/master/README.rst#migrating-to-the-new-open-function\n",
            "  'See the migration notes for details: %s' % _MIGRATION_NOTES_URL\n"
          ],
          "name": "stderr"
        }
      ]
    },
    {
      "cell_type": "code",
      "metadata": {
        "id": "xRAo4EV1C8Kv",
        "colab_type": "code",
        "colab": {}
      },
      "source": [
        "entries = defaultdict(list)\n",
        "for i in model.wv.vocab.keys():\n",
        "   entry = i.split('_')\n",
        "   if entry[0] in all:\n",
        "      entries[entry[0]].append(model.wv[i])\n"
      ],
      "execution_count": 0,
      "outputs": []
    },
    {
      "cell_type": "code",
      "metadata": {
        "id": "GrkuWDKp5_5h",
        "colab_type": "code",
        "colab": {}
      },
      "source": [
        "for verb in train.index.values:\n",
        "    new_verb = verb+'_'+'VERB'\n",
        "    if new_verb in model.wv.vocab:\n",
        "        print(True)"
      ],
      "execution_count": 0,
      "outputs": []
    },
    {
      "cell_type": "code",
      "metadata": {
        "id": "9fnUdePU5qQ0",
        "colab_type": "code",
        "colab": {}
      },
      "source": [
        "new_obj = []\n",
        "for word in o:\n",
        "    if len(entries[word]) !=0:\n",
        "        new_obj.append(entries[word][0])\n",
        "    else:\n",
        "        new_obj.append(np.zeros(4575))\n",
        "new_fs = []\n",
        "for word in fs:\n",
        "    if len(entries[word]) !=0:\n",
        "        new_fs.append(entries[word][0])\n",
        "    else:\n",
        "        new_fs.append(np.zeros(4575))\n",
        "new_ss = []\n",
        "for word in ss:\n",
        "    if len(entries[word]) !=0:\n",
        "        new_ss.append(entries[word][0])\n",
        "    else:\n",
        "        new_ss.append(np.zeros(4575))"
      ],
      "execution_count": 0,
      "outputs": []
    },
    {
      "cell_type": "code",
      "metadata": {
        "id": "J2nkILGHIEFL",
        "colab_type": "code",
        "colab": {}
      },
      "source": [
        "train['object'] = new_obj\n",
        "train['first_subj'] = new_fs\n",
        "train['second_subj'] = new_ss"
      ],
      "execution_count": 0,
      "outputs": []
    },
    {
      "cell_type": "code",
      "metadata": {
        "id": "sE4Y_Ki-JeWn",
        "colab_type": "code",
        "colab": {}
      },
      "source": [
        "train.to_csv('/drive/My Drive/Colab Notebooks/train_data_2.csv')"
      ],
      "execution_count": 0,
      "outputs": []
    },
    {
      "cell_type": "code",
      "metadata": {
        "id": "PHxLyaUORdCG",
        "colab_type": "code",
        "colab": {}
      },
      "source": [
        "from sklearn.model_selection import train_test_split\n",
        "from sklearn.model_selection import GridSearchCV\n",
        "from sklearn.pipeline import Pipeline\n",
        "from sklearn.svm import SVC\n",
        "from imblearn.over_sampling import RandomOverSampler\n",
        "\n",
        "\n",
        "from sklearn.metrics import f1_score\n",
        "from sklearn.metrics import accuracy_score\n",
        "\n",
        "from sklearn.multioutput import MultiOutputClassifier\n",
        "from sklearn.linear_model import LogisticRegression\n",
        "from sklearn.neural_network import MLPClassifier\n",
        "from sklearn.neighbors import KNeighborsClassifier"
      ],
      "execution_count": 0,
      "outputs": []
    },
    {
      "cell_type": "code",
      "metadata": {
        "id": "1xC1_nvvJzAq",
        "colab_type": "code",
        "colab": {}
      },
      "source": [
        "def predictor_v2(model, X, y):\n",
        "    X_train, X_test, y_train, y_test = train_test_split(X, y, test_size=0.33)\n",
        "    modulation = model.fit(X_train, y_train)\n",
        "    preds = model.predict(X_test)\n",
        "    z=0\n",
        "    for i in range(len(y_test)):\n",
        "        if y_test[i].all() == preds[i].all():\n",
        "            z += 1\n",
        "    print(\"Accuracy score: \", z/len(y_test))\n",
        "    return y_test, preds"
      ],
      "execution_count": 0,
      "outputs": []
    },
    {
      "cell_type": "code",
      "metadata": {
        "id": "JzTFsuz7iAWj",
        "colab_type": "code",
        "colab": {}
      },
      "source": [
        "def to_arr (l):\n",
        "  l = np.array([l])\n",
        "  return l"
      ],
      "execution_count": 0,
      "outputs": []
    },
    {
      "cell_type": "code",
      "metadata": {
        "id": "SWV_dd-CIijz",
        "colab_type": "code",
        "colab": {}
      },
      "source": [
        "test = pd.read_csv('test_data_2.csv', index_col = 0)\n",
        "#test = test.drop(columns = ['summa'])\n",
        "train = pd.read_csv('train_data_2.csv', index_col = 0)\n",
        "train['a0_effect'] = train.apply(lambda x: round(x['a0_effect'], 0), axis = 1)\n",
        "#train = train.drop(columns = ['sing','plur','none_numb'])\n",
        "train = train.drop(columns = ['fem','masc','neut', 'none_gend'])\n",
        "train = train.drop(columns = ['past','pres','fut','none_tense'])\n",
        "#train = train.drop(columns = ['1per','2per','3per','none_per'])\n",
        "#train = train.drop(columns = ['mid','act','pass','none_voice'])\n",
        "y = train[['a0_effect',\t\"a1_effect\"]].to_numpy()\n",
        "test = test.drop(columns = ['object','first_subj','second_subj'])\n",
        "test = test.drop(columns = ['fem','masc','neut', 'none_gend'])\n",
        "test = test.drop(columns = ['past','pres','fut','none_tense'])\n",
        "XT = train.drop(columns = ['a0_effect',\t\"a1_effect\",'object','first_subj','second_subj'])"
      ],
      "execution_count": 0,
      "outputs": []
    },
    {
      "cell_type": "code",
      "metadata": {
        "id": "09dLy7fqhrlo",
        "colab_type": "code",
        "colab": {}
      },
      "source": [
        "ob = train['object'].apply(to_arr).tolist()\n",
        "fsu = train['first_subj'].apply(to_arr).tolist()\n",
        "ssu = train['second_subj'].apply(to_arr).tolist()"
      ],
      "execution_count": 0,
      "outputs": []
    },
    {
      "cell_type": "code",
      "metadata": {
        "id": "5_heMY-ZxXLo",
        "colab_type": "code",
        "colab": {}
      },
      "source": [
        "XT_new = train['object'].apply(to_arr)"
      ],
      "execution_count": 0,
      "outputs": []
    },
    {
      "cell_type": "code",
      "metadata": {
        "id": "NPbZLD9Xx0Vg",
        "colab_type": "code",
        "colab": {}
      },
      "source": [
        "y = train[[\"a1_effect\"]]"
      ],
      "execution_count": 0,
      "outputs": []
    },
    {
      "cell_type": "code",
      "metadata": {
        "id": "_pLrGTp1kVEp",
        "colab_type": "code",
        "outputId": "7e8acff2-59b9-4cef-a26e-d0786c7a22be",
        "colab": {
          "base_uri": "https://localhost:8080/",
          "height": 69
        }
      },
      "source": [
        "XT.columns.values"
      ],
      "execution_count": 0,
      "outputs": [
        {
          "output_type": "execute_result",
          "data": {
            "text/plain": [
              "array(['neg_entries', 'pos_entries', 'sing', 'plur', 'none_numb', '1per',\n",
              "       '2per', '3per', 'none_per', 'mid', 'act', 'pass', 'none_voice'],\n",
              "      dtype=object)"
            ]
          },
          "metadata": {
            "tags": []
          },
          "execution_count": 210
        }
      ]
    },
    {
      "cell_type": "code",
      "metadata": {
        "id": "HmngK7dYXjVE",
        "colab_type": "code",
        "outputId": "ec228969-3262-40e3-fb6e-0819de57f149",
        "colab": {
          "base_uri": "https://localhost:8080/",
          "height": 255
        }
      },
      "source": [
        "vectores = []\n",
        "for i in range(379):\n",
        "    vec = ob[i] + fsu[i]\n",
        "    vec = vec + ssu[i] \n",
        "    vectores.append(vec)"
      ],
      "execution_count": 0,
      "outputs": [
        {
          "output_type": "error",
          "ename": "UFuncTypeError",
          "evalue": "ignored",
          "traceback": [
            "\u001b[0;31m---------------------------------------------------------------------------\u001b[0m",
            "\u001b[0;31mUFuncTypeError\u001b[0m                            Traceback (most recent call last)",
            "\u001b[0;32m<ipython-input-191-e3a2960e7645>\u001b[0m in \u001b[0;36m<module>\u001b[0;34m()\u001b[0m\n\u001b[1;32m      1\u001b[0m \u001b[0mvectores\u001b[0m \u001b[0;34m=\u001b[0m \u001b[0;34m[\u001b[0m\u001b[0;34m]\u001b[0m\u001b[0;34m\u001b[0m\u001b[0;34m\u001b[0m\u001b[0m\n\u001b[1;32m      2\u001b[0m \u001b[0;32mfor\u001b[0m \u001b[0mi\u001b[0m \u001b[0;32min\u001b[0m \u001b[0mrange\u001b[0m\u001b[0;34m(\u001b[0m\u001b[0;36m379\u001b[0m\u001b[0;34m)\u001b[0m\u001b[0;34m:\u001b[0m\u001b[0;34m\u001b[0m\u001b[0;34m\u001b[0m\u001b[0m\n\u001b[0;32m----> 3\u001b[0;31m     \u001b[0mvec\u001b[0m \u001b[0;34m=\u001b[0m \u001b[0mob\u001b[0m\u001b[0;34m[\u001b[0m\u001b[0mi\u001b[0m\u001b[0;34m]\u001b[0m \u001b[0;34m+\u001b[0m \u001b[0mfsu\u001b[0m\u001b[0;34m[\u001b[0m\u001b[0mi\u001b[0m\u001b[0;34m]\u001b[0m\u001b[0;34m\u001b[0m\u001b[0;34m\u001b[0m\u001b[0m\n\u001b[0m\u001b[1;32m      4\u001b[0m     \u001b[0mvec\u001b[0m \u001b[0;34m=\u001b[0m \u001b[0mvec\u001b[0m \u001b[0;34m+\u001b[0m \u001b[0mssu\u001b[0m\u001b[0;34m[\u001b[0m\u001b[0mi\u001b[0m\u001b[0;34m]\u001b[0m\u001b[0;34m\u001b[0m\u001b[0;34m\u001b[0m\u001b[0m\n\u001b[1;32m      5\u001b[0m     \u001b[0mvectores\u001b[0m\u001b[0;34m.\u001b[0m\u001b[0mappend\u001b[0m\u001b[0;34m(\u001b[0m\u001b[0mvec\u001b[0m\u001b[0;34m)\u001b[0m\u001b[0;34m\u001b[0m\u001b[0;34m\u001b[0m\u001b[0m\n",
            "\u001b[0;31mUFuncTypeError\u001b[0m: ufunc 'add' did not contain a loop with signature matching types (dtype('<U23'), dtype('<U23')) -> dtype('<U23')"
          ]
        }
      ]
    },
    {
      "cell_type": "code",
      "metadata": {
        "id": "VEUijJtPJkDx",
        "colab_type": "code",
        "colab": {}
      },
      "source": [
        "KMO = MultiOutputClassifier(KNeighborsClassifier(n_neighbors = 11))\n",
        "KMO.fit(XT, y)\n",
        "preds = KMO.predict(test)"
      ],
      "execution_count": 0,
      "outputs": []
    },
    {
      "cell_type": "code",
      "metadata": {
        "id": "CpxLpiSWMUDu",
        "colab_type": "code",
        "colab": {}
      },
      "source": [
        "a0 = []\n",
        "a1 = []\n",
        "for pred in preds:\n",
        "    a0.append(pred[0])\n",
        "    a1.append(pred[1])"
      ],
      "execution_count": 0,
      "outputs": []
    },
    {
      "cell_type": "code",
      "metadata": {
        "id": "2bwgW1FxuZ0h",
        "colab_type": "code",
        "colab": {}
      },
      "source": [
        "test['predicted_a0'] = a0\n",
        "test['predicted_a1'] = a1\n",
        "pred_df = test[['neg_entries', 'pos_entries','predicted_a0', 'predicted_a1']]\n",
        "pred_df.to_csv('/drive/My Drive/Colab Notebooks/pred_DP.csv')"
      ],
      "execution_count": 0,
      "outputs": []
    }
  ]
}